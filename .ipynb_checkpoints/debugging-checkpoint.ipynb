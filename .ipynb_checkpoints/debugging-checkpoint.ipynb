{
 "cells": [
  {
   "cell_type": "code",
   "execution_count": null,
   "metadata": {},
   "outputs": [],
   "source": [
    "import time\n",
    "import pandas as pd\n",
    "from elasticsearch import Elasticsearch, helpers\n",
    "import warnings\n",
    "warnings.filterwarnings('ignore')"
   ]
  },
  {
   "cell_type": "code",
   "execution_count": null,
   "metadata": {},
   "outputs": [],
   "source": [
    "es_remote = Elasticsearch(['10.127.122.198'], \n",
    "                   port = 60500,\n",
    "                   verify_certs = False,\n",
    "                   use_ssl = True)\n",
    "es_remote.ping()"
   ]
  },
  {
   "cell_type": "code",
   "execution_count": null,
   "metadata": {},
   "outputs": [],
   "source": [
    "es_remote.info()"
   ]
  },
  {
   "cell_type": "code",
   "execution_count": null,
   "metadata": {},
   "outputs": [],
   "source": [
    "es_local = Elasticsearch()\n",
    "def bulk_baseline_data(index, mlist):\n",
    "    for m in mlist:\n",
    "    # use a `yield` generator so that the data\n",
    "    # isn't loaded into memory\n",
    "        yield {\n",
    "            \"_index\": index,\n",
    "            \"_source\": m,\n",
    "        }\n",
    "        \n",
    "es_doc_list = []\n",
    "while True:\n",
    "    thread_pool_data = es_remote.cat.thread_pool(format = 'json')\n",
    "    # df = pd.DataFrame(thread_pool_data)\n",
    "    # print(df)\n",
    "    search_pool_info = thread_pool_data[13]\n",
    "    write_pool_info = thread_pool_data[19]\n",
    "\n",
    "#     print(search_pool_info)\n",
    "#     print(write_pool_info)\n",
    "    \n",
    "    \n",
    "    jvm_data = es_remote.nodes.stats(metric = [\"jvm\"])\n",
    "    node = list(jvm_data[\"nodes\"].keys())[0]\n",
    "    jvm_mem_info = jvm_data[\"nodes\"][node][\"jvm\"][\"mem\"]\n",
    "    print(jvm_mem_info)\n",
    "    \n",
    "    es_doc = {\n",
    "        \"timestamp\": time.time(),\n",
    "        \"search_active\": search_pool_info['active'],\n",
    "        \"search_queue\": search_pool_info['queue'],\n",
    "        \"search_rejected\": search_pool_info['rejected'],\n",
    "        \"write_active\": write_pool_info['active'],\n",
    "        \"write_queue\": write_pool_info['queue'],\n",
    "        \"write_rejected\": write_pool_info['rejected'],\n",
    "        \"heap_used_percentage\": jvm_mem_info['heap_used_percent']\n",
    "    }\n",
    "    es_doc_list.append(es_doc.copy())\n",
    "    time.sleep(1)\n",
    "    if len(es_doc_list) >= 60:\n",
    "        response = helpers.bulk(es_local, bulk_baseline_data('health_monitoring', es_doc_list))\n",
    "        es_doc_list.clear()\n",
    "        print(\"Pushed {} records to elastic db\".format(response[0]))\n",
    "        "
   ]
  },
  {
   "cell_type": "code",
   "execution_count": null,
   "metadata": {},
   "outputs": [],
   "source": [
    "\n",
    "            \n"
   ]
  },
  {
   "cell_type": "code",
   "execution_count": null,
   "metadata": {},
   "outputs": [],
   "source": []
  },
  {
   "cell_type": "code",
   "execution_count": null,
   "metadata": {},
   "outputs": [],
   "source": []
  },
  {
   "cell_type": "code",
   "execution_count": null,
   "metadata": {},
   "outputs": [],
   "source": []
  },
  {
   "cell_type": "code",
   "execution_count": null,
   "metadata": {},
   "outputs": [],
   "source": [
    "es.xpack.client.monitoring.transport.hosts"
   ]
  },
  {
   "cell_type": "code",
   "execution_count": null,
   "metadata": {},
   "outputs": [],
   "source": [
    "es.transport.hosts"
   ]
  },
  {
   "cell_type": "code",
   "execution_count": null,
   "metadata": {},
   "outputs": [],
   "source": [
    "from datetime import datetime\n",
    "import time\n",
    "\n",
    "# now = datetime.now()\n",
    "now = time.time()\n",
    "print(now)\n",
    "\n",
    "new_now = now.replace(minute = (now.minute // 15) * 15, second = 0, microsecond = 0)\n",
    "print(new_now)"
   ]
  },
  {
   "cell_type": "code",
   "execution_count": null,
   "metadata": {},
   "outputs": [],
   "source": [
    "datetime.fromtimestamp(1627920326).strftime('%Y-%m-%d %H:%M:%S')"
   ]
  },
  {
   "cell_type": "code",
   "execution_count": null,
   "metadata": {},
   "outputs": [],
   "source": [
    "import time\n",
    "\n",
    "# now = datetime.now()\n",
    "now = time.localtime(time.time())\n",
    "print(now)"
   ]
  },
  {
   "cell_type": "code",
   "execution_count": null,
   "metadata": {},
   "outputs": [],
   "source": [
    "now = time.time()\n",
    "t_now = time.localtime(time.time())\n",
    "print(now, t_now)\n",
    "t_ref = (t_now.tm_year, t_now.tm_mon, t_now.tm_mday-t_now.tm_wday, 0, 0, 0, 0, 0, 0)\n",
    "ref = time.mktime(t_ref)\n",
    "print(ref, t_ref)\n",
    "\n",
    "time_diff = now - ref\n",
    "sid = int(time_diff//30)\n",
    "print(sid)"
   ]
  },
  {
   "cell_type": "code",
   "execution_count": null,
   "metadata": {},
   "outputs": [],
   "source": [
    "import numpy as np\n",
    "a = np.array([1,2,3,4])\n",
    "print(a.shape)"
   ]
  },
  {
   "cell_type": "code",
   "execution_count": null,
   "metadata": {},
   "outputs": [],
   "source": [
    "import getopt\n",
    "argv = ['h', '-c', 28, '-v', 25]\n",
    "opts, args = getopt.getopt(argv, \"hc:v:\")\n",
    "for opt, arg in opts:\n",
    "    print(opt, arg)\n"
   ]
  },
  {
   "cell_type": "code",
   "execution_count": null,
   "metadata": {},
   "outputs": [],
   "source": [
    "queryQ = {\"query\" : {\"bool\": {\"must\": []}}}\n",
    "\n",
    "queryQ"
   ]
  },
  {
   "cell_type": "code",
   "execution_count": null,
   "metadata": {},
   "outputs": [],
   "source": [
    "import pandas as pd\n",
    "from datetime import datetime\n",
    "import time\n",
    "\n",
    "\n",
    "outlier_data = [{'timestamp': 1630662896845, 'rdAvgEctOutScr': 2.8397917247301083, 'rdMaxEctOutScr': 0, 'rdAbtFailTimeoutOutScr': 0.5, 'wrAvgEctOutScr': 0, 'wrMaxEctOutScr': 0, 'wrAbtFailTimeoutOutScr': 0}, \n",
    "                {'timestamp': 1630661876845, 'rdAvgEctOutScr': 1.4600929990130465, 'rdMaxEctOutScr': 0, 'rdAbtFailTimeoutOutScr': 0, 'wrAvgEctOutScr': 3.184716406159366, 'wrMaxEctOutScr': 0, 'wrAbtFailTimeoutOutScr': 0}, \n",
    "                {'timestamp': 1630663076845, 'rdAvgEctOutScr': 2.1499423618715774, 'rdMaxEctOutScr': 0, 'rdAbtFailTimeoutOutScr': 2.0, 'wrAvgEctOutScr': 0, 'wrMaxEctOutScr': 0, 'wrAbtFailTimeoutOutScr': 0}, \n",
    "                {'timestamp': 1630662986845, 'rdAvgEctOutScr': 3.8745657690179045, 'rdMaxEctOutScr': 0, 'rdAbtFailTimeoutOutScr': 0.75, 'wrAvgEctOutScr': 0, 'wrMaxEctOutScr': 0, 'wrAbtFailTimeoutOutScr': 0}]\n",
    "    \n",
    "gte = '2021-09-03T09:31:20.000Z'\n",
    "lte = '2021-09-03T10:01:20.000Z'\n",
    "\n",
    "gte_time = datetime.strptime(gte, \"%Y-%m-%dT%H:%M:%S.%fZ\")\n",
    "gte_epoch_time = int((gte_time - datetime(1970, 1, 1)).total_seconds() * 1000)\n",
    "print(gte_time, gte_epoch_time)\n",
    "\n",
    "lte_time = datetime.strptime(lte, \"%Y-%m-%dT%H:%M:%S.%fZ\")\n",
    "lte_epoch_time = int((lte_time - datetime(1970, 1, 1)).total_seconds() * 1000)\n",
    "print(lte_time, lte_epoch_time)\n",
    "\n",
    "df = pd.DataFrame(outlier_data)\n",
    "\n",
    "ts_min = df.timestamp.min()\n",
    "ts_max = df.timestamp.max()\n",
    "\n",
    "placeholder_df = pd.DataFrame()\n",
    "while gte_epoch_time < ts_min - 30000:\n",
    "    tmp_df = pd.DataFrame([ts_min - 30000], columns=['timestamp'])\n",
    "    placeholder_df = pd.concat([placeholder_df, tmp_df])\n",
    "    ts_min -= 30000\n",
    "    \n",
    "while ts_max + 30000 < lte_epoch_time:\n",
    "    tmp_df = pd.DataFrame([ts_max + 30000], columns=['timestamp'])\n",
    "    placeholder_df = pd.concat([placeholder_df, tmp_df])\n",
    "    ts_max += 30000\n",
    "    \n",
    "count = 1\n",
    "for i in range(df.shape[0]-1):\n",
    "    while df.timestamp[i+1] > df.timestamp[i] + count*30000:\n",
    "        tmp_df = pd.DataFrame([df.timestamp[i] + count*30000], columns=['timestamp'])\n",
    "        placeholder_df = pd.concat([placeholder_df, tmp_df])\n",
    "        count += 1\n",
    "        \n",
    "# tmp_df1 = pd.DataFrame([1630661480000], columns=['timestamp'])\n",
    "# tmp_df2 = pd.DataFrame([1630663280000], columns=['timestamp'])\n",
    "# df = pd.concat([df, tmp_df1, tmp_df2])\n",
    "\n",
    "\n",
    "# r = pd.date_range(start=df.timestamp.min(), end=df.timestamp.max(), freq='30S')\n",
    "# df2 = df.set_index('timestamp').reindex(r).fillna(0).rename_axis('timestamp').reset_index()\n",
    "df = pd.concat([df, placeholder_df])\n",
    "df = df.sort_values('timestamp', axis = 0)\n",
    "df['timestamp'] = pd.to_datetime(df['timestamp'], unit='ms').dt.strftime(\"%Y-%m-%dT%H:%M:%SZ\")\n",
    "df = df.fillna(0)\n",
    "print(df.shape)"
   ]
  },
  {
   "cell_type": "code",
   "execution_count": null,
   "metadata": {},
   "outputs": [],
   "source": [
    "with pd.option_context('display.max_rows', None, 'display.max_columns', None):  # more options can be specified also\n",
    "    display(df)"
   ]
  },
  {
   "cell_type": "code",
   "execution_count": null,
   "metadata": {},
   "outputs": [],
   "source": [
    "type(df.shape[0])"
   ]
  },
  {
   "cell_type": "code",
   "execution_count": null,
   "metadata": {},
   "outputs": [],
   "source": [
    "(1630662896845 - 1630661876845)/(60 * 1000)\n"
   ]
  },
  {
   "cell_type": "code",
   "execution_count": null,
   "metadata": {},
   "outputs": [],
   "source": [
    "import pandas as pd\n",
    "import time\n",
    "from datetime import datetime\n",
    "\n",
    "\n",
    "outlier_data = [{'timestamp': 1630662896845, 'rdAvgEctOutScr': 2.8397917247301083, 'rdMaxEctOutScr': 0, 'rdAbtFailTimeoutOutScr': 0.5, 'wrAvgEctOutScr': 0, 'wrMaxEctOutScr': 0, 'wrAbtFailTimeoutOutScr': 0}, \n",
    "                {'timestamp': 1630661876845, 'rdAvgEctOutScr': 1.4600929990130465, 'rdMaxEctOutScr': 0, 'rdAbtFailTimeoutOutScr': 0, 'wrAvgEctOutScr': 3.184716406159366, 'wrMaxEctOutScr': 0, 'wrAbtFailTimeoutOutScr': 0}, \n",
    "                {'timestamp': 1630663076845, 'rdAvgEctOutScr': 2.1499423618715774, 'rdMaxEctOutScr': 0, 'rdAbtFailTimeoutOutScr': 2.0, 'wrAvgEctOutScr': 0, 'wrMaxEctOutScr': 0, 'wrAbtFailTimeoutOutScr': 0}, \n",
    "                {'timestamp': 1630662986845, 'rdAvgEctOutScr': 3.8745657690179045, 'rdMaxEctOutScr': 0, 'rdAbtFailTimeoutOutScr': 0.75, 'wrAvgEctOutScr': 0, 'wrMaxEctOutScr': 0, 'wrAbtFailTimeoutOutScr': 0}]\n",
    "\n",
    "\n",
    "    \n",
    "gte = '2021-09-03T09:31:20Z'\n",
    "lte = '2021-09-03T10:01:20Z'\n",
    "        \n",
    "df = pd.DataFrame(outlier_data)\n",
    "df['timestamp'] = pd.to_datetime(df['timestamp'], unit='ms').dt.strftime(\"%Y-%m-%dT%H:%M:%SZ\")\n",
    "\n",
    "# tmp_df1 = pd.DataFrame([gte], columns=['timestamp'])\n",
    "# tmp_df2 = pd.DataFrame([lte], columns=['timestamp'])\n",
    "# df = pd.concat([df, tmp_df1, tmp_df2])\n",
    "\n",
    "print(df.timestamp.min())\n",
    "r = pd.date_range(start=df.timestamp.min(), end=df.timestamp.max(), freq='30S')\n",
    "print(r)\n",
    "df = df.set_index('timestamp').reindex(r).rename_axis('timestamp').reset_index()\n",
    "\n",
    "\n",
    "df = df.sort_values('timestamp', axis = 0)\n",
    "df.head(100)\n"
   ]
  },
  {
   "cell_type": "code",
   "execution_count": null,
   "metadata": {},
   "outputs": [],
   "source": [
    "a = \"umang\"\n",
    "print(a[:-1])"
   ]
  },
  {
   "cell_type": "code",
   "execution_count": null,
   "metadata": {},
   "outputs": [],
   "source": [
    "umang_dict = dict()\n",
    "\n",
    "print(umang_dict)"
   ]
  },
  {
   "cell_type": "code",
   "execution_count": null,
   "metadata": {},
   "outputs": [],
   "source": [
    "import json\n",
    "import pprint\n",
    "\n",
    "with open('sample_tier_input.json') as f: \n",
    "    tier_data = json.load(f)\n",
    "    pprint.pprint(tier_data)"
   ]
  },
  {
   "cell_type": "code",
   "execution_count": null,
   "metadata": {},
   "outputs": [],
   "source": [
    "t = int(input())\n",
    "for i in range(t):\n",
    "    ans = False\n",
    "    x = input()\n",
    "    a,b,c,d,e = map(int, x.split())\n",
    "    res = [a,b,c]\n",
    "    res.sort(reverse = True)\n",
    "    i = 0\n",
    "    while i < len(res):\n",
    "        if res[i] <= e:\n",
    "            res.remove(res[i])\n",
    "            break\n",
    "        i+=1\n",
    "        \n",
    "    if len(res) == 3:\n",
    "        print(\"NO\")\n",
    "        continue\n",
    "        \n",
    "    if sum(res) <= d:\n",
    "        print(\"YES\")\n",
    "    else:\n",
    "        print(\"NO\")\n",
    "        \n",
    "        \n",
    "    "
   ]
  },
  {
   "cell_type": "code",
   "execution_count": null,
   "metadata": {},
   "outputs": [],
   "source": []
  },
  {
   "cell_type": "code",
   "execution_count": 4,
   "metadata": {},
   "outputs": [
    {
     "name": "stdout",
     "output_type": "stream",
     "text": [
      "140 ms ± 8.26 ms per loop (mean ± std. dev. of 7 runs, 10 loops each)\n",
      "125 ms ± 8.58 ms per loop (mean ± std. dev. of 7 runs, 10 loops each)\n",
      "130 ms ± 7.6 ms per loop (mean ± std. dev. of 7 runs, 10 loops each)\n"
     ]
    }
   ],
   "source": [
    "import pandas as pd\n",
    "flow_docs_list = [{'rdAvgIOPs': 33.333332, 'tier': 0, 'wrAvgIOPs': 16.666666, 'rdAvgSizePerIO': 4096, 'baselineStatus': 'init', 'wrAvgECTPerIO': 19.392, 'wrAvgSizePerIO': 8192, 'flowId': 8000, 'wrAvgInterIOGap': 1.5, 'timestamp': 1642396289733, 'rdAvgECTPerIO': 14.393, 'rdAvgInterIOGap': 1}, {'rdAvgIOPs': 33.333332, 'tier': 0, 'wrAvgIOPs': 16.666666, 'rdAvgSizePerIO': 4096, 'baselineStatus': 'init', 'wrAvgECTPerIO': 17.506, 'wrAvgSizePerIO': 8192, 'flowId': 20000, 'wrAvgInterIOGap': 1.5, 'timestamp': 1642396289733, 'rdAvgECTPerIO': 12.506, 'rdAvgInterIOGap': 1}, {'rdAvgIOPs': 33.333332, 'tier': 0, 'wrAvgIOPs': 16.666666, 'rdAvgSizePerIO': 4096, 'baselineStatus': 'init', 'wrAvgECTPerIO': 19.724, 'wrAvgSizePerIO': 8192, 'flowId': 28000, 'wrAvgInterIOGap': 1.5, 'timestamp': 1642396289733, 'rdAvgECTPerIO': 14.724, 'rdAvgInterIOGap': 1}, {'rdAvgIOPs': 33.333332, 'tier': 0, 'wrAvgIOPs': 16.666666, 'rdAvgSizePerIO': 4096, 'baselineStatus': 'init', 'wrAvgECTPerIO': 19.392, 'wrAvgSizePerIO': 8192, 'flowId': 36000, 'wrAvgInterIOGap': 1.5, 'timestamp': 1642396289733, 'rdAvgECTPerIO': 14.393, 'rdAvgInterIOGap': 1}, {'rdAvgIOPs': 33.333332, 'tier': 0, 'wrAvgIOPs': 16.666666, 'rdAvgSizePerIO': 4096, 'baselineStatus': 'init', 'wrAvgECTPerIO': 19.332, 'wrAvgSizePerIO': 8192, 'flowId': 24000, 'wrAvgInterIOGap': 1.5, 'timestamp': 1642396289733, 'rdAvgECTPerIO': 14.333, 'rdAvgInterIOGap': 1}, {'rdAvgIOPs': 33.333332, 'tier': 0, 'wrAvgIOPs': 16.666666, 'rdAvgSizePerIO': 4096, 'baselineStatus': 'init', 'wrAvgECTPerIO': 20.17, 'wrAvgSizePerIO': 8192, 'flowId': 24000, 'wrAvgInterIOGap': 1.5, 'timestamp': 1642396259733, 'rdAvgECTPerIO': 15.171, 'rdAvgInterIOGap': 1}, {'rdAvgIOPs': 33.333332, 'tier': 0, 'wrAvgIOPs': 16.666666, 'rdAvgSizePerIO': 4096, 'baselineStatus': 'init', 'wrAvgECTPerIO': 19.418, 'wrAvgSizePerIO': 8192, 'flowId': 4000, 'wrAvgInterIOGap': 1.5, 'timestamp': 1642396199733, 'rdAvgECTPerIO': 14.419, 'rdAvgInterIOGap': 1}, {'rdAvgIOPs': 33.333332, 'tier': 0, 'wrAvgIOPs': 16.666666, 'rdAvgSizePerIO': 4096, 'baselineStatus': 'init', 'wrAvgECTPerIO': 19.328, 'wrAvgSizePerIO': 8192, 'flowId': 28000, 'wrAvgInterIOGap': 1.5, 'timestamp': 1642396259733, 'rdAvgECTPerIO': 14.329, 'rdAvgInterIOGap': 1}, {'rdAvgIOPs': 33.333332, 'tier': 0, 'wrAvgIOPs': 16.666666, 'rdAvgSizePerIO': 4096, 'baselineStatus': 'init', 'wrAvgECTPerIO': 20.106, 'wrAvgSizePerIO': 8192, 'flowId': 8000, 'wrAvgInterIOGap': 1.5, 'timestamp': 1642396199733, 'rdAvgECTPerIO': 15.106, 'rdAvgInterIOGap': 1}, {'rdAvgIOPs': 33.333332, 'tier': 0, 'wrAvgIOPs': 16.666666, 'rdAvgSizePerIO': 4096, 'baselineStatus': 'init', 'wrAvgECTPerIO': 19.418, 'wrAvgSizePerIO': 8192, 'flowId': 16000, 'wrAvgInterIOGap': 1.5, 'timestamp': 1642396199733, 'rdAvgECTPerIO': 14.419, 'rdAvgInterIOGap': 1}, {'rdAvgIOPs': 33.333332, 'tier': 0, 'wrAvgIOPs': 16.666666, 'rdAvgSizePerIO': 4096, 'baselineStatus': 'init', 'wrAvgECTPerIO': 20.02, 'wrAvgSizePerIO': 8192, 'flowId': 20000, 'wrAvgInterIOGap': 1.5, 'timestamp': 1642396199733, 'rdAvgECTPerIO': 15.02, 'rdAvgInterIOGap': 1}, {'rdAvgIOPs': 33.333332, 'tier': 0, 'wrAvgIOPs': 16.666666, 'rdAvgSizePerIO': 4096, 'baselineStatus': 'init', 'wrAvgECTPerIO': 19.798, 'wrAvgSizePerIO': 8192, 'flowId': 8000, 'wrAvgInterIOGap': 1.5, 'timestamp': 1642396229733, 'rdAvgECTPerIO': 14.799, 'rdAvgInterIOGap': 1}, {'rdAvgIOPs': 33.333332, 'tier': 0, 'wrAvgIOPs': 16.666666, 'rdAvgSizePerIO': 4096, 'baselineStatus': 'init', 'wrAvgECTPerIO': 18.336, 'wrAvgSizePerIO': 8192, 'flowId': 16000, 'wrAvgInterIOGap': 1.5, 'timestamp': 1642396169733, 'rdAvgECTPerIO': 13.337, 'rdAvgInterIOGap': 1}, {'rdAvgIOPs': 33.333332, 'tier': 0, 'wrAvgIOPs': 16.666666, 'rdAvgSizePerIO': 4096, 'baselineStatus': 'init', 'wrAvgECTPerIO': 19.588, 'wrAvgSizePerIO': 8192, 'flowId': 32000, 'wrAvgInterIOGap': 1.5, 'timestamp': 1642396199733, 'rdAvgECTPerIO': 14.589, 'rdAvgInterIOGap': 1}, {'rdAvgIOPs': 33.333332, 'tier': 0, 'wrAvgIOPs': 16.666666, 'rdAvgSizePerIO': 4096, 'baselineStatus': 'init', 'wrAvgECTPerIO': 18.356, 'wrAvgSizePerIO': 8192, 'flowId': 20000, 'wrAvgInterIOGap': 1.5, 'timestamp': 1642396169733, 'rdAvgECTPerIO': 13.357, 'rdAvgInterIOGap': 1}, {'rdAvgIOPs': 33.333332, 'tier': 0, 'wrAvgIOPs': 16.666666, 'rdAvgSizePerIO': 4096, 'baselineStatus': 'init', 'wrAvgECTPerIO': 18.842, 'wrAvgSizePerIO': 8192, 'flowId': 40000, 'wrAvgInterIOGap': 1.5, 'timestamp': 1642396199733, 'rdAvgECTPerIO': 13.842, 'rdAvgInterIOGap': 1}, {'rdAvgIOPs': 33.333332, 'tier': 0, 'wrAvgIOPs': 16.666666, 'rdAvgSizePerIO': 4096, 'baselineStatus': 'init', 'wrAvgECTPerIO': 20.106, 'wrAvgSizePerIO': 8192, 'flowId': 36000, 'wrAvgInterIOGap': 1.5, 'timestamp': 1642396199733, 'rdAvgECTPerIO': 15.106, 'rdAvgInterIOGap': 1}, {'rdAvgIOPs': 33.333332, 'tier': 0, 'wrAvgIOPs': 16.666666, 'rdAvgSizePerIO': 4096, 'baselineStatus': 'init', 'wrAvgECTPerIO': 18.26, 'wrAvgSizePerIO': 8192, 'flowId': 20000, 'wrAvgInterIOGap': 1.5, 'timestamp': 1642396229733, 'rdAvgECTPerIO': 13.26, 'rdAvgInterIOGap': 1}, {'rdAvgIOPs': 33.333332, 'tier': 0, 'wrAvgIOPs': 16.666666, 'rdAvgSizePerIO': 4096, 'baselineStatus': 'init', 'wrAvgECTPerIO': 18.666, 'wrAvgSizePerIO': 8192, 'flowId': 20000, 'wrAvgInterIOGap': 1.5, 'timestamp': 1642396259733, 'rdAvgECTPerIO': 13.666, 'rdAvgInterIOGap': 1}, {'rdAvgIOPs': 33.333332, 'tier': 0, 'wrAvgIOPs': 16.666666, 'rdAvgSizePerIO': 4096, 'baselineStatus': 'init', 'wrAvgECTPerIO': 19.064, 'wrAvgSizePerIO': 8192, 'flowId': 12000, 'wrAvgInterIOGap': 1.5, 'timestamp': 1642396319733, 'rdAvgECTPerIO': 14.065, 'rdAvgInterIOGap': 1}, {'rdAvgIOPs': 33.333332, 'tier': 0, 'wrAvgIOPs': 16.666666, 'rdAvgSizePerIO': 4096, 'baselineStatus': 'init', 'wrAvgECTPerIO': 19.608, 'wrAvgSizePerIO': 8192, 'flowId': 28000, 'wrAvgInterIOGap': 1.5, 'timestamp': 1642396199733, 'rdAvgECTPerIO': 14.608, 'rdAvgInterIOGap': 1}, {'rdAvgIOPs': 33.333332, 'tier': 0, 'wrAvgIOPs': 16.666666, 'rdAvgSizePerIO': 4096, 'baselineStatus': 'init', 'wrAvgECTPerIO': 19.068, 'wrAvgSizePerIO': 8192, 'flowId': 12000, 'wrAvgInterIOGap': 1.5, 'timestamp': 1642396199733, 'rdAvgECTPerIO': 14.068, 'rdAvgInterIOGap': 1}, {'rdAvgIOPs': 33.333332, 'tier': 0, 'wrAvgIOPs': 16.666666, 'rdAvgSizePerIO': 4096, 'baselineStatus': 'init', 'wrAvgECTPerIO': 19.224, 'wrAvgSizePerIO': 8192, 'flowId': 12000, 'wrAvgInterIOGap': 1.5, 'timestamp': 1642396169733, 'rdAvgECTPerIO': 14.224, 'rdAvgInterIOGap': 1}, {'rdAvgIOPs': 33.333332, 'tier': 0, 'wrAvgIOPs': 16.666666, 'rdAvgSizePerIO': 4096, 'baselineStatus': 'init', 'wrAvgECTPerIO': 17.89, 'wrAvgSizePerIO': 8192, 'flowId': 4000, 'wrAvgInterIOGap': 1.5, 'timestamp': 1642396259733, 'rdAvgECTPerIO': 12.891, 'rdAvgInterIOGap': 1}, {'rdAvgIOPs': 33.333332, 'tier': 0, 'wrAvgIOPs': 16.666666, 'rdAvgSizePerIO': 4096, 'baselineStatus': 'init', 'wrAvgECTPerIO': 20.978, 'wrAvgSizePerIO': 8192, 'flowId': 4000, 'wrAvgInterIOGap': 1.5, 'timestamp': 1642396229733, 'rdAvgECTPerIO': 15.979, 'rdAvgInterIOGap': 1}, {'rdAvgIOPs': 33.333332, 'tier': 0, 'wrAvgIOPs': 16.666666, 'rdAvgSizePerIO': 4096, 'baselineStatus': 'init', 'wrAvgECTPerIO': 19.06, 'wrAvgSizePerIO': 8192, 'flowId': 12000, 'wrAvgInterIOGap': 1.5, 'timestamp': 1642396229733, 'rdAvgECTPerIO': 14.06, 'rdAvgInterIOGap': 1}, {'rdAvgIOPs': 33.333332, 'tier': 0, 'wrAvgIOPs': 16.666666, 'rdAvgSizePerIO': 4096, 'baselineStatus': 'init', 'wrAvgECTPerIO': 20.564, 'wrAvgSizePerIO': 8192, 'flowId': 40000, 'wrAvgInterIOGap': 1.5, 'timestamp': 1642396259733, 'rdAvgECTPerIO': 15.565, 'rdAvgInterIOGap': 1}, {'rdAvgIOPs': 33.333332, 'tier': 0, 'wrAvgIOPs': 16.666666, 'rdAvgSizePerIO': 4096, 'baselineStatus': 'init', 'wrAvgECTPerIO': 19.232, 'wrAvgSizePerIO': 8192, 'flowId': 36000, 'wrAvgInterIOGap': 1.5, 'timestamp': 1642396259733, 'rdAvgECTPerIO': 14.233, 'rdAvgInterIOGap': 1}, {'rdAvgIOPs': 33.333332, 'tier': 0, 'wrAvgIOPs': 16.666666, 'rdAvgSizePerIO': 4096, 'baselineStatus': 'init', 'wrAvgECTPerIO': 19.796, 'wrAvgSizePerIO': 8192, 'flowId': 32000, 'wrAvgInterIOGap': 1.5, 'timestamp': 1642396259733, 'rdAvgECTPerIO': 14.797, 'rdAvgInterIOGap': 1}, {'rdAvgIOPs': 33.333332, 'tier': 0, 'wrAvgIOPs': 16.666666, 'rdAvgSizePerIO': 4096, 'baselineStatus': 'init', 'wrAvgECTPerIO': 19.868, 'wrAvgSizePerIO': 8192, 'flowId': 32000, 'wrAvgInterIOGap': 1.5, 'timestamp': 1642396229733, 'rdAvgECTPerIO': 14.868, 'rdAvgInterIOGap': 1}, {'rdAvgIOPs': 33.333332, 'tier': 0, 'wrAvgIOPs': 16.666666, 'rdAvgSizePerIO': 4096, 'baselineStatus': 'init', 'wrAvgECTPerIO': 19.956, 'wrAvgSizePerIO': 8192, 'flowId': 40000, 'wrAvgInterIOGap': 1.5, 'timestamp': 1642396229733, 'rdAvgECTPerIO': 14.956, 'rdAvgInterIOGap': 1}, {'rdAvgIOPs': 33.333332, 'tier': 0, 'wrAvgIOPs': 16.666666, 'rdAvgSizePerIO': 4096, 'baselineStatus': 'init', 'wrAvgECTPerIO': 20.978, 'wrAvgSizePerIO': 8192, 'flowId': 16000, 'wrAvgInterIOGap': 1.5, 'timestamp': 1642396229733, 'rdAvgECTPerIO': 15.979, 'rdAvgInterIOGap': 1}, {'rdAvgIOPs': 33.333332, 'tier': 0, 'wrAvgIOPs': 16.666666, 'rdAvgSizePerIO': 4096, 'baselineStatus': 'init', 'wrAvgECTPerIO': 19.848, 'wrAvgSizePerIO': 8192, 'flowId': 28000, 'wrAvgInterIOGap': 1.5, 'timestamp': 1642396229733, 'rdAvgECTPerIO': 14.849, 'rdAvgInterIOGap': 1}, {'rdAvgIOPs': 33.333332, 'tier': 0, 'wrAvgIOPs': 16.666666, 'rdAvgSizePerIO': 4096, 'baselineStatus': 'init', 'wrAvgECTPerIO': 20.17, 'wrAvgSizePerIO': 8192, 'flowId': 12000, 'wrAvgInterIOGap': 1.5, 'timestamp': 1642396259733, 'rdAvgECTPerIO': 15.171, 'rdAvgInterIOGap': 1}, {'rdAvgIOPs': 33.333332, 'tier': 0, 'wrAvgIOPs': 16.666666, 'rdAvgSizePerIO': 4096, 'baselineStatus': 'init', 'wrAvgECTPerIO': 18.492, 'wrAvgSizePerIO': 8192, 'flowId': 8000, 'wrAvgInterIOGap': 1.5, 'timestamp': 1642396319733, 'rdAvgECTPerIO': 13.493, 'rdAvgInterIOGap': 1}, {'rdAvgIOPs': 33.333332, 'tier': 0, 'wrAvgIOPs': 16.666666, 'rdAvgSizePerIO': 4096, 'baselineStatus': 'init', 'wrAvgECTPerIO': 19.798, 'wrAvgSizePerIO': 8192, 'flowId': 36000, 'wrAvgInterIOGap': 1.5, 'timestamp': 1642396229733, 'rdAvgECTPerIO': 14.799, 'rdAvgInterIOGap': 1}, {'rdAvgIOPs': 33.333332, 'tier': 0, 'wrAvgIOPs': 16.666666, 'rdAvgSizePerIO': 4096, 'baselineStatus': 'init', 'wrAvgECTPerIO': 19.39, 'wrAvgSizePerIO': 8192, 'flowId': 28000, 'wrAvgInterIOGap': 1.5, 'timestamp': 1642396319733, 'rdAvgECTPerIO': 14.391, 'rdAvgInterIOGap': 1}, {'rdAvgIOPs': 33.333332, 'tier': 0, 'wrAvgIOPs': 16.666666, 'rdAvgSizePerIO': 4096, 'baselineStatus': 'init', 'wrAvgECTPerIO': 19.232, 'wrAvgSizePerIO': 8192, 'flowId': 8000, 'wrAvgInterIOGap': 1.5, 'timestamp': 1642396259733, 'rdAvgECTPerIO': 14.233, 'rdAvgInterIOGap': 1}, {'rdAvgIOPs': 33.333332, 'tier': 0, 'wrAvgIOPs': 16.666666, 'rdAvgSizePerIO': 4096, 'baselineStatus': 'init', 'wrAvgECTPerIO': 20.382, 'wrAvgSizePerIO': 8192, 'flowId': 32000, 'wrAvgInterIOGap': 1.5, 'timestamp': 1642396319733, 'rdAvgECTPerIO': 15.382, 'rdAvgInterIOGap': 1}, {'rdAvgIOPs': 33.333332, 'tier': 0, 'wrAvgIOPs': 16.666666, 'rdAvgSizePerIO': 4096, 'baselineStatus': 'init', 'wrAvgECTPerIO': 19.382, 'wrAvgSizePerIO': 8192, 'flowId': 40000, 'wrAvgInterIOGap': 1.5, 'timestamp': 1642396169733, 'rdAvgECTPerIO': 14.382, 'rdAvgInterIOGap': 1}, {'rdAvgIOPs': 33.333332, 'tier': 0, 'wrAvgIOPs': 16.666666, 'rdAvgSizePerIO': 4096, 'baselineStatus': 'init', 'wrAvgECTPerIO': 18.492, 'wrAvgSizePerIO': 8192, 'flowId': 36000, 'wrAvgInterIOGap': 1.5, 'timestamp': 1642396319733, 'rdAvgECTPerIO': 13.493, 'rdAvgInterIOGap': 1}, {'rdAvgIOPs': 33.333332, 'tier': 0, 'wrAvgIOPs': 16.666666, 'rdAvgSizePerIO': 4096, 'baselineStatus': 'init', 'wrAvgECTPerIO': 20.514, 'wrAvgSizePerIO': 8192, 'flowId': 40000, 'wrAvgInterIOGap': 1.5, 'timestamp': 1642396319733, 'rdAvgECTPerIO': 15.515, 'rdAvgInterIOGap': 1}, {'rdAvgIOPs': 33.333332, 'tier': 0, 'wrAvgIOPs': 16.666666, 'rdAvgSizePerIO': 4096, 'baselineStatus': 'init', 'wrAvgECTPerIO': 19.66, 'wrAvgSizePerIO': 8192, 'flowId': 36000, 'wrAvgInterIOGap': 1.5, 'timestamp': 1642396169733, 'rdAvgECTPerIO': 14.66, 'rdAvgInterIOGap': 1}, {'rdAvgIOPs': 33.333332, 'tier': 0, 'wrAvgIOPs': 16.666666, 'rdAvgSizePerIO': 4096, 'baselineStatus': 'init', 'wrAvgECTPerIO': 19.068, 'wrAvgSizePerIO': 8192, 'flowId': 24000, 'wrAvgInterIOGap': 1.5, 'timestamp': 1642396199733, 'rdAvgECTPerIO': 14.068, 'rdAvgInterIOGap': 1}, {'rdAvgIOPs': 33.333332, 'tier': 0, 'wrAvgIOPs': 16.666666, 'rdAvgSizePerIO': 4096, 'baselineStatus': 'init', 'wrAvgECTPerIO': 17.89, 'wrAvgSizePerIO': 8192, 'flowId': 16000, 'wrAvgInterIOGap': 1.5, 'timestamp': 1642396259733, 'rdAvgECTPerIO': 12.891, 'rdAvgInterIOGap': 1}, {'rdAvgIOPs': 33.333332, 'tier': 0, 'wrAvgIOPs': 16.666666, 'rdAvgSizePerIO': 4096, 'baselineStatus': 'init', 'wrAvgECTPerIO': 20.938, 'wrAvgSizePerIO': 8192, 'flowId': 28000, 'wrAvgInterIOGap': 1.5, 'timestamp': 1642396169733, 'rdAvgECTPerIO': 15.939, 'rdAvgInterIOGap': 1}, {'rdAvgIOPs': 33.333332, 'tier': 0, 'wrAvgIOPs': 16.666666, 'rdAvgSizePerIO': 4096, 'baselineStatus': 'init', 'wrAvgECTPerIO': 18.336, 'wrAvgSizePerIO': 8192, 'flowId': 4000, 'wrAvgInterIOGap': 1.5, 'timestamp': 1642396169733, 'rdAvgECTPerIO': 13.337, 'rdAvgInterIOGap': 1}, {'rdAvgIOPs': 33.333332, 'tier': 0, 'wrAvgIOPs': 16.666666, 'rdAvgSizePerIO': 4096, 'baselineStatus': 'init', 'wrAvgECTPerIO': 19.064, 'wrAvgSizePerIO': 8192, 'flowId': 24000, 'wrAvgInterIOGap': 1.5, 'timestamp': 1642396319733, 'rdAvgECTPerIO': 14.065, 'rdAvgInterIOGap': 1}, {'rdAvgIOPs': 33.333332, 'tier': 0, 'wrAvgIOPs': 16.666666, 'rdAvgSizePerIO': 4096, 'baselineStatus': 'init', 'wrAvgECTPerIO': 19.224, 'wrAvgSizePerIO': 8192, 'flowId': 24000, 'wrAvgInterIOGap': 1.5, 'timestamp': 1642396169733, 'rdAvgECTPerIO': 14.224, 'rdAvgInterIOGap': 1}, {'rdAvgIOPs': 33.333332, 'tier': 0, 'wrAvgIOPs': 16.666666, 'rdAvgSizePerIO': 4096, 'baselineStatus': 'init', 'wrAvgECTPerIO': 17.986, 'wrAvgSizePerIO': 8192, 'flowId': 32000, 'wrAvgInterIOGap': 1.5, 'timestamp': 1642396169733, 'rdAvgECTPerIO': 12.986, 'rdAvgInterIOGap': 1}, {'rdAvgIOPs': 33.333332, 'tier': 0, 'wrAvgIOPs': 16.666666, 'rdAvgSizePerIO': 4096, 'baselineStatus': 'init', 'wrAvgECTPerIO': 18.884, 'wrAvgSizePerIO': 8192, 'flowId': 4000, 'wrAvgInterIOGap': 1.5, 'timestamp': 1642396319733, 'rdAvgECTPerIO': 13.885, 'rdAvgInterIOGap': 1}, {'rdAvgIOPs': 33.333332, 'tier': 0, 'wrAvgIOPs': 16.666666, 'rdAvgSizePerIO': 4096, 'baselineStatus': 'init', 'wrAvgECTPerIO': 18.884, 'wrAvgSizePerIO': 8192, 'flowId': 16000, 'wrAvgInterIOGap': 1.5, 'timestamp': 1642396319733, 'rdAvgECTPerIO': 13.885, 'rdAvgInterIOGap': 1}, {'rdAvgIOPs': 33.333332, 'tier': 0, 'wrAvgIOPs': 16.666666, 'rdAvgSizePerIO': 4096, 'baselineStatus': 'init', 'wrAvgECTPerIO': 19.246, 'wrAvgSizePerIO': 8192, 'flowId': 20000, 'wrAvgInterIOGap': 1.5, 'timestamp': 1642396319733, 'rdAvgECTPerIO': 14.246, 'rdAvgInterIOGap': 1}, {'rdAvgIOPs': 33.333332, 'tier': 0, 'wrAvgIOPs': 16.666666, 'rdAvgSizePerIO': 4096, 'baselineStatus': 'init', 'wrAvgECTPerIO': 19.06, 'wrAvgSizePerIO': 8192, 'flowId': 24000, 'wrAvgInterIOGap': 1.5, 'timestamp': 1642396229733, 'rdAvgECTPerIO': 14.06, 'rdAvgInterIOGap': 1}, {'rdAvgIOPs': 33.333332, 'tier': 0, 'wrAvgIOPs': 16.666666, 'rdAvgSizePerIO': 4096, 'baselineStatus': 'init', 'wrAvgECTPerIO': 20.512, 'wrAvgSizePerIO': 8192, 'flowId': 4000, 'wrAvgInterIOGap': 1.5, 'timestamp': 1642396289733, 'rdAvgECTPerIO': 15.513, 'rdAvgInterIOGap': 1}, {'rdAvgIOPs': 33.333332, 'tier': 0, 'wrAvgIOPs': 16.666666, 'rdAvgSizePerIO': 4096, 'baselineStatus': 'init', 'wrAvgECTPerIO': 19.332, 'wrAvgSizePerIO': 8192, 'flowId': 12000, 'wrAvgInterIOGap': 1.5, 'timestamp': 1642396289733, 'rdAvgECTPerIO': 14.333, 'rdAvgInterIOGap': 1}, {'rdAvgIOPs': 33.333332, 'tier': 0, 'wrAvgIOPs': 16.666666, 'rdAvgSizePerIO': 4096, 'baselineStatus': 'init', 'wrAvgECTPerIO': 20.512, 'wrAvgSizePerIO': 8192, 'flowId': 16000, 'wrAvgInterIOGap': 1.5, 'timestamp': 1642396289733, 'rdAvgECTPerIO': 15.513, 'rdAvgInterIOGap': 1}, {'rdAvgIOPs': 33.333332, 'tier': 0, 'wrAvgIOPs': 16.666666, 'rdAvgSizePerIO': 4096, 'baselineStatus': 'init', 'wrAvgECTPerIO': 19.592, 'wrAvgSizePerIO': 8192, 'flowId': 40000, 'wrAvgInterIOGap': 1.5, 'timestamp': 1642396289733, 'rdAvgECTPerIO': 14.592, 'rdAvgInterIOGap': 1}, {'rdAvgIOPs': 33.333332, 'tier': 0, 'wrAvgIOPs': 16.666666, 'rdAvgSizePerIO': 4096, 'baselineStatus': 'init', 'wrAvgECTPerIO': 20.612, 'wrAvgSizePerIO': 8192, 'flowId': 32000, 'wrAvgInterIOGap': 1.5, 'timestamp': 1642396289733, 'rdAvgECTPerIO': 15.613, 'rdAvgInterIOGap': 1}, {'rdAvgIOPs': 33.333332, 'tier': 0, 'wrAvgIOPs': 16.666666, 'rdAvgSizePerIO': 4096, 'baselineStatus': 'init', 'wrAvgECTPerIO': 19.66, 'wrAvgSizePerIO': 8192, 'flowId': 8000, 'wrAvgInterIOGap': 1.5, 'timestamp': 1642396169733, 'rdAvgECTPerIO': 14.66, 'rdAvgInterIOGap': 1}]\n",
    "flow_docs_list = flow_docs_list*1000\n",
    "\n",
    "%timeit pd.DataFrame(flow_docs_list)\n",
    "%timeit pd.DataFrame.from_dict(flow_docs_list)\n",
    "%timeit pd.DataFrame.from_records(flow_docs_list)\n"
   ]
  },
  {
   "cell_type": "code",
   "execution_count": null,
   "metadata": {},
   "outputs": [],
   "source": []
  },
  {
   "cell_type": "code",
   "execution_count": null,
   "metadata": {},
   "outputs": [
    {
     "name": "stdout",
     "output_type": "stream",
     "text": [
      "1.75 ms ± 82.1 µs per loop (mean ± std. dev. of 7 runs, 100 loops each)\n"
     ]
    }
   ],
   "source": [
    "a = range(1, 100000)\n",
    "import numpy as np\n",
    "from statistics import median\n",
    "\n",
    "%timeit sum(a)/len(a)\n",
    "%timeit np.mean(a)\n",
    "\n",
    "%timeit min(a)\n",
    "%timeit np.min(a)\n",
    "\n",
    "%timeit np.median(a)\n",
    "%timeit median(a)\n",
    "\n"
   ]
  },
  {
   "cell_type": "code",
   "execution_count": 5,
   "metadata": {},
   "outputs": [
    {
     "name": "stdout",
     "output_type": "stream",
     "text": [
      "204 ms ± 5.99 ms per loop (mean ± std. dev. of 7 runs, 1 loop each)\n",
      "218 ms ± 18.3 ms per loop (mean ± std. dev. of 7 runs, 10 loops each)\n",
      "216 ms ± 9.09 ms per loop (mean ± std. dev. of 7 runs, 1 loop each)\n"
     ]
    }
   ],
   "source": [
    "import modin.pandas as pd\n",
    "flow_docs_list = [{'rdAvgIOPs': 33.333332, 'tier': 0, 'wrAvgIOPs': 16.666666, 'rdAvgSizePerIO': 4096, 'baselineStatus': 'init', 'wrAvgECTPerIO': 19.392, 'wrAvgSizePerIO': 8192, 'flowId': 8000, 'wrAvgInterIOGap': 1.5, 'timestamp': 1642396289733, 'rdAvgECTPerIO': 14.393, 'rdAvgInterIOGap': 1}, {'rdAvgIOPs': 33.333332, 'tier': 0, 'wrAvgIOPs': 16.666666, 'rdAvgSizePerIO': 4096, 'baselineStatus': 'init', 'wrAvgECTPerIO': 17.506, 'wrAvgSizePerIO': 8192, 'flowId': 20000, 'wrAvgInterIOGap': 1.5, 'timestamp': 1642396289733, 'rdAvgECTPerIO': 12.506, 'rdAvgInterIOGap': 1}, {'rdAvgIOPs': 33.333332, 'tier': 0, 'wrAvgIOPs': 16.666666, 'rdAvgSizePerIO': 4096, 'baselineStatus': 'init', 'wrAvgECTPerIO': 19.724, 'wrAvgSizePerIO': 8192, 'flowId': 28000, 'wrAvgInterIOGap': 1.5, 'timestamp': 1642396289733, 'rdAvgECTPerIO': 14.724, 'rdAvgInterIOGap': 1}, {'rdAvgIOPs': 33.333332, 'tier': 0, 'wrAvgIOPs': 16.666666, 'rdAvgSizePerIO': 4096, 'baselineStatus': 'init', 'wrAvgECTPerIO': 19.392, 'wrAvgSizePerIO': 8192, 'flowId': 36000, 'wrAvgInterIOGap': 1.5, 'timestamp': 1642396289733, 'rdAvgECTPerIO': 14.393, 'rdAvgInterIOGap': 1}, {'rdAvgIOPs': 33.333332, 'tier': 0, 'wrAvgIOPs': 16.666666, 'rdAvgSizePerIO': 4096, 'baselineStatus': 'init', 'wrAvgECTPerIO': 19.332, 'wrAvgSizePerIO': 8192, 'flowId': 24000, 'wrAvgInterIOGap': 1.5, 'timestamp': 1642396289733, 'rdAvgECTPerIO': 14.333, 'rdAvgInterIOGap': 1}, {'rdAvgIOPs': 33.333332, 'tier': 0, 'wrAvgIOPs': 16.666666, 'rdAvgSizePerIO': 4096, 'baselineStatus': 'init', 'wrAvgECTPerIO': 20.17, 'wrAvgSizePerIO': 8192, 'flowId': 24000, 'wrAvgInterIOGap': 1.5, 'timestamp': 1642396259733, 'rdAvgECTPerIO': 15.171, 'rdAvgInterIOGap': 1}, {'rdAvgIOPs': 33.333332, 'tier': 0, 'wrAvgIOPs': 16.666666, 'rdAvgSizePerIO': 4096, 'baselineStatus': 'init', 'wrAvgECTPerIO': 19.418, 'wrAvgSizePerIO': 8192, 'flowId': 4000, 'wrAvgInterIOGap': 1.5, 'timestamp': 1642396199733, 'rdAvgECTPerIO': 14.419, 'rdAvgInterIOGap': 1}, {'rdAvgIOPs': 33.333332, 'tier': 0, 'wrAvgIOPs': 16.666666, 'rdAvgSizePerIO': 4096, 'baselineStatus': 'init', 'wrAvgECTPerIO': 19.328, 'wrAvgSizePerIO': 8192, 'flowId': 28000, 'wrAvgInterIOGap': 1.5, 'timestamp': 1642396259733, 'rdAvgECTPerIO': 14.329, 'rdAvgInterIOGap': 1}, {'rdAvgIOPs': 33.333332, 'tier': 0, 'wrAvgIOPs': 16.666666, 'rdAvgSizePerIO': 4096, 'baselineStatus': 'init', 'wrAvgECTPerIO': 20.106, 'wrAvgSizePerIO': 8192, 'flowId': 8000, 'wrAvgInterIOGap': 1.5, 'timestamp': 1642396199733, 'rdAvgECTPerIO': 15.106, 'rdAvgInterIOGap': 1}, {'rdAvgIOPs': 33.333332, 'tier': 0, 'wrAvgIOPs': 16.666666, 'rdAvgSizePerIO': 4096, 'baselineStatus': 'init', 'wrAvgECTPerIO': 19.418, 'wrAvgSizePerIO': 8192, 'flowId': 16000, 'wrAvgInterIOGap': 1.5, 'timestamp': 1642396199733, 'rdAvgECTPerIO': 14.419, 'rdAvgInterIOGap': 1}, {'rdAvgIOPs': 33.333332, 'tier': 0, 'wrAvgIOPs': 16.666666, 'rdAvgSizePerIO': 4096, 'baselineStatus': 'init', 'wrAvgECTPerIO': 20.02, 'wrAvgSizePerIO': 8192, 'flowId': 20000, 'wrAvgInterIOGap': 1.5, 'timestamp': 1642396199733, 'rdAvgECTPerIO': 15.02, 'rdAvgInterIOGap': 1}, {'rdAvgIOPs': 33.333332, 'tier': 0, 'wrAvgIOPs': 16.666666, 'rdAvgSizePerIO': 4096, 'baselineStatus': 'init', 'wrAvgECTPerIO': 19.798, 'wrAvgSizePerIO': 8192, 'flowId': 8000, 'wrAvgInterIOGap': 1.5, 'timestamp': 1642396229733, 'rdAvgECTPerIO': 14.799, 'rdAvgInterIOGap': 1}, {'rdAvgIOPs': 33.333332, 'tier': 0, 'wrAvgIOPs': 16.666666, 'rdAvgSizePerIO': 4096, 'baselineStatus': 'init', 'wrAvgECTPerIO': 18.336, 'wrAvgSizePerIO': 8192, 'flowId': 16000, 'wrAvgInterIOGap': 1.5, 'timestamp': 1642396169733, 'rdAvgECTPerIO': 13.337, 'rdAvgInterIOGap': 1}, {'rdAvgIOPs': 33.333332, 'tier': 0, 'wrAvgIOPs': 16.666666, 'rdAvgSizePerIO': 4096, 'baselineStatus': 'init', 'wrAvgECTPerIO': 19.588, 'wrAvgSizePerIO': 8192, 'flowId': 32000, 'wrAvgInterIOGap': 1.5, 'timestamp': 1642396199733, 'rdAvgECTPerIO': 14.589, 'rdAvgInterIOGap': 1}, {'rdAvgIOPs': 33.333332, 'tier': 0, 'wrAvgIOPs': 16.666666, 'rdAvgSizePerIO': 4096, 'baselineStatus': 'init', 'wrAvgECTPerIO': 18.356, 'wrAvgSizePerIO': 8192, 'flowId': 20000, 'wrAvgInterIOGap': 1.5, 'timestamp': 1642396169733, 'rdAvgECTPerIO': 13.357, 'rdAvgInterIOGap': 1}, {'rdAvgIOPs': 33.333332, 'tier': 0, 'wrAvgIOPs': 16.666666, 'rdAvgSizePerIO': 4096, 'baselineStatus': 'init', 'wrAvgECTPerIO': 18.842, 'wrAvgSizePerIO': 8192, 'flowId': 40000, 'wrAvgInterIOGap': 1.5, 'timestamp': 1642396199733, 'rdAvgECTPerIO': 13.842, 'rdAvgInterIOGap': 1}, {'rdAvgIOPs': 33.333332, 'tier': 0, 'wrAvgIOPs': 16.666666, 'rdAvgSizePerIO': 4096, 'baselineStatus': 'init', 'wrAvgECTPerIO': 20.106, 'wrAvgSizePerIO': 8192, 'flowId': 36000, 'wrAvgInterIOGap': 1.5, 'timestamp': 1642396199733, 'rdAvgECTPerIO': 15.106, 'rdAvgInterIOGap': 1}, {'rdAvgIOPs': 33.333332, 'tier': 0, 'wrAvgIOPs': 16.666666, 'rdAvgSizePerIO': 4096, 'baselineStatus': 'init', 'wrAvgECTPerIO': 18.26, 'wrAvgSizePerIO': 8192, 'flowId': 20000, 'wrAvgInterIOGap': 1.5, 'timestamp': 1642396229733, 'rdAvgECTPerIO': 13.26, 'rdAvgInterIOGap': 1}, {'rdAvgIOPs': 33.333332, 'tier': 0, 'wrAvgIOPs': 16.666666, 'rdAvgSizePerIO': 4096, 'baselineStatus': 'init', 'wrAvgECTPerIO': 18.666, 'wrAvgSizePerIO': 8192, 'flowId': 20000, 'wrAvgInterIOGap': 1.5, 'timestamp': 1642396259733, 'rdAvgECTPerIO': 13.666, 'rdAvgInterIOGap': 1}, {'rdAvgIOPs': 33.333332, 'tier': 0, 'wrAvgIOPs': 16.666666, 'rdAvgSizePerIO': 4096, 'baselineStatus': 'init', 'wrAvgECTPerIO': 19.064, 'wrAvgSizePerIO': 8192, 'flowId': 12000, 'wrAvgInterIOGap': 1.5, 'timestamp': 1642396319733, 'rdAvgECTPerIO': 14.065, 'rdAvgInterIOGap': 1}, {'rdAvgIOPs': 33.333332, 'tier': 0, 'wrAvgIOPs': 16.666666, 'rdAvgSizePerIO': 4096, 'baselineStatus': 'init', 'wrAvgECTPerIO': 19.608, 'wrAvgSizePerIO': 8192, 'flowId': 28000, 'wrAvgInterIOGap': 1.5, 'timestamp': 1642396199733, 'rdAvgECTPerIO': 14.608, 'rdAvgInterIOGap': 1}, {'rdAvgIOPs': 33.333332, 'tier': 0, 'wrAvgIOPs': 16.666666, 'rdAvgSizePerIO': 4096, 'baselineStatus': 'init', 'wrAvgECTPerIO': 19.068, 'wrAvgSizePerIO': 8192, 'flowId': 12000, 'wrAvgInterIOGap': 1.5, 'timestamp': 1642396199733, 'rdAvgECTPerIO': 14.068, 'rdAvgInterIOGap': 1}, {'rdAvgIOPs': 33.333332, 'tier': 0, 'wrAvgIOPs': 16.666666, 'rdAvgSizePerIO': 4096, 'baselineStatus': 'init', 'wrAvgECTPerIO': 19.224, 'wrAvgSizePerIO': 8192, 'flowId': 12000, 'wrAvgInterIOGap': 1.5, 'timestamp': 1642396169733, 'rdAvgECTPerIO': 14.224, 'rdAvgInterIOGap': 1}, {'rdAvgIOPs': 33.333332, 'tier': 0, 'wrAvgIOPs': 16.666666, 'rdAvgSizePerIO': 4096, 'baselineStatus': 'init', 'wrAvgECTPerIO': 17.89, 'wrAvgSizePerIO': 8192, 'flowId': 4000, 'wrAvgInterIOGap': 1.5, 'timestamp': 1642396259733, 'rdAvgECTPerIO': 12.891, 'rdAvgInterIOGap': 1}, {'rdAvgIOPs': 33.333332, 'tier': 0, 'wrAvgIOPs': 16.666666, 'rdAvgSizePerIO': 4096, 'baselineStatus': 'init', 'wrAvgECTPerIO': 20.978, 'wrAvgSizePerIO': 8192, 'flowId': 4000, 'wrAvgInterIOGap': 1.5, 'timestamp': 1642396229733, 'rdAvgECTPerIO': 15.979, 'rdAvgInterIOGap': 1}, {'rdAvgIOPs': 33.333332, 'tier': 0, 'wrAvgIOPs': 16.666666, 'rdAvgSizePerIO': 4096, 'baselineStatus': 'init', 'wrAvgECTPerIO': 19.06, 'wrAvgSizePerIO': 8192, 'flowId': 12000, 'wrAvgInterIOGap': 1.5, 'timestamp': 1642396229733, 'rdAvgECTPerIO': 14.06, 'rdAvgInterIOGap': 1}, {'rdAvgIOPs': 33.333332, 'tier': 0, 'wrAvgIOPs': 16.666666, 'rdAvgSizePerIO': 4096, 'baselineStatus': 'init', 'wrAvgECTPerIO': 20.564, 'wrAvgSizePerIO': 8192, 'flowId': 40000, 'wrAvgInterIOGap': 1.5, 'timestamp': 1642396259733, 'rdAvgECTPerIO': 15.565, 'rdAvgInterIOGap': 1}, {'rdAvgIOPs': 33.333332, 'tier': 0, 'wrAvgIOPs': 16.666666, 'rdAvgSizePerIO': 4096, 'baselineStatus': 'init', 'wrAvgECTPerIO': 19.232, 'wrAvgSizePerIO': 8192, 'flowId': 36000, 'wrAvgInterIOGap': 1.5, 'timestamp': 1642396259733, 'rdAvgECTPerIO': 14.233, 'rdAvgInterIOGap': 1}, {'rdAvgIOPs': 33.333332, 'tier': 0, 'wrAvgIOPs': 16.666666, 'rdAvgSizePerIO': 4096, 'baselineStatus': 'init', 'wrAvgECTPerIO': 19.796, 'wrAvgSizePerIO': 8192, 'flowId': 32000, 'wrAvgInterIOGap': 1.5, 'timestamp': 1642396259733, 'rdAvgECTPerIO': 14.797, 'rdAvgInterIOGap': 1}, {'rdAvgIOPs': 33.333332, 'tier': 0, 'wrAvgIOPs': 16.666666, 'rdAvgSizePerIO': 4096, 'baselineStatus': 'init', 'wrAvgECTPerIO': 19.868, 'wrAvgSizePerIO': 8192, 'flowId': 32000, 'wrAvgInterIOGap': 1.5, 'timestamp': 1642396229733, 'rdAvgECTPerIO': 14.868, 'rdAvgInterIOGap': 1}, {'rdAvgIOPs': 33.333332, 'tier': 0, 'wrAvgIOPs': 16.666666, 'rdAvgSizePerIO': 4096, 'baselineStatus': 'init', 'wrAvgECTPerIO': 19.956, 'wrAvgSizePerIO': 8192, 'flowId': 40000, 'wrAvgInterIOGap': 1.5, 'timestamp': 1642396229733, 'rdAvgECTPerIO': 14.956, 'rdAvgInterIOGap': 1}, {'rdAvgIOPs': 33.333332, 'tier': 0, 'wrAvgIOPs': 16.666666, 'rdAvgSizePerIO': 4096, 'baselineStatus': 'init', 'wrAvgECTPerIO': 20.978, 'wrAvgSizePerIO': 8192, 'flowId': 16000, 'wrAvgInterIOGap': 1.5, 'timestamp': 1642396229733, 'rdAvgECTPerIO': 15.979, 'rdAvgInterIOGap': 1}, {'rdAvgIOPs': 33.333332, 'tier': 0, 'wrAvgIOPs': 16.666666, 'rdAvgSizePerIO': 4096, 'baselineStatus': 'init', 'wrAvgECTPerIO': 19.848, 'wrAvgSizePerIO': 8192, 'flowId': 28000, 'wrAvgInterIOGap': 1.5, 'timestamp': 1642396229733, 'rdAvgECTPerIO': 14.849, 'rdAvgInterIOGap': 1}, {'rdAvgIOPs': 33.333332, 'tier': 0, 'wrAvgIOPs': 16.666666, 'rdAvgSizePerIO': 4096, 'baselineStatus': 'init', 'wrAvgECTPerIO': 20.17, 'wrAvgSizePerIO': 8192, 'flowId': 12000, 'wrAvgInterIOGap': 1.5, 'timestamp': 1642396259733, 'rdAvgECTPerIO': 15.171, 'rdAvgInterIOGap': 1}, {'rdAvgIOPs': 33.333332, 'tier': 0, 'wrAvgIOPs': 16.666666, 'rdAvgSizePerIO': 4096, 'baselineStatus': 'init', 'wrAvgECTPerIO': 18.492, 'wrAvgSizePerIO': 8192, 'flowId': 8000, 'wrAvgInterIOGap': 1.5, 'timestamp': 1642396319733, 'rdAvgECTPerIO': 13.493, 'rdAvgInterIOGap': 1}, {'rdAvgIOPs': 33.333332, 'tier': 0, 'wrAvgIOPs': 16.666666, 'rdAvgSizePerIO': 4096, 'baselineStatus': 'init', 'wrAvgECTPerIO': 19.798, 'wrAvgSizePerIO': 8192, 'flowId': 36000, 'wrAvgInterIOGap': 1.5, 'timestamp': 1642396229733, 'rdAvgECTPerIO': 14.799, 'rdAvgInterIOGap': 1}, {'rdAvgIOPs': 33.333332, 'tier': 0, 'wrAvgIOPs': 16.666666, 'rdAvgSizePerIO': 4096, 'baselineStatus': 'init', 'wrAvgECTPerIO': 19.39, 'wrAvgSizePerIO': 8192, 'flowId': 28000, 'wrAvgInterIOGap': 1.5, 'timestamp': 1642396319733, 'rdAvgECTPerIO': 14.391, 'rdAvgInterIOGap': 1}, {'rdAvgIOPs': 33.333332, 'tier': 0, 'wrAvgIOPs': 16.666666, 'rdAvgSizePerIO': 4096, 'baselineStatus': 'init', 'wrAvgECTPerIO': 19.232, 'wrAvgSizePerIO': 8192, 'flowId': 8000, 'wrAvgInterIOGap': 1.5, 'timestamp': 1642396259733, 'rdAvgECTPerIO': 14.233, 'rdAvgInterIOGap': 1}, {'rdAvgIOPs': 33.333332, 'tier': 0, 'wrAvgIOPs': 16.666666, 'rdAvgSizePerIO': 4096, 'baselineStatus': 'init', 'wrAvgECTPerIO': 20.382, 'wrAvgSizePerIO': 8192, 'flowId': 32000, 'wrAvgInterIOGap': 1.5, 'timestamp': 1642396319733, 'rdAvgECTPerIO': 15.382, 'rdAvgInterIOGap': 1}, {'rdAvgIOPs': 33.333332, 'tier': 0, 'wrAvgIOPs': 16.666666, 'rdAvgSizePerIO': 4096, 'baselineStatus': 'init', 'wrAvgECTPerIO': 19.382, 'wrAvgSizePerIO': 8192, 'flowId': 40000, 'wrAvgInterIOGap': 1.5, 'timestamp': 1642396169733, 'rdAvgECTPerIO': 14.382, 'rdAvgInterIOGap': 1}, {'rdAvgIOPs': 33.333332, 'tier': 0, 'wrAvgIOPs': 16.666666, 'rdAvgSizePerIO': 4096, 'baselineStatus': 'init', 'wrAvgECTPerIO': 18.492, 'wrAvgSizePerIO': 8192, 'flowId': 36000, 'wrAvgInterIOGap': 1.5, 'timestamp': 1642396319733, 'rdAvgECTPerIO': 13.493, 'rdAvgInterIOGap': 1}, {'rdAvgIOPs': 33.333332, 'tier': 0, 'wrAvgIOPs': 16.666666, 'rdAvgSizePerIO': 4096, 'baselineStatus': 'init', 'wrAvgECTPerIO': 20.514, 'wrAvgSizePerIO': 8192, 'flowId': 40000, 'wrAvgInterIOGap': 1.5, 'timestamp': 1642396319733, 'rdAvgECTPerIO': 15.515, 'rdAvgInterIOGap': 1}, {'rdAvgIOPs': 33.333332, 'tier': 0, 'wrAvgIOPs': 16.666666, 'rdAvgSizePerIO': 4096, 'baselineStatus': 'init', 'wrAvgECTPerIO': 19.66, 'wrAvgSizePerIO': 8192, 'flowId': 36000, 'wrAvgInterIOGap': 1.5, 'timestamp': 1642396169733, 'rdAvgECTPerIO': 14.66, 'rdAvgInterIOGap': 1}, {'rdAvgIOPs': 33.333332, 'tier': 0, 'wrAvgIOPs': 16.666666, 'rdAvgSizePerIO': 4096, 'baselineStatus': 'init', 'wrAvgECTPerIO': 19.068, 'wrAvgSizePerIO': 8192, 'flowId': 24000, 'wrAvgInterIOGap': 1.5, 'timestamp': 1642396199733, 'rdAvgECTPerIO': 14.068, 'rdAvgInterIOGap': 1}, {'rdAvgIOPs': 33.333332, 'tier': 0, 'wrAvgIOPs': 16.666666, 'rdAvgSizePerIO': 4096, 'baselineStatus': 'init', 'wrAvgECTPerIO': 17.89, 'wrAvgSizePerIO': 8192, 'flowId': 16000, 'wrAvgInterIOGap': 1.5, 'timestamp': 1642396259733, 'rdAvgECTPerIO': 12.891, 'rdAvgInterIOGap': 1}, {'rdAvgIOPs': 33.333332, 'tier': 0, 'wrAvgIOPs': 16.666666, 'rdAvgSizePerIO': 4096, 'baselineStatus': 'init', 'wrAvgECTPerIO': 20.938, 'wrAvgSizePerIO': 8192, 'flowId': 28000, 'wrAvgInterIOGap': 1.5, 'timestamp': 1642396169733, 'rdAvgECTPerIO': 15.939, 'rdAvgInterIOGap': 1}, {'rdAvgIOPs': 33.333332, 'tier': 0, 'wrAvgIOPs': 16.666666, 'rdAvgSizePerIO': 4096, 'baselineStatus': 'init', 'wrAvgECTPerIO': 18.336, 'wrAvgSizePerIO': 8192, 'flowId': 4000, 'wrAvgInterIOGap': 1.5, 'timestamp': 1642396169733, 'rdAvgECTPerIO': 13.337, 'rdAvgInterIOGap': 1}, {'rdAvgIOPs': 33.333332, 'tier': 0, 'wrAvgIOPs': 16.666666, 'rdAvgSizePerIO': 4096, 'baselineStatus': 'init', 'wrAvgECTPerIO': 19.064, 'wrAvgSizePerIO': 8192, 'flowId': 24000, 'wrAvgInterIOGap': 1.5, 'timestamp': 1642396319733, 'rdAvgECTPerIO': 14.065, 'rdAvgInterIOGap': 1}, {'rdAvgIOPs': 33.333332, 'tier': 0, 'wrAvgIOPs': 16.666666, 'rdAvgSizePerIO': 4096, 'baselineStatus': 'init', 'wrAvgECTPerIO': 19.224, 'wrAvgSizePerIO': 8192, 'flowId': 24000, 'wrAvgInterIOGap': 1.5, 'timestamp': 1642396169733, 'rdAvgECTPerIO': 14.224, 'rdAvgInterIOGap': 1}, {'rdAvgIOPs': 33.333332, 'tier': 0, 'wrAvgIOPs': 16.666666, 'rdAvgSizePerIO': 4096, 'baselineStatus': 'init', 'wrAvgECTPerIO': 17.986, 'wrAvgSizePerIO': 8192, 'flowId': 32000, 'wrAvgInterIOGap': 1.5, 'timestamp': 1642396169733, 'rdAvgECTPerIO': 12.986, 'rdAvgInterIOGap': 1}, {'rdAvgIOPs': 33.333332, 'tier': 0, 'wrAvgIOPs': 16.666666, 'rdAvgSizePerIO': 4096, 'baselineStatus': 'init', 'wrAvgECTPerIO': 18.884, 'wrAvgSizePerIO': 8192, 'flowId': 4000, 'wrAvgInterIOGap': 1.5, 'timestamp': 1642396319733, 'rdAvgECTPerIO': 13.885, 'rdAvgInterIOGap': 1}, {'rdAvgIOPs': 33.333332, 'tier': 0, 'wrAvgIOPs': 16.666666, 'rdAvgSizePerIO': 4096, 'baselineStatus': 'init', 'wrAvgECTPerIO': 18.884, 'wrAvgSizePerIO': 8192, 'flowId': 16000, 'wrAvgInterIOGap': 1.5, 'timestamp': 1642396319733, 'rdAvgECTPerIO': 13.885, 'rdAvgInterIOGap': 1}, {'rdAvgIOPs': 33.333332, 'tier': 0, 'wrAvgIOPs': 16.666666, 'rdAvgSizePerIO': 4096, 'baselineStatus': 'init', 'wrAvgECTPerIO': 19.246, 'wrAvgSizePerIO': 8192, 'flowId': 20000, 'wrAvgInterIOGap': 1.5, 'timestamp': 1642396319733, 'rdAvgECTPerIO': 14.246, 'rdAvgInterIOGap': 1}, {'rdAvgIOPs': 33.333332, 'tier': 0, 'wrAvgIOPs': 16.666666, 'rdAvgSizePerIO': 4096, 'baselineStatus': 'init', 'wrAvgECTPerIO': 19.06, 'wrAvgSizePerIO': 8192, 'flowId': 24000, 'wrAvgInterIOGap': 1.5, 'timestamp': 1642396229733, 'rdAvgECTPerIO': 14.06, 'rdAvgInterIOGap': 1}, {'rdAvgIOPs': 33.333332, 'tier': 0, 'wrAvgIOPs': 16.666666, 'rdAvgSizePerIO': 4096, 'baselineStatus': 'init', 'wrAvgECTPerIO': 20.512, 'wrAvgSizePerIO': 8192, 'flowId': 4000, 'wrAvgInterIOGap': 1.5, 'timestamp': 1642396289733, 'rdAvgECTPerIO': 15.513, 'rdAvgInterIOGap': 1}, {'rdAvgIOPs': 33.333332, 'tier': 0, 'wrAvgIOPs': 16.666666, 'rdAvgSizePerIO': 4096, 'baselineStatus': 'init', 'wrAvgECTPerIO': 19.332, 'wrAvgSizePerIO': 8192, 'flowId': 12000, 'wrAvgInterIOGap': 1.5, 'timestamp': 1642396289733, 'rdAvgECTPerIO': 14.333, 'rdAvgInterIOGap': 1}, {'rdAvgIOPs': 33.333332, 'tier': 0, 'wrAvgIOPs': 16.666666, 'rdAvgSizePerIO': 4096, 'baselineStatus': 'init', 'wrAvgECTPerIO': 20.512, 'wrAvgSizePerIO': 8192, 'flowId': 16000, 'wrAvgInterIOGap': 1.5, 'timestamp': 1642396289733, 'rdAvgECTPerIO': 15.513, 'rdAvgInterIOGap': 1}, {'rdAvgIOPs': 33.333332, 'tier': 0, 'wrAvgIOPs': 16.666666, 'rdAvgSizePerIO': 4096, 'baselineStatus': 'init', 'wrAvgECTPerIO': 19.592, 'wrAvgSizePerIO': 8192, 'flowId': 40000, 'wrAvgInterIOGap': 1.5, 'timestamp': 1642396289733, 'rdAvgECTPerIO': 14.592, 'rdAvgInterIOGap': 1}, {'rdAvgIOPs': 33.333332, 'tier': 0, 'wrAvgIOPs': 16.666666, 'rdAvgSizePerIO': 4096, 'baselineStatus': 'init', 'wrAvgECTPerIO': 20.612, 'wrAvgSizePerIO': 8192, 'flowId': 32000, 'wrAvgInterIOGap': 1.5, 'timestamp': 1642396289733, 'rdAvgECTPerIO': 15.613, 'rdAvgInterIOGap': 1}, {'rdAvgIOPs': 33.333332, 'tier': 0, 'wrAvgIOPs': 16.666666, 'rdAvgSizePerIO': 4096, 'baselineStatus': 'init', 'wrAvgECTPerIO': 19.66, 'wrAvgSizePerIO': 8192, 'flowId': 8000, 'wrAvgInterIOGap': 1.5, 'timestamp': 1642396169733, 'rdAvgECTPerIO': 14.66, 'rdAvgInterIOGap': 1}]\n",
    "flow_docs_list = flow_docs_list*1000\n",
    "\n",
    "%timeit pd.DataFrame(flow_docs_list)\n",
    "%timeit pd.DataFrame.from_dict(flow_docs_list)\n",
    "%timeit pd.DataFrame.from_records(flow_docs_list)\n"
   ]
  },
  {
   "cell_type": "code",
   "execution_count": null,
   "metadata": {},
   "outputs": [],
   "source": [
    "! pip3 list | grep pandas"
   ]
  },
  {
   "cell_type": "code",
   "execution_count": null,
   "metadata": {},
   "outputs": [],
   "source": []
  },
  {
   "cell_type": "code",
   "execution_count": 13,
   "metadata": {},
   "outputs": [
    {
     "name": "stderr",
     "output_type": "stream",
     "text": [
      "UserWarning: Distributing <class 'list'> object. This may take some time.\n"
     ]
    },
    {
     "name": "stdout",
     "output_type": "stream",
     "text": [
      "Time taken =  1.2785131931304932\n"
     ]
    }
   ],
   "source": [
    "import time\n",
    "init = time.time()\n",
    "ans = []\n",
    "flow_docs_list = [{'rdAvgIOPs': 33.333332, 'tier': 0, 'wrAvgIOPs': 16.666666, 'rdAvgSizePerIO': 4096, 'baselineStatus': 'init', 'wrAvgECTPerIO': 19.392, 'wrAvgSizePerIO': 8192, 'flowId': 8000, 'wrAvgInterIOGap': 1.5, 'timestamp': 1642396289733, 'rdAvgECTPerIO': 14.393, 'rdAvgInterIOGap': 1}, {'rdAvgIOPs': 33.333332, 'tier': 0, 'wrAvgIOPs': 16.666666, 'rdAvgSizePerIO': 4096, 'baselineStatus': 'init', 'wrAvgECTPerIO': 17.506, 'wrAvgSizePerIO': 8192, 'flowId': 20000, 'wrAvgInterIOGap': 1.5, 'timestamp': 1642396289733, 'rdAvgECTPerIO': 12.506, 'rdAvgInterIOGap': 1}, {'rdAvgIOPs': 33.333332, 'tier': 0, 'wrAvgIOPs': 16.666666, 'rdAvgSizePerIO': 4096, 'baselineStatus': 'init', 'wrAvgECTPerIO': 19.724, 'wrAvgSizePerIO': 8192, 'flowId': 28000, 'wrAvgInterIOGap': 1.5, 'timestamp': 1642396289733, 'rdAvgECTPerIO': 14.724, 'rdAvgInterIOGap': 1}, {'rdAvgIOPs': 33.333332, 'tier': 0, 'wrAvgIOPs': 16.666666, 'rdAvgSizePerIO': 4096, 'baselineStatus': 'init', 'wrAvgECTPerIO': 19.392, 'wrAvgSizePerIO': 8192, 'flowId': 36000, 'wrAvgInterIOGap': 1.5, 'timestamp': 1642396289733, 'rdAvgECTPerIO': 14.393, 'rdAvgInterIOGap': 1}, {'rdAvgIOPs': 33.333332, 'tier': 0, 'wrAvgIOPs': 16.666666, 'rdAvgSizePerIO': 4096, 'baselineStatus': 'init', 'wrAvgECTPerIO': 19.332, 'wrAvgSizePerIO': 8192, 'flowId': 24000, 'wrAvgInterIOGap': 1.5, 'timestamp': 1642396289733, 'rdAvgECTPerIO': 14.333, 'rdAvgInterIOGap': 1}, {'rdAvgIOPs': 33.333332, 'tier': 0, 'wrAvgIOPs': 16.666666, 'rdAvgSizePerIO': 4096, 'baselineStatus': 'init', 'wrAvgECTPerIO': 20.17, 'wrAvgSizePerIO': 8192, 'flowId': 24000, 'wrAvgInterIOGap': 1.5, 'timestamp': 1642396259733, 'rdAvgECTPerIO': 15.171, 'rdAvgInterIOGap': 1}, {'rdAvgIOPs': 33.333332, 'tier': 0, 'wrAvgIOPs': 16.666666, 'rdAvgSizePerIO': 4096, 'baselineStatus': 'init', 'wrAvgECTPerIO': 19.418, 'wrAvgSizePerIO': 8192, 'flowId': 4000, 'wrAvgInterIOGap': 1.5, 'timestamp': 1642396199733, 'rdAvgECTPerIO': 14.419, 'rdAvgInterIOGap': 1}, {'rdAvgIOPs': 33.333332, 'tier': 0, 'wrAvgIOPs': 16.666666, 'rdAvgSizePerIO': 4096, 'baselineStatus': 'init', 'wrAvgECTPerIO': 19.328, 'wrAvgSizePerIO': 8192, 'flowId': 28000, 'wrAvgInterIOGap': 1.5, 'timestamp': 1642396259733, 'rdAvgECTPerIO': 14.329, 'rdAvgInterIOGap': 1}, {'rdAvgIOPs': 33.333332, 'tier': 0, 'wrAvgIOPs': 16.666666, 'rdAvgSizePerIO': 4096, 'baselineStatus': 'init', 'wrAvgECTPerIO': 20.106, 'wrAvgSizePerIO': 8192, 'flowId': 8000, 'wrAvgInterIOGap': 1.5, 'timestamp': 1642396199733, 'rdAvgECTPerIO': 15.106, 'rdAvgInterIOGap': 1}, {'rdAvgIOPs': 33.333332, 'tier': 0, 'wrAvgIOPs': 16.666666, 'rdAvgSizePerIO': 4096, 'baselineStatus': 'init', 'wrAvgECTPerIO': 19.418, 'wrAvgSizePerIO': 8192, 'flowId': 16000, 'wrAvgInterIOGap': 1.5, 'timestamp': 1642396199733, 'rdAvgECTPerIO': 14.419, 'rdAvgInterIOGap': 1}, {'rdAvgIOPs': 33.333332, 'tier': 0, 'wrAvgIOPs': 16.666666, 'rdAvgSizePerIO': 4096, 'baselineStatus': 'init', 'wrAvgECTPerIO': 20.02, 'wrAvgSizePerIO': 8192, 'flowId': 20000, 'wrAvgInterIOGap': 1.5, 'timestamp': 1642396199733, 'rdAvgECTPerIO': 15.02, 'rdAvgInterIOGap': 1}, {'rdAvgIOPs': 33.333332, 'tier': 0, 'wrAvgIOPs': 16.666666, 'rdAvgSizePerIO': 4096, 'baselineStatus': 'init', 'wrAvgECTPerIO': 19.798, 'wrAvgSizePerIO': 8192, 'flowId': 8000, 'wrAvgInterIOGap': 1.5, 'timestamp': 1642396229733, 'rdAvgECTPerIO': 14.799, 'rdAvgInterIOGap': 1}, {'rdAvgIOPs': 33.333332, 'tier': 0, 'wrAvgIOPs': 16.666666, 'rdAvgSizePerIO': 4096, 'baselineStatus': 'init', 'wrAvgECTPerIO': 18.336, 'wrAvgSizePerIO': 8192, 'flowId': 16000, 'wrAvgInterIOGap': 1.5, 'timestamp': 1642396169733, 'rdAvgECTPerIO': 13.337, 'rdAvgInterIOGap': 1}, {'rdAvgIOPs': 33.333332, 'tier': 0, 'wrAvgIOPs': 16.666666, 'rdAvgSizePerIO': 4096, 'baselineStatus': 'init', 'wrAvgECTPerIO': 19.588, 'wrAvgSizePerIO': 8192, 'flowId': 32000, 'wrAvgInterIOGap': 1.5, 'timestamp': 1642396199733, 'rdAvgECTPerIO': 14.589, 'rdAvgInterIOGap': 1}, {'rdAvgIOPs': 33.333332, 'tier': 0, 'wrAvgIOPs': 16.666666, 'rdAvgSizePerIO': 4096, 'baselineStatus': 'init', 'wrAvgECTPerIO': 18.356, 'wrAvgSizePerIO': 8192, 'flowId': 20000, 'wrAvgInterIOGap': 1.5, 'timestamp': 1642396169733, 'rdAvgECTPerIO': 13.357, 'rdAvgInterIOGap': 1}, {'rdAvgIOPs': 33.333332, 'tier': 0, 'wrAvgIOPs': 16.666666, 'rdAvgSizePerIO': 4096, 'baselineStatus': 'init', 'wrAvgECTPerIO': 18.842, 'wrAvgSizePerIO': 8192, 'flowId': 40000, 'wrAvgInterIOGap': 1.5, 'timestamp': 1642396199733, 'rdAvgECTPerIO': 13.842, 'rdAvgInterIOGap': 1}, {'rdAvgIOPs': 33.333332, 'tier': 0, 'wrAvgIOPs': 16.666666, 'rdAvgSizePerIO': 4096, 'baselineStatus': 'init', 'wrAvgECTPerIO': 20.106, 'wrAvgSizePerIO': 8192, 'flowId': 36000, 'wrAvgInterIOGap': 1.5, 'timestamp': 1642396199733, 'rdAvgECTPerIO': 15.106, 'rdAvgInterIOGap': 1}, {'rdAvgIOPs': 33.333332, 'tier': 0, 'wrAvgIOPs': 16.666666, 'rdAvgSizePerIO': 4096, 'baselineStatus': 'init', 'wrAvgECTPerIO': 18.26, 'wrAvgSizePerIO': 8192, 'flowId': 20000, 'wrAvgInterIOGap': 1.5, 'timestamp': 1642396229733, 'rdAvgECTPerIO': 13.26, 'rdAvgInterIOGap': 1}, {'rdAvgIOPs': 33.333332, 'tier': 0, 'wrAvgIOPs': 16.666666, 'rdAvgSizePerIO': 4096, 'baselineStatus': 'init', 'wrAvgECTPerIO': 18.666, 'wrAvgSizePerIO': 8192, 'flowId': 20000, 'wrAvgInterIOGap': 1.5, 'timestamp': 1642396259733, 'rdAvgECTPerIO': 13.666, 'rdAvgInterIOGap': 1}, {'rdAvgIOPs': 33.333332, 'tier': 0, 'wrAvgIOPs': 16.666666, 'rdAvgSizePerIO': 4096, 'baselineStatus': 'init', 'wrAvgECTPerIO': 19.064, 'wrAvgSizePerIO': 8192, 'flowId': 12000, 'wrAvgInterIOGap': 1.5, 'timestamp': 1642396319733, 'rdAvgECTPerIO': 14.065, 'rdAvgInterIOGap': 1}, {'rdAvgIOPs': 33.333332, 'tier': 0, 'wrAvgIOPs': 16.666666, 'rdAvgSizePerIO': 4096, 'baselineStatus': 'init', 'wrAvgECTPerIO': 19.608, 'wrAvgSizePerIO': 8192, 'flowId': 28000, 'wrAvgInterIOGap': 1.5, 'timestamp': 1642396199733, 'rdAvgECTPerIO': 14.608, 'rdAvgInterIOGap': 1}, {'rdAvgIOPs': 33.333332, 'tier': 0, 'wrAvgIOPs': 16.666666, 'rdAvgSizePerIO': 4096, 'baselineStatus': 'init', 'wrAvgECTPerIO': 19.068, 'wrAvgSizePerIO': 8192, 'flowId': 12000, 'wrAvgInterIOGap': 1.5, 'timestamp': 1642396199733, 'rdAvgECTPerIO': 14.068, 'rdAvgInterIOGap': 1}, {'rdAvgIOPs': 33.333332, 'tier': 0, 'wrAvgIOPs': 16.666666, 'rdAvgSizePerIO': 4096, 'baselineStatus': 'init', 'wrAvgECTPerIO': 19.224, 'wrAvgSizePerIO': 8192, 'flowId': 12000, 'wrAvgInterIOGap': 1.5, 'timestamp': 1642396169733, 'rdAvgECTPerIO': 14.224, 'rdAvgInterIOGap': 1}, {'rdAvgIOPs': 33.333332, 'tier': 0, 'wrAvgIOPs': 16.666666, 'rdAvgSizePerIO': 4096, 'baselineStatus': 'init', 'wrAvgECTPerIO': 17.89, 'wrAvgSizePerIO': 8192, 'flowId': 4000, 'wrAvgInterIOGap': 1.5, 'timestamp': 1642396259733, 'rdAvgECTPerIO': 12.891, 'rdAvgInterIOGap': 1}, {'rdAvgIOPs': 33.333332, 'tier': 0, 'wrAvgIOPs': 16.666666, 'rdAvgSizePerIO': 4096, 'baselineStatus': 'init', 'wrAvgECTPerIO': 20.978, 'wrAvgSizePerIO': 8192, 'flowId': 4000, 'wrAvgInterIOGap': 1.5, 'timestamp': 1642396229733, 'rdAvgECTPerIO': 15.979, 'rdAvgInterIOGap': 1}, {'rdAvgIOPs': 33.333332, 'tier': 0, 'wrAvgIOPs': 16.666666, 'rdAvgSizePerIO': 4096, 'baselineStatus': 'init', 'wrAvgECTPerIO': 19.06, 'wrAvgSizePerIO': 8192, 'flowId': 12000, 'wrAvgInterIOGap': 1.5, 'timestamp': 1642396229733, 'rdAvgECTPerIO': 14.06, 'rdAvgInterIOGap': 1}, {'rdAvgIOPs': 33.333332, 'tier': 0, 'wrAvgIOPs': 16.666666, 'rdAvgSizePerIO': 4096, 'baselineStatus': 'init', 'wrAvgECTPerIO': 20.564, 'wrAvgSizePerIO': 8192, 'flowId': 40000, 'wrAvgInterIOGap': 1.5, 'timestamp': 1642396259733, 'rdAvgECTPerIO': 15.565, 'rdAvgInterIOGap': 1}, {'rdAvgIOPs': 33.333332, 'tier': 0, 'wrAvgIOPs': 16.666666, 'rdAvgSizePerIO': 4096, 'baselineStatus': 'init', 'wrAvgECTPerIO': 19.232, 'wrAvgSizePerIO': 8192, 'flowId': 36000, 'wrAvgInterIOGap': 1.5, 'timestamp': 1642396259733, 'rdAvgECTPerIO': 14.233, 'rdAvgInterIOGap': 1}, {'rdAvgIOPs': 33.333332, 'tier': 0, 'wrAvgIOPs': 16.666666, 'rdAvgSizePerIO': 4096, 'baselineStatus': 'init', 'wrAvgECTPerIO': 19.796, 'wrAvgSizePerIO': 8192, 'flowId': 32000, 'wrAvgInterIOGap': 1.5, 'timestamp': 1642396259733, 'rdAvgECTPerIO': 14.797, 'rdAvgInterIOGap': 1}, {'rdAvgIOPs': 33.333332, 'tier': 0, 'wrAvgIOPs': 16.666666, 'rdAvgSizePerIO': 4096, 'baselineStatus': 'init', 'wrAvgECTPerIO': 19.868, 'wrAvgSizePerIO': 8192, 'flowId': 32000, 'wrAvgInterIOGap': 1.5, 'timestamp': 1642396229733, 'rdAvgECTPerIO': 14.868, 'rdAvgInterIOGap': 1}, {'rdAvgIOPs': 33.333332, 'tier': 0, 'wrAvgIOPs': 16.666666, 'rdAvgSizePerIO': 4096, 'baselineStatus': 'init', 'wrAvgECTPerIO': 19.956, 'wrAvgSizePerIO': 8192, 'flowId': 40000, 'wrAvgInterIOGap': 1.5, 'timestamp': 1642396229733, 'rdAvgECTPerIO': 14.956, 'rdAvgInterIOGap': 1}, {'rdAvgIOPs': 33.333332, 'tier': 0, 'wrAvgIOPs': 16.666666, 'rdAvgSizePerIO': 4096, 'baselineStatus': 'init', 'wrAvgECTPerIO': 20.978, 'wrAvgSizePerIO': 8192, 'flowId': 16000, 'wrAvgInterIOGap': 1.5, 'timestamp': 1642396229733, 'rdAvgECTPerIO': 15.979, 'rdAvgInterIOGap': 1}, {'rdAvgIOPs': 33.333332, 'tier': 0, 'wrAvgIOPs': 16.666666, 'rdAvgSizePerIO': 4096, 'baselineStatus': 'init', 'wrAvgECTPerIO': 19.848, 'wrAvgSizePerIO': 8192, 'flowId': 28000, 'wrAvgInterIOGap': 1.5, 'timestamp': 1642396229733, 'rdAvgECTPerIO': 14.849, 'rdAvgInterIOGap': 1}, {'rdAvgIOPs': 33.333332, 'tier': 0, 'wrAvgIOPs': 16.666666, 'rdAvgSizePerIO': 4096, 'baselineStatus': 'init', 'wrAvgECTPerIO': 20.17, 'wrAvgSizePerIO': 8192, 'flowId': 12000, 'wrAvgInterIOGap': 1.5, 'timestamp': 1642396259733, 'rdAvgECTPerIO': 15.171, 'rdAvgInterIOGap': 1}, {'rdAvgIOPs': 33.333332, 'tier': 0, 'wrAvgIOPs': 16.666666, 'rdAvgSizePerIO': 4096, 'baselineStatus': 'init', 'wrAvgECTPerIO': 18.492, 'wrAvgSizePerIO': 8192, 'flowId': 8000, 'wrAvgInterIOGap': 1.5, 'timestamp': 1642396319733, 'rdAvgECTPerIO': 13.493, 'rdAvgInterIOGap': 1}, {'rdAvgIOPs': 33.333332, 'tier': 0, 'wrAvgIOPs': 16.666666, 'rdAvgSizePerIO': 4096, 'baselineStatus': 'init', 'wrAvgECTPerIO': 19.798, 'wrAvgSizePerIO': 8192, 'flowId': 36000, 'wrAvgInterIOGap': 1.5, 'timestamp': 1642396229733, 'rdAvgECTPerIO': 14.799, 'rdAvgInterIOGap': 1}, {'rdAvgIOPs': 33.333332, 'tier': 0, 'wrAvgIOPs': 16.666666, 'rdAvgSizePerIO': 4096, 'baselineStatus': 'init', 'wrAvgECTPerIO': 19.39, 'wrAvgSizePerIO': 8192, 'flowId': 28000, 'wrAvgInterIOGap': 1.5, 'timestamp': 1642396319733, 'rdAvgECTPerIO': 14.391, 'rdAvgInterIOGap': 1}, {'rdAvgIOPs': 33.333332, 'tier': 0, 'wrAvgIOPs': 16.666666, 'rdAvgSizePerIO': 4096, 'baselineStatus': 'init', 'wrAvgECTPerIO': 19.232, 'wrAvgSizePerIO': 8192, 'flowId': 8000, 'wrAvgInterIOGap': 1.5, 'timestamp': 1642396259733, 'rdAvgECTPerIO': 14.233, 'rdAvgInterIOGap': 1}, {'rdAvgIOPs': 33.333332, 'tier': 0, 'wrAvgIOPs': 16.666666, 'rdAvgSizePerIO': 4096, 'baselineStatus': 'init', 'wrAvgECTPerIO': 20.382, 'wrAvgSizePerIO': 8192, 'flowId': 32000, 'wrAvgInterIOGap': 1.5, 'timestamp': 1642396319733, 'rdAvgECTPerIO': 15.382, 'rdAvgInterIOGap': 1}, {'rdAvgIOPs': 33.333332, 'tier': 0, 'wrAvgIOPs': 16.666666, 'rdAvgSizePerIO': 4096, 'baselineStatus': 'init', 'wrAvgECTPerIO': 19.382, 'wrAvgSizePerIO': 8192, 'flowId': 40000, 'wrAvgInterIOGap': 1.5, 'timestamp': 1642396169733, 'rdAvgECTPerIO': 14.382, 'rdAvgInterIOGap': 1}, {'rdAvgIOPs': 33.333332, 'tier': 0, 'wrAvgIOPs': 16.666666, 'rdAvgSizePerIO': 4096, 'baselineStatus': 'init', 'wrAvgECTPerIO': 18.492, 'wrAvgSizePerIO': 8192, 'flowId': 36000, 'wrAvgInterIOGap': 1.5, 'timestamp': 1642396319733, 'rdAvgECTPerIO': 13.493, 'rdAvgInterIOGap': 1}, {'rdAvgIOPs': 33.333332, 'tier': 0, 'wrAvgIOPs': 16.666666, 'rdAvgSizePerIO': 4096, 'baselineStatus': 'init', 'wrAvgECTPerIO': 20.514, 'wrAvgSizePerIO': 8192, 'flowId': 40000, 'wrAvgInterIOGap': 1.5, 'timestamp': 1642396319733, 'rdAvgECTPerIO': 15.515, 'rdAvgInterIOGap': 1}, {'rdAvgIOPs': 33.333332, 'tier': 0, 'wrAvgIOPs': 16.666666, 'rdAvgSizePerIO': 4096, 'baselineStatus': 'init', 'wrAvgECTPerIO': 19.66, 'wrAvgSizePerIO': 8192, 'flowId': 36000, 'wrAvgInterIOGap': 1.5, 'timestamp': 1642396169733, 'rdAvgECTPerIO': 14.66, 'rdAvgInterIOGap': 1}, {'rdAvgIOPs': 33.333332, 'tier': 0, 'wrAvgIOPs': 16.666666, 'rdAvgSizePerIO': 4096, 'baselineStatus': 'init', 'wrAvgECTPerIO': 19.068, 'wrAvgSizePerIO': 8192, 'flowId': 24000, 'wrAvgInterIOGap': 1.5, 'timestamp': 1642396199733, 'rdAvgECTPerIO': 14.068, 'rdAvgInterIOGap': 1}, {'rdAvgIOPs': 33.333332, 'tier': 0, 'wrAvgIOPs': 16.666666, 'rdAvgSizePerIO': 4096, 'baselineStatus': 'init', 'wrAvgECTPerIO': 17.89, 'wrAvgSizePerIO': 8192, 'flowId': 16000, 'wrAvgInterIOGap': 1.5, 'timestamp': 1642396259733, 'rdAvgECTPerIO': 12.891, 'rdAvgInterIOGap': 1}, {'rdAvgIOPs': 33.333332, 'tier': 0, 'wrAvgIOPs': 16.666666, 'rdAvgSizePerIO': 4096, 'baselineStatus': 'init', 'wrAvgECTPerIO': 20.938, 'wrAvgSizePerIO': 8192, 'flowId': 28000, 'wrAvgInterIOGap': 1.5, 'timestamp': 1642396169733, 'rdAvgECTPerIO': 15.939, 'rdAvgInterIOGap': 1}, {'rdAvgIOPs': 33.333332, 'tier': 0, 'wrAvgIOPs': 16.666666, 'rdAvgSizePerIO': 4096, 'baselineStatus': 'init', 'wrAvgECTPerIO': 18.336, 'wrAvgSizePerIO': 8192, 'flowId': 4000, 'wrAvgInterIOGap': 1.5, 'timestamp': 1642396169733, 'rdAvgECTPerIO': 13.337, 'rdAvgInterIOGap': 1}, {'rdAvgIOPs': 33.333332, 'tier': 0, 'wrAvgIOPs': 16.666666, 'rdAvgSizePerIO': 4096, 'baselineStatus': 'init', 'wrAvgECTPerIO': 19.064, 'wrAvgSizePerIO': 8192, 'flowId': 24000, 'wrAvgInterIOGap': 1.5, 'timestamp': 1642396319733, 'rdAvgECTPerIO': 14.065, 'rdAvgInterIOGap': 1}, {'rdAvgIOPs': 33.333332, 'tier': 0, 'wrAvgIOPs': 16.666666, 'rdAvgSizePerIO': 4096, 'baselineStatus': 'init', 'wrAvgECTPerIO': 19.224, 'wrAvgSizePerIO': 8192, 'flowId': 24000, 'wrAvgInterIOGap': 1.5, 'timestamp': 1642396169733, 'rdAvgECTPerIO': 14.224, 'rdAvgInterIOGap': 1}, {'rdAvgIOPs': 33.333332, 'tier': 0, 'wrAvgIOPs': 16.666666, 'rdAvgSizePerIO': 4096, 'baselineStatus': 'init', 'wrAvgECTPerIO': 17.986, 'wrAvgSizePerIO': 8192, 'flowId': 32000, 'wrAvgInterIOGap': 1.5, 'timestamp': 1642396169733, 'rdAvgECTPerIO': 12.986, 'rdAvgInterIOGap': 1}, {'rdAvgIOPs': 33.333332, 'tier': 0, 'wrAvgIOPs': 16.666666, 'rdAvgSizePerIO': 4096, 'baselineStatus': 'init', 'wrAvgECTPerIO': 18.884, 'wrAvgSizePerIO': 8192, 'flowId': 4000, 'wrAvgInterIOGap': 1.5, 'timestamp': 1642396319733, 'rdAvgECTPerIO': 13.885, 'rdAvgInterIOGap': 1}, {'rdAvgIOPs': 33.333332, 'tier': 0, 'wrAvgIOPs': 16.666666, 'rdAvgSizePerIO': 4096, 'baselineStatus': 'init', 'wrAvgECTPerIO': 18.884, 'wrAvgSizePerIO': 8192, 'flowId': 16000, 'wrAvgInterIOGap': 1.5, 'timestamp': 1642396319733, 'rdAvgECTPerIO': 13.885, 'rdAvgInterIOGap': 1}, {'rdAvgIOPs': 33.333332, 'tier': 0, 'wrAvgIOPs': 16.666666, 'rdAvgSizePerIO': 4096, 'baselineStatus': 'init', 'wrAvgECTPerIO': 19.246, 'wrAvgSizePerIO': 8192, 'flowId': 20000, 'wrAvgInterIOGap': 1.5, 'timestamp': 1642396319733, 'rdAvgECTPerIO': 14.246, 'rdAvgInterIOGap': 1}, {'rdAvgIOPs': 33.333332, 'tier': 0, 'wrAvgIOPs': 16.666666, 'rdAvgSizePerIO': 4096, 'baselineStatus': 'init', 'wrAvgECTPerIO': 19.06, 'wrAvgSizePerIO': 8192, 'flowId': 24000, 'wrAvgInterIOGap': 1.5, 'timestamp': 1642396229733, 'rdAvgECTPerIO': 14.06, 'rdAvgInterIOGap': 1}, {'rdAvgIOPs': 33.333332, 'tier': 0, 'wrAvgIOPs': 16.666666, 'rdAvgSizePerIO': 4096, 'baselineStatus': 'init', 'wrAvgECTPerIO': 20.512, 'wrAvgSizePerIO': 8192, 'flowId': 4000, 'wrAvgInterIOGap': 1.5, 'timestamp': 1642396289733, 'rdAvgECTPerIO': 15.513, 'rdAvgInterIOGap': 1}, {'rdAvgIOPs': 33.333332, 'tier': 0, 'wrAvgIOPs': 16.666666, 'rdAvgSizePerIO': 4096, 'baselineStatus': 'init', 'wrAvgECTPerIO': 19.332, 'wrAvgSizePerIO': 8192, 'flowId': 12000, 'wrAvgInterIOGap': 1.5, 'timestamp': 1642396289733, 'rdAvgECTPerIO': 14.333, 'rdAvgInterIOGap': 1}, {'rdAvgIOPs': 33.333332, 'tier': 0, 'wrAvgIOPs': 16.666666, 'rdAvgSizePerIO': 4096, 'baselineStatus': 'init', 'wrAvgECTPerIO': 20.512, 'wrAvgSizePerIO': 8192, 'flowId': 16000, 'wrAvgInterIOGap': 1.5, 'timestamp': 1642396289733, 'rdAvgECTPerIO': 15.513, 'rdAvgInterIOGap': 1}, {'rdAvgIOPs': 33.333332, 'tier': 0, 'wrAvgIOPs': 16.666666, 'rdAvgSizePerIO': 4096, 'baselineStatus': 'init', 'wrAvgECTPerIO': 19.592, 'wrAvgSizePerIO': 8192, 'flowId': 40000, 'wrAvgInterIOGap': 1.5, 'timestamp': 1642396289733, 'rdAvgECTPerIO': 14.592, 'rdAvgInterIOGap': 1}, {'rdAvgIOPs': 33.333332, 'tier': 0, 'wrAvgIOPs': 16.666666, 'rdAvgSizePerIO': 4096, 'baselineStatus': 'init', 'wrAvgECTPerIO': 20.612, 'wrAvgSizePerIO': 8192, 'flowId': 32000, 'wrAvgInterIOGap': 1.5, 'timestamp': 1642396289733, 'rdAvgECTPerIO': 15.613, 'rdAvgInterIOGap': 1}, {'rdAvgIOPs': 33.333332, 'tier': 0, 'wrAvgIOPs': 16.666666, 'rdAvgSizePerIO': 4096, 'baselineStatus': 'init', 'wrAvgECTPerIO': 19.66, 'wrAvgSizePerIO': 8192, 'flowId': 8000, 'wrAvgInterIOGap': 1.5, 'timestamp': 1642396169733, 'rdAvgECTPerIO': 14.66, 'rdAvgInterIOGap': 1}]\n",
    "df = pd.DataFrame(flow_docs_list)\n",
    "df.set_index('flowId', inplace=True)\n",
    "\n",
    "for flowid in df.index:\n",
    "    gg_2 = df.loc[flowid]\n",
    "    ans.append(gg_2[\"rdAvgECTPerIO\"])\n",
    "    ans.append(gg_2[\"wrAvgECTPerIO\"])\n",
    "    \n",
    "end = time.time()\n",
    "\n",
    "print(\"Time taken = \", end-init)\n",
    "    "
   ]
  },
  {
   "cell_type": "code",
   "execution_count": 77,
   "metadata": {},
   "outputs": [
    {
     "name": "stdout",
     "output_type": "stream",
     "text": [
      "Time taken =  0.015239953994750977\n"
     ]
    },
    {
     "data": {
      "text/html": [
       "<div>\n",
       "<style scoped>\n",
       "    .dataframe tbody tr th:only-of-type {\n",
       "        vertical-align: middle;\n",
       "    }\n",
       "\n",
       "    .dataframe tbody tr th {\n",
       "        vertical-align: top;\n",
       "    }\n",
       "\n",
       "    .dataframe thead tr th {\n",
       "        text-align: left;\n",
       "    }\n",
       "\n",
       "    .dataframe thead tr:last-of-type th {\n",
       "        text-align: right;\n",
       "    }\n",
       "</style>\n",
       "<table border=\"1\" class=\"dataframe\">\n",
       "  <thead>\n",
       "    <tr>\n",
       "      <th></th>\n",
       "      <th>rdAvgIOPs</th>\n",
       "      <th>timestamp</th>\n",
       "      <th colspan=\"2\" halign=\"left\">rdAvgECTPerIO</th>\n",
       "      <th colspan=\"2\" halign=\"left\">wrAvgECTPerIO</th>\n",
       "    </tr>\n",
       "    <tr>\n",
       "      <th></th>\n",
       "      <th>mean</th>\n",
       "      <th>min</th>\n",
       "      <th>mean</th>\n",
       "      <th>median</th>\n",
       "      <th>mean</th>\n",
       "      <th>median_absolute_deviation</th>\n",
       "    </tr>\n",
       "    <tr>\n",
       "      <th>flowId</th>\n",
       "      <th></th>\n",
       "      <th></th>\n",
       "      <th></th>\n",
       "      <th></th>\n",
       "      <th></th>\n",
       "      <th></th>\n",
       "    </tr>\n",
       "  </thead>\n",
       "  <tbody>\n",
       "    <tr>\n",
       "      <th>4000</th>\n",
       "      <td>33.333332</td>\n",
       "      <td>1642396169733</td>\n",
       "      <td>14.337333</td>\n",
       "      <td>14.1520</td>\n",
       "      <td>19.336333</td>\n",
       "      <td>1.538939</td>\n",
       "    </tr>\n",
       "    <tr>\n",
       "      <th>8000</th>\n",
       "      <td>33.333332</td>\n",
       "      <td>1642396169733</td>\n",
       "      <td>14.447333</td>\n",
       "      <td>14.5265</td>\n",
       "      <td>19.446667</td>\n",
       "      <td>0.419576</td>\n",
       "    </tr>\n",
       "    <tr>\n",
       "      <th>12000</th>\n",
       "      <td>33.333332</td>\n",
       "      <td>1642396169733</td>\n",
       "      <td>14.320167</td>\n",
       "      <td>14.1460</td>\n",
       "      <td>19.319667</td>\n",
       "      <td>0.124538</td>\n",
       "    </tr>\n",
       "    <tr>\n",
       "      <th>16000</th>\n",
       "      <td>33.333332</td>\n",
       "      <td>1642396169733</td>\n",
       "      <td>14.337333</td>\n",
       "      <td>14.1520</td>\n",
       "      <td>19.336333</td>\n",
       "      <td>1.538939</td>\n",
       "    </tr>\n",
       "    <tr>\n",
       "      <th>20000</th>\n",
       "      <td>33.333332</td>\n",
       "      <td>1642396169733</td>\n",
       "      <td>13.675833</td>\n",
       "      <td>13.5115</td>\n",
       "      <td>18.675667</td>\n",
       "      <td>0.730922</td>\n",
       "    </tr>\n",
       "    <tr>\n",
       "      <th>24000</th>\n",
       "      <td>33.333332</td>\n",
       "      <td>1642396169733</td>\n",
       "      <td>14.320167</td>\n",
       "      <td>14.1460</td>\n",
       "      <td>19.319667</td>\n",
       "      <td>0.124538</td>\n",
       "    </tr>\n",
       "    <tr>\n",
       "      <th>28000</th>\n",
       "      <td>33.333332</td>\n",
       "      <td>1642396169733</td>\n",
       "      <td>14.806667</td>\n",
       "      <td>14.6660</td>\n",
       "      <td>19.806000</td>\n",
       "      <td>0.339515</td>\n",
       "    </tr>\n",
       "    <tr>\n",
       "      <th>32000</th>\n",
       "      <td>33.333332</td>\n",
       "      <td>1642396169733</td>\n",
       "      <td>14.705833</td>\n",
       "      <td>14.8325</td>\n",
       "      <td>19.705333</td>\n",
       "      <td>0.588592</td>\n",
       "    </tr>\n",
       "    <tr>\n",
       "      <th>36000</th>\n",
       "      <td>33.333332</td>\n",
       "      <td>1642396169733</td>\n",
       "      <td>14.447333</td>\n",
       "      <td>14.5265</td>\n",
       "      <td>19.446667</td>\n",
       "      <td>0.419576</td>\n",
       "    </tr>\n",
       "    <tr>\n",
       "      <th>40000</th>\n",
       "      <td>33.333332</td>\n",
       "      <td>1642396169733</td>\n",
       "      <td>14.808667</td>\n",
       "      <td>14.7740</td>\n",
       "      <td>19.808333</td>\n",
       "      <td>0.839152</td>\n",
       "    </tr>\n",
       "  </tbody>\n",
       "</table>\n",
       "</div>"
      ],
      "text/plain": [
       "        rdAvgIOPs      timestamp rdAvgECTPerIO          wrAvgECTPerIO  \\\n",
       "             mean            min          mean   median          mean   \n",
       "flowId                                                                  \n",
       "4000    33.333332  1642396169733     14.337333  14.1520     19.336333   \n",
       "8000    33.333332  1642396169733     14.447333  14.5265     19.446667   \n",
       "12000   33.333332  1642396169733     14.320167  14.1460     19.319667   \n",
       "16000   33.333332  1642396169733     14.337333  14.1520     19.336333   \n",
       "20000   33.333332  1642396169733     13.675833  13.5115     18.675667   \n",
       "24000   33.333332  1642396169733     14.320167  14.1460     19.319667   \n",
       "28000   33.333332  1642396169733     14.806667  14.6660     19.806000   \n",
       "32000   33.333332  1642396169733     14.705833  14.8325     19.705333   \n",
       "36000   33.333332  1642396169733     14.447333  14.5265     19.446667   \n",
       "40000   33.333332  1642396169733     14.808667  14.7740     19.808333   \n",
       "\n",
       "                                  \n",
       "       median_absolute_deviation  \n",
       "flowId                            \n",
       "4000                    1.538939  \n",
       "8000                    0.419576  \n",
       "12000                   0.124538  \n",
       "16000                   1.538939  \n",
       "20000                   0.730922  \n",
       "24000                   0.124538  \n",
       "28000                   0.339515  \n",
       "32000                   0.588592  \n",
       "36000                   0.419576  \n",
       "40000                   0.839152  "
      ]
     },
     "execution_count": 77,
     "metadata": {},
     "output_type": "execute_result"
    }
   ],
   "source": [
    "import time\n",
    "init = time.time()\n",
    "import pandas as pd\n",
    "import numpy as np\n",
    "from scipy import stats\n",
    "\n",
    "flow_docs_list = [{'rdAvgIOPs': 33.333332, 'tier': 0, 'wrAvgIOPs': 16.666666, 'rdAvgSizePerIO': 4096, 'baselineStatus': 'init', 'wrAvgECTPerIO': 19.392, 'wrAvgSizePerIO': 8192, 'flowId': 8000, 'wrAvgInterIOGap': 1.5, 'timestamp': 1642396289733, 'rdAvgECTPerIO': 14.393, 'rdAvgInterIOGap': 1}, {'rdAvgIOPs': 33.333332, 'tier': 0, 'wrAvgIOPs': 16.666666, 'rdAvgSizePerIO': 4096, 'baselineStatus': 'init', 'wrAvgECTPerIO': 17.506, 'wrAvgSizePerIO': 8192, 'flowId': 20000, 'wrAvgInterIOGap': 1.5, 'timestamp': 1642396289733, 'rdAvgECTPerIO': 12.506, 'rdAvgInterIOGap': 1}, {'rdAvgIOPs': 33.333332, 'tier': 0, 'wrAvgIOPs': 16.666666, 'rdAvgSizePerIO': 4096, 'baselineStatus': 'init', 'wrAvgECTPerIO': 19.724, 'wrAvgSizePerIO': 8192, 'flowId': 28000, 'wrAvgInterIOGap': 1.5, 'timestamp': 1642396289733, 'rdAvgECTPerIO': 14.724, 'rdAvgInterIOGap': 1}, {'rdAvgIOPs': 33.333332, 'tier': 0, 'wrAvgIOPs': 16.666666, 'rdAvgSizePerIO': 4096, 'baselineStatus': 'init', 'wrAvgECTPerIO': 19.392, 'wrAvgSizePerIO': 8192, 'flowId': 36000, 'wrAvgInterIOGap': 1.5, 'timestamp': 1642396289733, 'rdAvgECTPerIO': 14.393, 'rdAvgInterIOGap': 1}, {'rdAvgIOPs': 33.333332, 'tier': 0, 'wrAvgIOPs': 16.666666, 'rdAvgSizePerIO': 4096, 'baselineStatus': 'init', 'wrAvgECTPerIO': 19.332, 'wrAvgSizePerIO': 8192, 'flowId': 24000, 'wrAvgInterIOGap': 1.5, 'timestamp': 1642396289733, 'rdAvgECTPerIO': 14.333, 'rdAvgInterIOGap': 1}, {'rdAvgIOPs': 33.333332, 'tier': 0, 'wrAvgIOPs': 16.666666, 'rdAvgSizePerIO': 4096, 'baselineStatus': 'init', 'wrAvgECTPerIO': 20.17, 'wrAvgSizePerIO': 8192, 'flowId': 24000, 'wrAvgInterIOGap': 1.5, 'timestamp': 1642396259733, 'rdAvgECTPerIO': 15.171, 'rdAvgInterIOGap': 1}, {'rdAvgIOPs': 33.333332, 'tier': 0, 'wrAvgIOPs': 16.666666, 'rdAvgSizePerIO': 4096, 'baselineStatus': 'init', 'wrAvgECTPerIO': 19.418, 'wrAvgSizePerIO': 8192, 'flowId': 4000, 'wrAvgInterIOGap': 1.5, 'timestamp': 1642396199733, 'rdAvgECTPerIO': 14.419, 'rdAvgInterIOGap': 1}, {'rdAvgIOPs': 33.333332, 'tier': 0, 'wrAvgIOPs': 16.666666, 'rdAvgSizePerIO': 4096, 'baselineStatus': 'init', 'wrAvgECTPerIO': 19.328, 'wrAvgSizePerIO': 8192, 'flowId': 28000, 'wrAvgInterIOGap': 1.5, 'timestamp': 1642396259733, 'rdAvgECTPerIO': 14.329, 'rdAvgInterIOGap': 1}, {'rdAvgIOPs': 33.333332, 'tier': 0, 'wrAvgIOPs': 16.666666, 'rdAvgSizePerIO': 4096, 'baselineStatus': 'init', 'wrAvgECTPerIO': 20.106, 'wrAvgSizePerIO': 8192, 'flowId': 8000, 'wrAvgInterIOGap': 1.5, 'timestamp': 1642396199733, 'rdAvgECTPerIO': 15.106, 'rdAvgInterIOGap': 1}, {'rdAvgIOPs': 33.333332, 'tier': 0, 'wrAvgIOPs': 16.666666, 'rdAvgSizePerIO': 4096, 'baselineStatus': 'init', 'wrAvgECTPerIO': 19.418, 'wrAvgSizePerIO': 8192, 'flowId': 16000, 'wrAvgInterIOGap': 1.5, 'timestamp': 1642396199733, 'rdAvgECTPerIO': 14.419, 'rdAvgInterIOGap': 1}, {'rdAvgIOPs': 33.333332, 'tier': 0, 'wrAvgIOPs': 16.666666, 'rdAvgSizePerIO': 4096, 'baselineStatus': 'init', 'wrAvgECTPerIO': 20.02, 'wrAvgSizePerIO': 8192, 'flowId': 20000, 'wrAvgInterIOGap': 1.5, 'timestamp': 1642396199733, 'rdAvgECTPerIO': 15.02, 'rdAvgInterIOGap': 1}, {'rdAvgIOPs': 33.333332, 'tier': 0, 'wrAvgIOPs': 16.666666, 'rdAvgSizePerIO': 4096, 'baselineStatus': 'init', 'wrAvgECTPerIO': 19.798, 'wrAvgSizePerIO': 8192, 'flowId': 8000, 'wrAvgInterIOGap': 1.5, 'timestamp': 1642396229733, 'rdAvgECTPerIO': 14.799, 'rdAvgInterIOGap': 1}, {'rdAvgIOPs': 33.333332, 'tier': 0, 'wrAvgIOPs': 16.666666, 'rdAvgSizePerIO': 4096, 'baselineStatus': 'init', 'wrAvgECTPerIO': 18.336, 'wrAvgSizePerIO': 8192, 'flowId': 16000, 'wrAvgInterIOGap': 1.5, 'timestamp': 1642396169733, 'rdAvgECTPerIO': 13.337, 'rdAvgInterIOGap': 1}, {'rdAvgIOPs': 33.333332, 'tier': 0, 'wrAvgIOPs': 16.666666, 'rdAvgSizePerIO': 4096, 'baselineStatus': 'init', 'wrAvgECTPerIO': 19.588, 'wrAvgSizePerIO': 8192, 'flowId': 32000, 'wrAvgInterIOGap': 1.5, 'timestamp': 1642396199733, 'rdAvgECTPerIO': 14.589, 'rdAvgInterIOGap': 1}, {'rdAvgIOPs': 33.333332, 'tier': 0, 'wrAvgIOPs': 16.666666, 'rdAvgSizePerIO': 4096, 'baselineStatus': 'init', 'wrAvgECTPerIO': 18.356, 'wrAvgSizePerIO': 8192, 'flowId': 20000, 'wrAvgInterIOGap': 1.5, 'timestamp': 1642396169733, 'rdAvgECTPerIO': 13.357, 'rdAvgInterIOGap': 1}, {'rdAvgIOPs': 33.333332, 'tier': 0, 'wrAvgIOPs': 16.666666, 'rdAvgSizePerIO': 4096, 'baselineStatus': 'init', 'wrAvgECTPerIO': 18.842, 'wrAvgSizePerIO': 8192, 'flowId': 40000, 'wrAvgInterIOGap': 1.5, 'timestamp': 1642396199733, 'rdAvgECTPerIO': 13.842, 'rdAvgInterIOGap': 1}, {'rdAvgIOPs': 33.333332, 'tier': 0, 'wrAvgIOPs': 16.666666, 'rdAvgSizePerIO': 4096, 'baselineStatus': 'init', 'wrAvgECTPerIO': 20.106, 'wrAvgSizePerIO': 8192, 'flowId': 36000, 'wrAvgInterIOGap': 1.5, 'timestamp': 1642396199733, 'rdAvgECTPerIO': 15.106, 'rdAvgInterIOGap': 1}, {'rdAvgIOPs': 33.333332, 'tier': 0, 'wrAvgIOPs': 16.666666, 'rdAvgSizePerIO': 4096, 'baselineStatus': 'init', 'wrAvgECTPerIO': 18.26, 'wrAvgSizePerIO': 8192, 'flowId': 20000, 'wrAvgInterIOGap': 1.5, 'timestamp': 1642396229733, 'rdAvgECTPerIO': 13.26, 'rdAvgInterIOGap': 1}, {'rdAvgIOPs': 33.333332, 'tier': 0, 'wrAvgIOPs': 16.666666, 'rdAvgSizePerIO': 4096, 'baselineStatus': 'init', 'wrAvgECTPerIO': 18.666, 'wrAvgSizePerIO': 8192, 'flowId': 20000, 'wrAvgInterIOGap': 1.5, 'timestamp': 1642396259733, 'rdAvgECTPerIO': 13.666, 'rdAvgInterIOGap': 1}, {'rdAvgIOPs': 33.333332, 'tier': 0, 'wrAvgIOPs': 16.666666, 'rdAvgSizePerIO': 4096, 'baselineStatus': 'init', 'wrAvgECTPerIO': 19.064, 'wrAvgSizePerIO': 8192, 'flowId': 12000, 'wrAvgInterIOGap': 1.5, 'timestamp': 1642396319733, 'rdAvgECTPerIO': 14.065, 'rdAvgInterIOGap': 1}, {'rdAvgIOPs': 33.333332, 'tier': 0, 'wrAvgIOPs': 16.666666, 'rdAvgSizePerIO': 4096, 'baselineStatus': 'init', 'wrAvgECTPerIO': 19.608, 'wrAvgSizePerIO': 8192, 'flowId': 28000, 'wrAvgInterIOGap': 1.5, 'timestamp': 1642396199733, 'rdAvgECTPerIO': 14.608, 'rdAvgInterIOGap': 1}, {'rdAvgIOPs': 33.333332, 'tier': 0, 'wrAvgIOPs': 16.666666, 'rdAvgSizePerIO': 4096, 'baselineStatus': 'init', 'wrAvgECTPerIO': 19.068, 'wrAvgSizePerIO': 8192, 'flowId': 12000, 'wrAvgInterIOGap': 1.5, 'timestamp': 1642396199733, 'rdAvgECTPerIO': 14.068, 'rdAvgInterIOGap': 1}, {'rdAvgIOPs': 33.333332, 'tier': 0, 'wrAvgIOPs': 16.666666, 'rdAvgSizePerIO': 4096, 'baselineStatus': 'init', 'wrAvgECTPerIO': 19.224, 'wrAvgSizePerIO': 8192, 'flowId': 12000, 'wrAvgInterIOGap': 1.5, 'timestamp': 1642396169733, 'rdAvgECTPerIO': 14.224, 'rdAvgInterIOGap': 1}, {'rdAvgIOPs': 33.333332, 'tier': 0, 'wrAvgIOPs': 16.666666, 'rdAvgSizePerIO': 4096, 'baselineStatus': 'init', 'wrAvgECTPerIO': 17.89, 'wrAvgSizePerIO': 8192, 'flowId': 4000, 'wrAvgInterIOGap': 1.5, 'timestamp': 1642396259733, 'rdAvgECTPerIO': 12.891, 'rdAvgInterIOGap': 1}, {'rdAvgIOPs': 33.333332, 'tier': 0, 'wrAvgIOPs': 16.666666, 'rdAvgSizePerIO': 4096, 'baselineStatus': 'init', 'wrAvgECTPerIO': 20.978, 'wrAvgSizePerIO': 8192, 'flowId': 4000, 'wrAvgInterIOGap': 1.5, 'timestamp': 1642396229733, 'rdAvgECTPerIO': 15.979, 'rdAvgInterIOGap': 1}, {'rdAvgIOPs': 33.333332, 'tier': 0, 'wrAvgIOPs': 16.666666, 'rdAvgSizePerIO': 4096, 'baselineStatus': 'init', 'wrAvgECTPerIO': 19.06, 'wrAvgSizePerIO': 8192, 'flowId': 12000, 'wrAvgInterIOGap': 1.5, 'timestamp': 1642396229733, 'rdAvgECTPerIO': 14.06, 'rdAvgInterIOGap': 1}, {'rdAvgIOPs': 33.333332, 'tier': 0, 'wrAvgIOPs': 16.666666, 'rdAvgSizePerIO': 4096, 'baselineStatus': 'init', 'wrAvgECTPerIO': 20.564, 'wrAvgSizePerIO': 8192, 'flowId': 40000, 'wrAvgInterIOGap': 1.5, 'timestamp': 1642396259733, 'rdAvgECTPerIO': 15.565, 'rdAvgInterIOGap': 1}, {'rdAvgIOPs': 33.333332, 'tier': 0, 'wrAvgIOPs': 16.666666, 'rdAvgSizePerIO': 4096, 'baselineStatus': 'init', 'wrAvgECTPerIO': 19.232, 'wrAvgSizePerIO': 8192, 'flowId': 36000, 'wrAvgInterIOGap': 1.5, 'timestamp': 1642396259733, 'rdAvgECTPerIO': 14.233, 'rdAvgInterIOGap': 1}, {'rdAvgIOPs': 33.333332, 'tier': 0, 'wrAvgIOPs': 16.666666, 'rdAvgSizePerIO': 4096, 'baselineStatus': 'init', 'wrAvgECTPerIO': 19.796, 'wrAvgSizePerIO': 8192, 'flowId': 32000, 'wrAvgInterIOGap': 1.5, 'timestamp': 1642396259733, 'rdAvgECTPerIO': 14.797, 'rdAvgInterIOGap': 1}, {'rdAvgIOPs': 33.333332, 'tier': 0, 'wrAvgIOPs': 16.666666, 'rdAvgSizePerIO': 4096, 'baselineStatus': 'init', 'wrAvgECTPerIO': 19.868, 'wrAvgSizePerIO': 8192, 'flowId': 32000, 'wrAvgInterIOGap': 1.5, 'timestamp': 1642396229733, 'rdAvgECTPerIO': 14.868, 'rdAvgInterIOGap': 1}, {'rdAvgIOPs': 33.333332, 'tier': 0, 'wrAvgIOPs': 16.666666, 'rdAvgSizePerIO': 4096, 'baselineStatus': 'init', 'wrAvgECTPerIO': 19.956, 'wrAvgSizePerIO': 8192, 'flowId': 40000, 'wrAvgInterIOGap': 1.5, 'timestamp': 1642396229733, 'rdAvgECTPerIO': 14.956, 'rdAvgInterIOGap': 1}, {'rdAvgIOPs': 33.333332, 'tier': 0, 'wrAvgIOPs': 16.666666, 'rdAvgSizePerIO': 4096, 'baselineStatus': 'init', 'wrAvgECTPerIO': 20.978, 'wrAvgSizePerIO': 8192, 'flowId': 16000, 'wrAvgInterIOGap': 1.5, 'timestamp': 1642396229733, 'rdAvgECTPerIO': 15.979, 'rdAvgInterIOGap': 1}, {'rdAvgIOPs': 33.333332, 'tier': 0, 'wrAvgIOPs': 16.666666, 'rdAvgSizePerIO': 4096, 'baselineStatus': 'init', 'wrAvgECTPerIO': 19.848, 'wrAvgSizePerIO': 8192, 'flowId': 28000, 'wrAvgInterIOGap': 1.5, 'timestamp': 1642396229733, 'rdAvgECTPerIO': 14.849, 'rdAvgInterIOGap': 1}, {'rdAvgIOPs': 33.333332, 'tier': 0, 'wrAvgIOPs': 16.666666, 'rdAvgSizePerIO': 4096, 'baselineStatus': 'init', 'wrAvgECTPerIO': 20.17, 'wrAvgSizePerIO': 8192, 'flowId': 12000, 'wrAvgInterIOGap': 1.5, 'timestamp': 1642396259733, 'rdAvgECTPerIO': 15.171, 'rdAvgInterIOGap': 1}, {'rdAvgIOPs': 33.333332, 'tier': 0, 'wrAvgIOPs': 16.666666, 'rdAvgSizePerIO': 4096, 'baselineStatus': 'init', 'wrAvgECTPerIO': 18.492, 'wrAvgSizePerIO': 8192, 'flowId': 8000, 'wrAvgInterIOGap': 1.5, 'timestamp': 1642396319733, 'rdAvgECTPerIO': 13.493, 'rdAvgInterIOGap': 1}, {'rdAvgIOPs': 33.333332, 'tier': 0, 'wrAvgIOPs': 16.666666, 'rdAvgSizePerIO': 4096, 'baselineStatus': 'init', 'wrAvgECTPerIO': 19.798, 'wrAvgSizePerIO': 8192, 'flowId': 36000, 'wrAvgInterIOGap': 1.5, 'timestamp': 1642396229733, 'rdAvgECTPerIO': 14.799, 'rdAvgInterIOGap': 1}, {'rdAvgIOPs': 33.333332, 'tier': 0, 'wrAvgIOPs': 16.666666, 'rdAvgSizePerIO': 4096, 'baselineStatus': 'init', 'wrAvgECTPerIO': 19.39, 'wrAvgSizePerIO': 8192, 'flowId': 28000, 'wrAvgInterIOGap': 1.5, 'timestamp': 1642396319733, 'rdAvgECTPerIO': 14.391, 'rdAvgInterIOGap': 1}, {'rdAvgIOPs': 33.333332, 'tier': 0, 'wrAvgIOPs': 16.666666, 'rdAvgSizePerIO': 4096, 'baselineStatus': 'init', 'wrAvgECTPerIO': 19.232, 'wrAvgSizePerIO': 8192, 'flowId': 8000, 'wrAvgInterIOGap': 1.5, 'timestamp': 1642396259733, 'rdAvgECTPerIO': 14.233, 'rdAvgInterIOGap': 1}, {'rdAvgIOPs': 33.333332, 'tier': 0, 'wrAvgIOPs': 16.666666, 'rdAvgSizePerIO': 4096, 'baselineStatus': 'init', 'wrAvgECTPerIO': 20.382, 'wrAvgSizePerIO': 8192, 'flowId': 32000, 'wrAvgInterIOGap': 1.5, 'timestamp': 1642396319733, 'rdAvgECTPerIO': 15.382, 'rdAvgInterIOGap': 1}, {'rdAvgIOPs': 33.333332, 'tier': 0, 'wrAvgIOPs': 16.666666, 'rdAvgSizePerIO': 4096, 'baselineStatus': 'init', 'wrAvgECTPerIO': 19.382, 'wrAvgSizePerIO': 8192, 'flowId': 40000, 'wrAvgInterIOGap': 1.5, 'timestamp': 1642396169733, 'rdAvgECTPerIO': 14.382, 'rdAvgInterIOGap': 1}, {'rdAvgIOPs': 33.333332, 'tier': 0, 'wrAvgIOPs': 16.666666, 'rdAvgSizePerIO': 4096, 'baselineStatus': 'init', 'wrAvgECTPerIO': 18.492, 'wrAvgSizePerIO': 8192, 'flowId': 36000, 'wrAvgInterIOGap': 1.5, 'timestamp': 1642396319733, 'rdAvgECTPerIO': 13.493, 'rdAvgInterIOGap': 1}, {'rdAvgIOPs': 33.333332, 'tier': 0, 'wrAvgIOPs': 16.666666, 'rdAvgSizePerIO': 4096, 'baselineStatus': 'init', 'wrAvgECTPerIO': 20.514, 'wrAvgSizePerIO': 8192, 'flowId': 40000, 'wrAvgInterIOGap': 1.5, 'timestamp': 1642396319733, 'rdAvgECTPerIO': 15.515, 'rdAvgInterIOGap': 1}, {'rdAvgIOPs': 33.333332, 'tier': 0, 'wrAvgIOPs': 16.666666, 'rdAvgSizePerIO': 4096, 'baselineStatus': 'init', 'wrAvgECTPerIO': 19.66, 'wrAvgSizePerIO': 8192, 'flowId': 36000, 'wrAvgInterIOGap': 1.5, 'timestamp': 1642396169733, 'rdAvgECTPerIO': 14.66, 'rdAvgInterIOGap': 1}, {'rdAvgIOPs': 33.333332, 'tier': 0, 'wrAvgIOPs': 16.666666, 'rdAvgSizePerIO': 4096, 'baselineStatus': 'init', 'wrAvgECTPerIO': 19.068, 'wrAvgSizePerIO': 8192, 'flowId': 24000, 'wrAvgInterIOGap': 1.5, 'timestamp': 1642396199733, 'rdAvgECTPerIO': 14.068, 'rdAvgInterIOGap': 1}, {'rdAvgIOPs': 33.333332, 'tier': 0, 'wrAvgIOPs': 16.666666, 'rdAvgSizePerIO': 4096, 'baselineStatus': 'init', 'wrAvgECTPerIO': 17.89, 'wrAvgSizePerIO': 8192, 'flowId': 16000, 'wrAvgInterIOGap': 1.5, 'timestamp': 1642396259733, 'rdAvgECTPerIO': 12.891, 'rdAvgInterIOGap': 1}, {'rdAvgIOPs': 33.333332, 'tier': 0, 'wrAvgIOPs': 16.666666, 'rdAvgSizePerIO': 4096, 'baselineStatus': 'init', 'wrAvgECTPerIO': 20.938, 'wrAvgSizePerIO': 8192, 'flowId': 28000, 'wrAvgInterIOGap': 1.5, 'timestamp': 1642396169733, 'rdAvgECTPerIO': 15.939, 'rdAvgInterIOGap': 1}, {'rdAvgIOPs': 33.333332, 'tier': 0, 'wrAvgIOPs': 16.666666, 'rdAvgSizePerIO': 4096, 'baselineStatus': 'init', 'wrAvgECTPerIO': 18.336, 'wrAvgSizePerIO': 8192, 'flowId': 4000, 'wrAvgInterIOGap': 1.5, 'timestamp': 1642396169733, 'rdAvgECTPerIO': 13.337, 'rdAvgInterIOGap': 1}, {'rdAvgIOPs': 33.333332, 'tier': 0, 'wrAvgIOPs': 16.666666, 'rdAvgSizePerIO': 4096, 'baselineStatus': 'init', 'wrAvgECTPerIO': 19.064, 'wrAvgSizePerIO': 8192, 'flowId': 24000, 'wrAvgInterIOGap': 1.5, 'timestamp': 1642396319733, 'rdAvgECTPerIO': 14.065, 'rdAvgInterIOGap': 1}, {'rdAvgIOPs': 33.333332, 'tier': 0, 'wrAvgIOPs': 16.666666, 'rdAvgSizePerIO': 4096, 'baselineStatus': 'init', 'wrAvgECTPerIO': 19.224, 'wrAvgSizePerIO': 8192, 'flowId': 24000, 'wrAvgInterIOGap': 1.5, 'timestamp': 1642396169733, 'rdAvgECTPerIO': 14.224, 'rdAvgInterIOGap': 1}, {'rdAvgIOPs': 33.333332, 'tier': 0, 'wrAvgIOPs': 16.666666, 'rdAvgSizePerIO': 4096, 'baselineStatus': 'init', 'wrAvgECTPerIO': 17.986, 'wrAvgSizePerIO': 8192, 'flowId': 32000, 'wrAvgInterIOGap': 1.5, 'timestamp': 1642396169733, 'rdAvgECTPerIO': 12.986, 'rdAvgInterIOGap': 1}, {'rdAvgIOPs': 33.333332, 'tier': 0, 'wrAvgIOPs': 16.666666, 'rdAvgSizePerIO': 4096, 'baselineStatus': 'init', 'wrAvgECTPerIO': 18.884, 'wrAvgSizePerIO': 8192, 'flowId': 4000, 'wrAvgInterIOGap': 1.5, 'timestamp': 1642396319733, 'rdAvgECTPerIO': 13.885, 'rdAvgInterIOGap': 1}, {'rdAvgIOPs': 33.333332, 'tier': 0, 'wrAvgIOPs': 16.666666, 'rdAvgSizePerIO': 4096, 'baselineStatus': 'init', 'wrAvgECTPerIO': 18.884, 'wrAvgSizePerIO': 8192, 'flowId': 16000, 'wrAvgInterIOGap': 1.5, 'timestamp': 1642396319733, 'rdAvgECTPerIO': 13.885, 'rdAvgInterIOGap': 1}, {'rdAvgIOPs': 33.333332, 'tier': 0, 'wrAvgIOPs': 16.666666, 'rdAvgSizePerIO': 4096, 'baselineStatus': 'init', 'wrAvgECTPerIO': 19.246, 'wrAvgSizePerIO': 8192, 'flowId': 20000, 'wrAvgInterIOGap': 1.5, 'timestamp': 1642396319733, 'rdAvgECTPerIO': 14.246, 'rdAvgInterIOGap': 1}, {'rdAvgIOPs': 33.333332, 'tier': 0, 'wrAvgIOPs': 16.666666, 'rdAvgSizePerIO': 4096, 'baselineStatus': 'init', 'wrAvgECTPerIO': 19.06, 'wrAvgSizePerIO': 8192, 'flowId': 24000, 'wrAvgInterIOGap': 1.5, 'timestamp': 1642396229733, 'rdAvgECTPerIO': 14.06, 'rdAvgInterIOGap': 1}, {'rdAvgIOPs': 33.333332, 'tier': 0, 'wrAvgIOPs': 16.666666, 'rdAvgSizePerIO': 4096, 'baselineStatus': 'init', 'wrAvgECTPerIO': 20.512, 'wrAvgSizePerIO': 8192, 'flowId': 4000, 'wrAvgInterIOGap': 1.5, 'timestamp': 1642396289733, 'rdAvgECTPerIO': 15.513, 'rdAvgInterIOGap': 1}, {'rdAvgIOPs': 33.333332, 'tier': 0, 'wrAvgIOPs': 16.666666, 'rdAvgSizePerIO': 4096, 'baselineStatus': 'init', 'wrAvgECTPerIO': 19.332, 'wrAvgSizePerIO': 8192, 'flowId': 12000, 'wrAvgInterIOGap': 1.5, 'timestamp': 1642396289733, 'rdAvgECTPerIO': 14.333, 'rdAvgInterIOGap': 1}, {'rdAvgIOPs': 33.333332, 'tier': 0, 'wrAvgIOPs': 16.666666, 'rdAvgSizePerIO': 4096, 'baselineStatus': 'init', 'wrAvgECTPerIO': 20.512, 'wrAvgSizePerIO': 8192, 'flowId': 16000, 'wrAvgInterIOGap': 1.5, 'timestamp': 1642396289733, 'rdAvgECTPerIO': 15.513, 'rdAvgInterIOGap': 1}, {'rdAvgIOPs': 33.333332, 'tier': 0, 'wrAvgIOPs': 16.666666, 'rdAvgSizePerIO': 4096, 'baselineStatus': 'init', 'wrAvgECTPerIO': 19.592, 'wrAvgSizePerIO': 8192, 'flowId': 40000, 'wrAvgInterIOGap': 1.5, 'timestamp': 1642396289733, 'rdAvgECTPerIO': 14.592, 'rdAvgInterIOGap': 1}, {'rdAvgIOPs': 33.333332, 'tier': 0, 'wrAvgIOPs': 16.666666, 'rdAvgSizePerIO': 4096, 'baselineStatus': 'init', 'wrAvgECTPerIO': 20.612, 'wrAvgSizePerIO': 8192, 'flowId': 32000, 'wrAvgInterIOGap': 1.5, 'timestamp': 1642396289733, 'rdAvgECTPerIO': 15.613, 'rdAvgInterIOGap': 1}, {'rdAvgIOPs': 33.333332, 'tier': 0, 'wrAvgIOPs': 16.666666, 'rdAvgSizePerIO': 4096, 'baselineStatus': 'init', 'wrAvgECTPerIO': 19.66, 'wrAvgSizePerIO': 8192, 'flowId': 8000, 'wrAvgInterIOGap': 1.5, 'timestamp': 1642396169733, 'rdAvgECTPerIO': 14.66, 'rdAvgInterIOGap': 1}]\n",
    "df = pd.DataFrame(flow_docs_list)\n",
    "df.set_index('flowId', inplace=True)\n",
    "\n",
    "func_mean = lambda x : sum(x)/len(x)\n",
    "func_mean.__name__ = 'mean'\n",
    "\n",
    "func_min = lambda x : min(x)\n",
    "func_min.__name__ = 'min'\n",
    "\n",
    "# metrics_list = [\"timestamp\", \"rdAvgIOPs\", \"wrAvgIOPs\", \"rdAvgSizePerIO\", \"wrAvgSizePerIO\", \"rdAvgECTPerIO\", \"wrAvgECTPerIO\", \"rdAvgInterIOGap\", \"wrAvgInterIOGap\"]\n",
    "metrics_list = [\"rdAvgECTPerIO\", \"wrAvgECTPerIO\", \"rdAvgIOPs\"]\n",
    "# grouped_df = df.groupby('flowId').agg({y: lambda x:list(x) for y in metrics_list})\n",
    "grouped_df = df.groupby('flowId').agg({'rdAvgIOPs': func_mean, 'timestamp': func_min, 'rdAvgECTPerIO': [np.mean, np.median], 'wrAvgECTPerIO': [np.mean, stats.median_absolute_deviation]})\n",
    "\n",
    "end = time.time()\n",
    "\n",
    "print(\"Time taken = \", end-init)\n",
    "\n",
    "grouped_df\n"
   ]
  },
  {
   "cell_type": "code",
   "execution_count": 73,
   "metadata": {},
   "outputs": [
    {
     "data": {
      "text/plain": [
       "mean    33.333332\n",
       "Name: 4000, dtype: float64"
      ]
     },
     "execution_count": 73,
     "metadata": {},
     "output_type": "execute_result"
    }
   ],
   "source": [
    "data = grouped_df.loc[4000]\n",
    "data[\"rdAvgIOPs\"]\n"
   ]
  },
  {
   "cell_type": "code",
   "execution_count": null,
   "metadata": {},
   "outputs": [],
   "source": []
  },
  {
   "cell_type": "markdown",
   "metadata": {},
   "source": [
    "df.columns"
   ]
  },
  {
   "cell_type": "code",
   "execution_count": null,
   "metadata": {},
   "outputs": [],
   "source": [
    "from collections import Counter\n",
    "counter = Counter(df.status)\n",
    "counter\n",
    "print(sum(counter.values()))"
   ]
  },
  {
   "cell_type": "code",
   "execution_count": null,
   "metadata": {},
   "outputs": [],
   "source": [
    "a = [1,2,3,4,5]\n",
    "b = [6,7,8]\n",
    "\n",
    "for i,j in zip(a, b):\n",
    "    print(i,j)"
   ]
  },
  {
   "cell_type": "code",
   "execution_count": null,
   "metadata": {},
   "outputs": [],
   "source": [
    "import time\n",
    "time.time()"
   ]
  },
  {
   "cell_type": "code",
   "execution_count": null,
   "metadata": {},
   "outputs": [],
   "source": []
  }
 ],
 "metadata": {
  "kernelspec": {
   "display_name": "Python 3",
   "language": "python",
   "name": "python3"
  },
  "language_info": {
   "codemirror_mode": {
    "name": "ipython",
    "version": 3
   },
   "file_extension": ".py",
   "mimetype": "text/x-python",
   "name": "python",
   "nbconvert_exporter": "python",
   "pygments_lexer": "ipython3",
   "version": "3.8.5"
  }
 },
 "nbformat": 4,
 "nbformat_minor": 4
}
