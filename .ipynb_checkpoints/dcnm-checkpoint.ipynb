{
 "cells": [
  {
   "cell_type": "code",
   "execution_count": 1,
   "metadata": {},
   "outputs": [],
   "source": [
    "import time\n",
    "import pandas as pd\n",
    "from elasticsearch import Elasticsearch, helpers\n",
    "import warnings\n",
    "warnings.filterwarnings('ignore')"
   ]
  },
  {
   "cell_type": "code",
   "execution_count": 2,
   "metadata": {},
   "outputs": [
    {
     "data": {
      "text/plain": [
       "True"
      ]
     },
     "execution_count": 2,
     "metadata": {},
     "output_type": "execute_result"
    }
   ],
   "source": [
    "es = Elasticsearch(['127.0.0.1'], \n",
    "                   port = 33514,\n",
    "                   verify_certs = False,\n",
    "                   use_ssl = False)\n",
    "es.ping()"
   ]
  },
  {
   "cell_type": "code",
   "execution_count": 3,
   "metadata": {},
   "outputs": [
    {
     "name": "stdout",
     "output_type": "stream",
     "text": [
      "san_nvme_rollup_2021_09_26\n",
      "san_nvme_trained_baseline\n",
      "san_nvme_rollup_2021_09_25\n",
      "san_fc_flows_rollup_2021_10_10\n",
      "san_nvme_rollup_2021_10_06\n",
      "san_ect_baseline_z17-core1_2021_09_29\n",
      "cisco_nialite-onboard-v1\n",
      "san_nvme_ect_baseline_z17-core1_2021_10_01\n",
      "san_fc_flows_rollup_2021_10_02\n",
      "san_fc_flows_rollup_2021_10_07\n",
      "san_nvme_ect_baseline_z17-core1_2021_10_10\n",
      "pmdb_cpumemdata\n",
      "san_ect_baseline_z17-core1_2021_10_07\n",
      "san_nvme_rollup_2021_10_11\n",
      "san_nvme_rollup_2021_10_02\n",
      "san_nvme_rollup_2021_10_07\n",
      "san_ect_baseline_z17-core1_2021_10_08\n",
      "san_nvme_rollup_2021_09_23\n",
      "san_ect_baseline_z17-core1_2021_10_02\n",
      "san_fc_flows_rollup_2021_09_29\n",
      "san_fc_flows_rollup_2021_09_25\n",
      "policy\n",
      "san_fc_flows_rollup_2021_09_27\n",
      "watchtower_stats\n",
      "san_ect_baseline_z17-core1_2021_10_01\n",
      "san_fc_flows_rollup_2021_09_23\n",
      "san_nvme_rollup_2021_09_30\n",
      "san_nvme_rollup_2021_10_03\n",
      "san_fc_flows_rollup_2021_09_22\n",
      "san_fc_flows_rollup_2021_10_01\n",
      "fc_flows_z17-core1_2021_10_11\n",
      "san_nvme_rollup_2021_10_05\n",
      "fc_nvme_flows_z17-core1_2021_10_11\n",
      "san_nvme_rollup_2021_10_01\n",
      "san_ect_baseline_z17-core1_2021_10_11\n",
      "san_fc_flows_rollup_2021_10_06\n",
      "san_fc_flows_rollup_2021_10_04\n",
      "san_nvme_rollup_2021_09_24\n",
      "san_ect_baseline_z18-dc2-edge1_2021_09_29\n",
      "fc_nvme_flows_z17-core1_2021_10_10\n",
      "san_ect_baseline_z17-core1_2021_09_30\n",
      "san_nvme_ect_baseline_z17-core1_2021_10_08\n",
      "san_nvme_ect_baseline_z17-core1_2021_10_11\n",
      "san_nvme_rollup_2021_10_09\n",
      "san_fc_flows_rollup_2021_09_30\n",
      "san_fc_flows_rollup_2021_10_11\n",
      "san_nvme_ect_baseline_z17-core1_2021_10_02\n",
      "san_nvme_ect_baseline_z17-core1_2021_10_04\n",
      "san_fc_flows_rollup_2021_10_05\n",
      "san_nvme_ect_baseline_z17-core1_2021_10_03\n",
      "watchtower_infra_elasticsearch_stats\n",
      "san_nvme_ect_baseline_z17-core1_2021_09_30\n",
      "san_trained_baseline\n",
      "san_ect_baseline_z17-core1_2021_10_03\n",
      "watchtower_alerts\n",
      "san_nvme_rollup_2021_09_21\n",
      "san_nvme_rollup_2021_09_29\n",
      "san_fc_flows_rollup_2021_09_26\n",
      "fc_flows_z17-core1_2021_10_10\n",
      "san_nvme_rollup_2021_10_04\n",
      "san_fc_flows_rollup_2021_10_09\n",
      "san_fc_flows_rollup_2021_09_21\n",
      "san_nvme_ect_baseline_z17-core1_2021_09_28\n",
      "san_ect_baseline_z17-core1_2021_10_05\n",
      "dcmdb-target\n",
      "san_fc_flows_rollup_2021_10_03\n",
      "san_nvme_ect_baseline_z17-core1_2021_10_06\n",
      "san_fc_flows_rollup_2021_10_08\n",
      "san_fc_flows_rollup_2021_09_20\n",
      "san_ect_baseline_z17-core1_2021_10_09\n",
      "san_nvme_ect_baseline_z17-core1_2021_10_05\n",
      "san_nvme_rollup_2021_10_08\n",
      "san_nvme_ect_baseline_z17-core1_2021_10_09\n",
      "san_nvme_ect_baseline_z17-core1_2021_10_07\n",
      "san_nvme_ect_baseline_z17-core1_2021_09_29\n",
      "san_nvme_rollup_2021_09_20\n",
      "san_nvme_rollup_2021_09_27\n",
      "san_nvme_rollup_2021_09_28\n",
      "san_nvme_rollup_2021_09_22\n",
      "san_ect_baseline_z17-core1_2021_10_10\n",
      "san_ect_baseline_z17-core1_2021_09_28\n",
      "san_ect_baseline_z17-core1_2021_10_04\n",
      "san_fc_flows_rollup_2021_09_28\n",
      "alarm\n",
      "san_nvme_rollup_2021_10_10\n",
      "pmdb_slowdraincounterdata\n",
      "san_ect_baseline_z17-core1_2021_10_06\n",
      "dcmdb-switch\n",
      "dcmdb-initiator\n",
      "san_fc_flows_rollup_2021_09_24\n"
     ]
    }
   ],
   "source": [
    "for index in es.indices.get_alias(\"*\"):\n",
    "    print(index)"
   ]
  },
  {
   "cell_type": "code",
   "execution_count": 4,
   "metadata": {},
   "outputs": [],
   "source": [
    "match_all = {\n",
    "    \"track_total_hits\": \"true\",\n",
    "    \"query\": {\n",
    "        \"match_all\": {}\n",
    "    }\n",
    "}"
   ]
  },
  {
   "cell_type": "code",
   "execution_count": 5,
   "metadata": {},
   "outputs": [
    {
     "name": "stdout",
     "output_type": "stream",
     "text": [
      "{'fabricId': 230, 'fabricName': 'Fabric_Z15-Agg3', 'ipAddress': '10.197.152.193', 'sysName': 'Z17-Core1', 'timestamp': '2021-09-20T11:44:20Z'}\n",
      "{'fabricId': 230, 'fabricName': 'Fabric_Z15-Agg3', 'ipAddress': '10.197.152.232', 'sysName': 'z18-dc2-edge2', 'timestamp': '2021-09-20T11:44:20Z'}\n",
      "{'fabricId': 230, 'fabricName': 'Fabric_Z15-Agg3', 'ipAddress': '10.197.152.195', 'sysName': 'Z15-Agg3', 'timestamp': '2021-09-20T11:44:20Z'}\n",
      "{'fabricId': 230, 'fabricName': 'Fabric_Z15-Agg3', 'ipAddress': '10.197.152.208', 'sysName': 'Z14-Edge3', 'timestamp': '2021-09-20T11:44:20Z'}\n",
      "{'fabricId': 230, 'fabricName': 'Fabric_Z15-Agg3', 'ipAddress': '10.197.152.210', 'sysName': 'Z14-Edge1', 'timestamp': '2021-09-20T11:44:20Z'}\n",
      "{'fabricId': 230, 'fabricName': 'Fabric_Z15-Agg3', 'ipAddress': '10.197.152.202', 'sysName': 'Z14-Edge9', 'timestamp': '2021-09-20T11:44:20Z'}\n",
      "{'fabricId': 230, 'fabricName': 'Fabric_Z15-Agg3', 'ipAddress': '10.197.152.233', 'sysName': 'z18-dc2-edge3', 'timestamp': '2021-09-20T11:44:20Z'}\n",
      "{'fabricId': 230, 'fabricName': 'Fabric_Z15-Agg3', 'ipAddress': '10.197.152.199', 'sysName': 'Z14-Edge12', 'timestamp': '2021-09-20T11:44:20Z'}\n",
      "{'fabricId': 230, 'fabricName': 'Fabric_Z15-Agg3', 'ipAddress': '10.197.152.192', 'sysName': 'Z17-Core2', 'timestamp': '2021-09-20T11:44:20Z'}\n",
      "{'fabricId': 230, 'fabricName': 'Fabric_Z15-Agg3', 'ipAddress': '10.197.152.207', 'sysName': 'Z14-Edge4', 'timestamp': '2021-09-20T11:44:20Z'}\n",
      "{'fabricId': 230, 'fabricName': 'Fabric_Z15-Agg3', 'ipAddress': '10.197.152.209', 'sysName': 'Z14-Edge2', 'timestamp': '2021-09-20T11:44:20Z'}\n",
      "{'fabricId': 230, 'fabricName': 'Fabric_Z15-Agg3', 'ipAddress': '10.197.152.206', 'sysName': 'Z14-Edge5', 'timestamp': '2021-09-20T11:44:20Z'}\n",
      "{'fabricId': 230, 'fabricName': 'Fabric_Z15-Agg3', 'ipAddress': '10.197.152.93', 'sysName': 'DC-FI-A', 'timestamp': '2021-09-20T11:44:20Z'}\n",
      "{'fabricId': 230, 'fabricName': 'Fabric_Z15-Agg3', 'ipAddress': '10.197.152.231', 'sysName': 'z18-dc2-edge1', 'timestamp': '2021-09-20T11:44:20Z'}\n",
      "{'fabricId': 230, 'fabricName': 'Fabric_Z15-Agg3', 'ipAddress': '10.197.152.196', 'sysName': 'Z15-Agg2', 'timestamp': '2021-09-20T11:44:20Z'}\n",
      "{'fabricId': 230, 'fabricName': 'Fabric_Z15-Agg3', 'ipAddress': '10.197.152.197', 'sysName': 'Z15-Agg1', 'timestamp': '2021-09-20T11:44:20Z'}\n",
      "{'fabricId': 230, 'fabricName': 'Fabric_Z15-Agg3', 'ipAddress': '10.197.152.203', 'sysName': 'Z14-Edge8', 'timestamp': '2021-09-20T11:44:20Z'}\n",
      "{'fabricId': 230, 'fabricName': 'Fabric_Z15-Agg3', 'ipAddress': '10.197.152.205', 'sysName': 'Z14-Edge6', 'timestamp': '2021-09-20T11:44:20Z'}\n",
      "{'fabricId': 230, 'fabricName': 'Fabric_Z15-Agg3', 'ipAddress': '10.197.152.94', 'sysName': 'DC-FI-B', 'timestamp': '2021-09-20T11:44:20Z'}\n",
      "{'fabricId': 230, 'fabricName': 'Fabric_Z15-Agg3', 'ipAddress': '10.197.152.201', 'sysName': 'Z14-Edge10', 'timestamp': '2021-09-20T11:44:20Z'}\n",
      "{'fabricId': 230, 'fabricName': 'Fabric_Z15-Agg3', 'ipAddress': '10.197.152.194', 'sysName': 'Z17-Core3', 'timestamp': '2021-09-20T11:44:20Z'}\n",
      "{'fabricId': 230, 'fabricName': 'Fabric_Z15-Agg3', 'ipAddress': '10.197.152.204', 'sysName': 'Z14-Edge7', 'timestamp': '2021-09-20T11:44:20Z'}\n",
      "{'fabricId': 230, 'fabricName': 'Fabric_Z15-Agg3', 'ipAddress': '10.197.152.200', 'sysName': 'Z14-Edge11', 'timestamp': '2021-09-20T11:44:20Z'}\n"
     ]
    }
   ],
   "source": [
    "resp = helpers.scan(es, index = 'dcmdb-switch', query = match_all)\n",
    "data = [x['_source'] for x in resp]\n",
    "for item in data:\n",
    "    print(item)"
   ]
  },
  {
   "cell_type": "code",
   "execution_count": 30,
   "metadata": {},
   "outputs": [
    {
     "name": "stdout",
     "output_type": "stream",
     "text": [
      "33502\n",
      "['ssh', '-N', '-f', '-L', 'localhost:33502:localhost:9200', 'admin@10.127.122.175']\n",
      "CompletedProcess(args=['ssh', '-N', '-f', '-L', 'localhost:33502:localhost:9200', 'admin@10.127.122.175'], returncode=255)\n"
     ]
    }
   ],
   "source": [
    "import subprocess\n",
    "local_port = 33502\n",
    "remote_ip = '10.127.122.175'\n",
    "print(local_port)\n",
    "cmd = 'ssh -N -f -L localhost:{}:localhost:9200 {}@{}'.format(local_port, 'admin', remote_ip)\n",
    "print(cmd.split())\n",
    "# proc = subprocess.Popen(cmd.split(), stdout=subprocess.PIPE, stderr=subprocess.PIPE)\n",
    "proc = subprocess.run(cmd.split(), shell=True)\n",
    "print(proc)"
   ]
  },
  {
   "cell_type": "code",
   "execution_count": 38,
   "metadata": {},
   "outputs": [
    {
     "ename": "NameError",
     "evalue": "name 'PIPE' is not defined",
     "output_type": "error",
     "traceback": [
      "\u001b[0;31m---------------------------------------------------------------------------\u001b[0m",
      "\u001b[0;31mNameError\u001b[0m                                 Traceback (most recent call last)",
      "\u001b[0;32m<ipython-input-38-1a7022dc320a>\u001b[0m in \u001b[0;36m<module>\u001b[0;34m\u001b[0m\n\u001b[1;32m      5\u001b[0m \u001b[0;34m\u001b[0m\u001b[0m\n\u001b[1;32m      6\u001b[0m \u001b[0mcmd\u001b[0m \u001b[0;34m=\u001b[0m \u001b[0;34m'ssh -N -f -L localhost:{}:localhost:9200 {}@{}'\u001b[0m\u001b[0;34m.\u001b[0m\u001b[0mformat\u001b[0m\u001b[0;34m(\u001b[0m\u001b[0mlocal_port\u001b[0m\u001b[0;34m,\u001b[0m \u001b[0;34m'admin'\u001b[0m\u001b[0;34m,\u001b[0m \u001b[0mremote_ip\u001b[0m\u001b[0;34m)\u001b[0m\u001b[0;34m\u001b[0m\u001b[0;34m\u001b[0m\u001b[0m\n\u001b[0;32m----> 7\u001b[0;31m \u001b[0;32mwith\u001b[0m \u001b[0msubprocess\u001b[0m\u001b[0;34m.\u001b[0m\u001b[0mPopen\u001b[0m\u001b[0;34m(\u001b[0m\u001b[0mcmd\u001b[0m\u001b[0;34m.\u001b[0m\u001b[0msplit\u001b[0m\u001b[0;34m(\u001b[0m\u001b[0;34m)\u001b[0m\u001b[0;34m,\u001b[0m \u001b[0mstdout\u001b[0m\u001b[0;34m=\u001b[0m\u001b[0mPIPE\u001b[0m\u001b[0;34m)\u001b[0m \u001b[0;32mas\u001b[0m \u001b[0mproc\u001b[0m\u001b[0;34m:\u001b[0m\u001b[0;34m\u001b[0m\u001b[0;34m\u001b[0m\u001b[0m\n\u001b[0m\u001b[1;32m      8\u001b[0m     \u001b[0mprint\u001b[0m\u001b[0;34m(\u001b[0m\u001b[0mproc\u001b[0m\u001b[0;34m.\u001b[0m\u001b[0mstdout\u001b[0m\u001b[0;34m.\u001b[0m\u001b[0mread\u001b[0m\u001b[0;34m(\u001b[0m\u001b[0;34m)\u001b[0m\u001b[0;34m)\u001b[0m\u001b[0;34m\u001b[0m\u001b[0;34m\u001b[0m\u001b[0m\n",
      "\u001b[0;31mNameError\u001b[0m: name 'PIPE' is not defined"
     ]
    }
   ],
   "source": [
    "import subprocess\n",
    "\n",
    "local_port = 33510\n",
    "remote_ip = '10.127.122.175'\n",
    "\n",
    "cmd = 'ssh -N -f -L localhost:{}:localhost:9200 {}@{}'.format(local_port, 'admin', remote_ip)\n",
    "with subprocess.Popen(cmd.split(), stdout=PIPE) as proc:\n",
    "    print(proc.stdout.read())"
   ]
  },
  {
   "cell_type": "code",
   "execution_count": null,
   "metadata": {},
   "outputs": [],
   "source": []
  }
 ],
 "metadata": {
  "kernelspec": {
   "display_name": "Python 3",
   "language": "python",
   "name": "python3"
  },
  "language_info": {
   "codemirror_mode": {
    "name": "ipython",
    "version": 3
   },
   "file_extension": ".py",
   "mimetype": "text/x-python",
   "name": "python",
   "nbconvert_exporter": "python",
   "pygments_lexer": "ipython3",
   "version": "3.8.5"
  }
 },
 "nbformat": 4,
 "nbformat_minor": 4
}
