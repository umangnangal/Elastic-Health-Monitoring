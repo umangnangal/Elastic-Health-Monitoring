{
 "cells": [
  {
   "cell_type": "code",
   "execution_count": 1,
   "metadata": {},
   "outputs": [],
   "source": [
    "import time\n",
    "import pandas as pd\n",
    "from elasticsearch import Elasticsearch, helpers\n",
    "import warnings\n",
    "warnings.filterwarnings('ignore')"
   ]
  },
  {
   "cell_type": "code",
   "execution_count": 3,
   "metadata": {},
   "outputs": [
    {
     "data": {
      "text/plain": [
       "True"
      ]
     },
     "execution_count": 3,
     "metadata": {},
     "output_type": "execute_result"
    }
   ],
   "source": [
    "es_remote = Elasticsearch(['10.127.122.198'], \n",
    "                   port = 60500,\n",
    "                   verify_certs = False,\n",
    "                   use_ssl = True)\n",
    "es_remote.ping()"
   ]
  },
  {
   "cell_type": "code",
   "execution_count": 4,
   "metadata": {},
   "outputs": [
    {
     "data": {
      "text/plain": [
       "{'name': 'es-data-0',\n",
       " 'cluster_name': 'elasticsearch',\n",
       " 'cluster_uuid': 'O7f-0IzOSn-5CP3rhlV5Vw',\n",
       " 'version': {'number': '6.8.3',\n",
       "  'build_flavor': 'default',\n",
       "  'build_type': 'tar',\n",
       "  'build_hash': '0c48c0e',\n",
       "  'build_date': '2019-08-29T19:05:24.312154Z',\n",
       "  'build_snapshot': False,\n",
       "  'lucene_version': '7.7.0',\n",
       "  'minimum_wire_compatibility_version': '5.6.0',\n",
       "  'minimum_index_compatibility_version': '5.0.0'},\n",
       " 'tagline': 'You Know, for Search'}"
      ]
     },
     "execution_count": 4,
     "metadata": {},
     "output_type": "execute_result"
    }
   ],
   "source": [
    "es_remote.info()"
   ]
  },
  {
   "cell_type": "code",
   "execution_count": 9,
   "metadata": {},
   "outputs": [
    {
     "name": "stdout",
     "output_type": "stream",
     "text": [
      "{'heap_used_in_bytes': 12790553504, 'heap_used_percent': 74, 'heap_committed_in_bytes': 17179869184, 'heap_max_in_bytes': 17179869184, 'non_heap_used_in_bytes': 201981144, 'non_heap_committed_in_bytes': 421239584, 'pools': {}}\n",
      "{'heap_used_in_bytes': 12798589856, 'heap_used_percent': 74, 'heap_committed_in_bytes': 17179869184, 'heap_max_in_bytes': 17179869184, 'non_heap_used_in_bytes': 201981144, 'non_heap_committed_in_bytes': 421239584, 'pools': {}}\n",
      "{'heap_used_in_bytes': 12802259872, 'heap_used_percent': 74, 'heap_committed_in_bytes': 17179869184, 'heap_max_in_bytes': 17179869184, 'non_heap_used_in_bytes': 201981144, 'non_heap_committed_in_bytes': 421239584, 'pools': {}}\n",
      "{'heap_used_in_bytes': 13499236232, 'heap_used_percent': 78, 'heap_committed_in_bytes': 17179869184, 'heap_max_in_bytes': 17179869184, 'non_heap_used_in_bytes': 201981144, 'non_heap_committed_in_bytes': 421239584, 'pools': {}}\n",
      "{'heap_used_in_bytes': 16189455088, 'heap_used_percent': 94, 'heap_committed_in_bytes': 17179869184, 'heap_max_in_bytes': 17179869184, 'non_heap_used_in_bytes': 201981144, 'non_heap_committed_in_bytes': 421239584, 'pools': {}}\n",
      "{'heap_used_in_bytes': 10319589344, 'heap_used_percent': 60, 'heap_committed_in_bytes': 17179869184, 'heap_max_in_bytes': 17179869184, 'non_heap_used_in_bytes': 201981144, 'non_heap_committed_in_bytes': 421239584, 'pools': {}}\n",
      "{'heap_used_in_bytes': 10320928736, 'heap_used_percent': 60, 'heap_committed_in_bytes': 17179869184, 'heap_max_in_bytes': 17179869184, 'non_heap_used_in_bytes': 201981144, 'non_heap_committed_in_bytes': 421239584, 'pools': {}}\n",
      "{'heap_used_in_bytes': 10451419104, 'heap_used_percent': 60, 'heap_committed_in_bytes': 17179869184, 'heap_max_in_bytes': 17179869184, 'non_heap_used_in_bytes': 201981144, 'non_heap_committed_in_bytes': 421239584, 'pools': {}}\n",
      "{'heap_used_in_bytes': 10452217824, 'heap_used_percent': 60, 'heap_committed_in_bytes': 17179869184, 'heap_max_in_bytes': 17179869184, 'non_heap_used_in_bytes': 201981144, 'non_heap_committed_in_bytes': 421239584, 'pools': {}}\n"
     ]
    },
    {
     "ename": "KeyboardInterrupt",
     "evalue": "",
     "output_type": "error",
     "traceback": [
      "\u001b[0;31m---------------------------------------------------------------------------\u001b[0m",
      "\u001b[0;31mKeyboardInterrupt\u001b[0m                         Traceback (most recent call last)",
      "\u001b[0;32m<ipython-input-9-943c8b475af4>\u001b[0m in \u001b[0;36m<module>\u001b[0;34m\u001b[0m\n\u001b[1;32m     37\u001b[0m     }\n\u001b[1;32m     38\u001b[0m     \u001b[0mes_doc_list\u001b[0m\u001b[0;34m.\u001b[0m\u001b[0mappend\u001b[0m\u001b[0;34m(\u001b[0m\u001b[0mes_doc\u001b[0m\u001b[0;34m.\u001b[0m\u001b[0mcopy\u001b[0m\u001b[0;34m(\u001b[0m\u001b[0;34m)\u001b[0m\u001b[0;34m)\u001b[0m\u001b[0;34m\u001b[0m\u001b[0;34m\u001b[0m\u001b[0m\n\u001b[0;32m---> 39\u001b[0;31m     \u001b[0mtime\u001b[0m\u001b[0;34m.\u001b[0m\u001b[0msleep\u001b[0m\u001b[0;34m(\u001b[0m\u001b[0;36m1\u001b[0m\u001b[0;34m)\u001b[0m\u001b[0;34m\u001b[0m\u001b[0;34m\u001b[0m\u001b[0m\n\u001b[0m\u001b[1;32m     40\u001b[0m     \u001b[0;32mif\u001b[0m \u001b[0mlen\u001b[0m\u001b[0;34m(\u001b[0m\u001b[0mes_doc_list\u001b[0m\u001b[0;34m)\u001b[0m \u001b[0;34m>=\u001b[0m \u001b[0;36m60\u001b[0m\u001b[0;34m:\u001b[0m\u001b[0;34m\u001b[0m\u001b[0;34m\u001b[0m\u001b[0m\n\u001b[1;32m     41\u001b[0m         \u001b[0mresponse\u001b[0m \u001b[0;34m=\u001b[0m \u001b[0mhelpers\u001b[0m\u001b[0;34m.\u001b[0m\u001b[0mbulk\u001b[0m\u001b[0;34m(\u001b[0m\u001b[0mes_local\u001b[0m\u001b[0;34m,\u001b[0m \u001b[0mbulk_baseline_data\u001b[0m\u001b[0;34m(\u001b[0m\u001b[0;34m'health_monitoring'\u001b[0m\u001b[0;34m,\u001b[0m \u001b[0mes_doc_list\u001b[0m\u001b[0;34m)\u001b[0m\u001b[0;34m)\u001b[0m\u001b[0;34m\u001b[0m\u001b[0;34m\u001b[0m\u001b[0m\n",
      "\u001b[0;31mKeyboardInterrupt\u001b[0m: "
     ]
    }
   ],
   "source": [
    "es_local = Elasticsearch()\n",
    "def bulk_baseline_data(index, mlist):\n",
    "    for m in mlist:\n",
    "    # use a `yield` generator so that the data\n",
    "    # isn't loaded into memory\n",
    "        yield {\n",
    "            \"_index\": index,\n",
    "            \"_source\": m,\n",
    "        }\n",
    "        \n",
    "es_doc_list = []\n",
    "while True:\n",
    "    thread_pool_data = es_remote.cat.thread_pool(format = 'json')\n",
    "    # df = pd.DataFrame(thread_pool_data)\n",
    "    # print(df)\n",
    "    search_pool_info = thread_pool_data[13]\n",
    "    write_pool_info = thread_pool_data[19]\n",
    "\n",
    "#     print(search_pool_info)\n",
    "#     print(write_pool_info)\n",
    "    \n",
    "    \n",
    "    jvm_data = es_remote.nodes.stats(metric = [\"jvm\"])\n",
    "    node = list(jvm_data[\"nodes\"].keys())[0]\n",
    "    jvm_mem_info = jvm_data[\"nodes\"][node][\"jvm\"][\"mem\"]\n",
    "    print(jvm_mem_info)\n",
    "    \n",
    "    es_doc = {\n",
    "        \"timestamp\": time.time(),\n",
    "        \"search_active\": search_pool_info['active'],\n",
    "        \"search_queue\": search_pool_info['queue'],\n",
    "        \"search_rejected\": search_pool_info['rejected'],\n",
    "        \"write_active\": write_pool_info['active'],\n",
    "        \"write_queue\": write_pool_info['queue'],\n",
    "        \"write_rejected\": write_pool_info['rejected'],\n",
    "        \"heap_used_percentage\": jvm_mem_info['heap_used_percent']\n",
    "    }\n",
    "    es_doc_list.append(es_doc.copy())\n",
    "    time.sleep(1)\n",
    "    if len(es_doc_list) >= 60:\n",
    "        response = helpers.bulk(es_local, bulk_baseline_data('health_monitoring', es_doc_list))\n",
    "        es_doc_list.clear()\n",
    "        print(\"Pushed {} records to elastic db\".format(response[0]))\n",
    "        "
   ]
  },
  {
   "cell_type": "code",
   "execution_count": null,
   "metadata": {},
   "outputs": [],
   "source": [
    "\n",
    "            \n"
   ]
  },
  {
   "cell_type": "code",
   "execution_count": null,
   "metadata": {},
   "outputs": [],
   "source": []
  },
  {
   "cell_type": "code",
   "execution_count": null,
   "metadata": {},
   "outputs": [],
   "source": []
  },
  {
   "cell_type": "code",
   "execution_count": null,
   "metadata": {},
   "outputs": [],
   "source": []
  },
  {
   "cell_type": "code",
   "execution_count": null,
   "metadata": {},
   "outputs": [],
   "source": [
    "es.xpack.client.monitoring.transport.hosts"
   ]
  },
  {
   "cell_type": "code",
   "execution_count": null,
   "metadata": {},
   "outputs": [],
   "source": [
    "es.transport.hosts"
   ]
  },
  {
   "cell_type": "code",
   "execution_count": null,
   "metadata": {},
   "outputs": [],
   "source": [
    "from datetime import datetime\n",
    "import time\n",
    "\n",
    "# now = datetime.now()\n",
    "now = time.time()\n",
    "print(now)\n",
    "\n",
    "new_now = now.replace(minute = (now.minute // 15) * 15, second = 0, microsecond = 0)\n",
    "print(new_now)"
   ]
  },
  {
   "cell_type": "code",
   "execution_count": null,
   "metadata": {},
   "outputs": [],
   "source": [
    "datetime.fromtimestamp(1627920326).strftime('%Y-%m-%d %H:%M:%S')"
   ]
  },
  {
   "cell_type": "code",
   "execution_count": null,
   "metadata": {},
   "outputs": [],
   "source": [
    "import time\n",
    "\n",
    "# now = datetime.now()\n",
    "now = time.localtime(time.time())\n",
    "print(now)"
   ]
  },
  {
   "cell_type": "code",
   "execution_count": null,
   "metadata": {},
   "outputs": [],
   "source": [
    "now = time.time()\n",
    "t_now = time.localtime(time.time())\n",
    "print(now, t_now)\n",
    "t_ref = (t_now.tm_year, t_now.tm_mon, t_now.tm_mday-t_now.tm_wday, 0, 0, 0, 0, 0, 0)\n",
    "ref = time.mktime(t_ref)\n",
    "print(ref, t_ref)\n",
    "\n",
    "time_diff = now - ref\n",
    "sid = int(time_diff//30)\n",
    "print(sid)"
   ]
  },
  {
   "cell_type": "code",
   "execution_count": null,
   "metadata": {},
   "outputs": [],
   "source": [
    "import numpy as np\n",
    "a = np.array([1,2,3,4])\n",
    "print(a.shape)"
   ]
  },
  {
   "cell_type": "code",
   "execution_count": null,
   "metadata": {},
   "outputs": [],
   "source": [
    "import getopt\n",
    "argv = ['h', '-c', 28, '-v', 25]\n",
    "opts, args = getopt.getopt(argv, \"hc:v:\")\n",
    "for opt, arg in opts:\n",
    "    print(opt, arg)\n"
   ]
  },
  {
   "cell_type": "code",
   "execution_count": null,
   "metadata": {},
   "outputs": [],
   "source": [
    "queryQ = {\"query\" : {\"bool\": {\"must\": []}}}\n",
    "\n",
    "queryQ"
   ]
  },
  {
   "cell_type": "code",
   "execution_count": null,
   "metadata": {},
   "outputs": [],
   "source": [
    "import pandas as pd\n",
    "from datetime import datetime\n",
    "import time\n",
    "\n",
    "\n",
    "outlier_data = [{'timestamp': 1630662896845, 'rdAvgEctOutScr': 2.8397917247301083, 'rdMaxEctOutScr': 0, 'rdAbtFailTimeoutOutScr': 0.5, 'wrAvgEctOutScr': 0, 'wrMaxEctOutScr': 0, 'wrAbtFailTimeoutOutScr': 0}, \n",
    "                {'timestamp': 1630661876845, 'rdAvgEctOutScr': 1.4600929990130465, 'rdMaxEctOutScr': 0, 'rdAbtFailTimeoutOutScr': 0, 'wrAvgEctOutScr': 3.184716406159366, 'wrMaxEctOutScr': 0, 'wrAbtFailTimeoutOutScr': 0}, \n",
    "                {'timestamp': 1630663076845, 'rdAvgEctOutScr': 2.1499423618715774, 'rdMaxEctOutScr': 0, 'rdAbtFailTimeoutOutScr': 2.0, 'wrAvgEctOutScr': 0, 'wrMaxEctOutScr': 0, 'wrAbtFailTimeoutOutScr': 0}, \n",
    "                {'timestamp': 1630662986845, 'rdAvgEctOutScr': 3.8745657690179045, 'rdMaxEctOutScr': 0, 'rdAbtFailTimeoutOutScr': 0.75, 'wrAvgEctOutScr': 0, 'wrMaxEctOutScr': 0, 'wrAbtFailTimeoutOutScr': 0}]\n",
    "    \n",
    "gte = '2021-09-03T09:31:20.000Z'\n",
    "lte = '2021-09-03T10:01:20.000Z'\n",
    "\n",
    "gte_time = datetime.strptime(gte, \"%Y-%m-%dT%H:%M:%S.%fZ\")\n",
    "gte_epoch_time = int((gte_time - datetime(1970, 1, 1)).total_seconds() * 1000)\n",
    "print(gte_time, gte_epoch_time)\n",
    "\n",
    "lte_time = datetime.strptime(lte, \"%Y-%m-%dT%H:%M:%S.%fZ\")\n",
    "lte_epoch_time = int((lte_time - datetime(1970, 1, 1)).total_seconds() * 1000)\n",
    "print(lte_time, lte_epoch_time)\n",
    "\n",
    "df = pd.DataFrame(outlier_data)\n",
    "\n",
    "ts_min = df.timestamp.min()\n",
    "ts_max = df.timestamp.max()\n",
    "\n",
    "placeholder_df = pd.DataFrame()\n",
    "while gte_epoch_time < ts_min - 30000:\n",
    "    tmp_df = pd.DataFrame([ts_min - 30000], columns=['timestamp'])\n",
    "    placeholder_df = pd.concat([placeholder_df, tmp_df])\n",
    "    ts_min -= 30000\n",
    "    \n",
    "while ts_max + 30000 < lte_epoch_time:\n",
    "    tmp_df = pd.DataFrame([ts_max + 30000], columns=['timestamp'])\n",
    "    placeholder_df = pd.concat([placeholder_df, tmp_df])\n",
    "    ts_max += 30000\n",
    "    \n",
    "count = 1\n",
    "for i in range(df.shape[0]-1):\n",
    "    while df.timestamp[i+1] > df.timestamp[i] + count*30000:\n",
    "        tmp_df = pd.DataFrame([df.timestamp[i] + count*30000], columns=['timestamp'])\n",
    "        placeholder_df = pd.concat([placeholder_df, tmp_df])\n",
    "        count += 1\n",
    "        \n",
    "# tmp_df1 = pd.DataFrame([1630661480000], columns=['timestamp'])\n",
    "# tmp_df2 = pd.DataFrame([1630663280000], columns=['timestamp'])\n",
    "# df = pd.concat([df, tmp_df1, tmp_df2])\n",
    "\n",
    "\n",
    "# r = pd.date_range(start=df.timestamp.min(), end=df.timestamp.max(), freq='30S')\n",
    "# df2 = df.set_index('timestamp').reindex(r).fillna(0).rename_axis('timestamp').reset_index()\n",
    "df = pd.concat([df, placeholder_df])\n",
    "df = df.sort_values('timestamp', axis = 0)\n",
    "df['timestamp'] = pd.to_datetime(df['timestamp'], unit='ms').dt.strftime(\"%Y-%m-%dT%H:%M:%SZ\")\n",
    "df = df.fillna(0)\n",
    "print(df.shape)"
   ]
  },
  {
   "cell_type": "code",
   "execution_count": null,
   "metadata": {},
   "outputs": [],
   "source": [
    "with pd.option_context('display.max_rows', None, 'display.max_columns', None):  # more options can be specified also\n",
    "    display(df)"
   ]
  },
  {
   "cell_type": "code",
   "execution_count": null,
   "metadata": {},
   "outputs": [],
   "source": [
    "type(df.shape[0])"
   ]
  },
  {
   "cell_type": "code",
   "execution_count": null,
   "metadata": {},
   "outputs": [],
   "source": [
    "(1630662896845 - 1630661876845)/(60 * 1000)\n"
   ]
  },
  {
   "cell_type": "code",
   "execution_count": null,
   "metadata": {},
   "outputs": [],
   "source": [
    "import pandas as pd\n",
    "import time\n",
    "from datetime import datetime\n",
    "\n",
    "\n",
    "outlier_data = [{'timestamp': 1630662896845, 'rdAvgEctOutScr': 2.8397917247301083, 'rdMaxEctOutScr': 0, 'rdAbtFailTimeoutOutScr': 0.5, 'wrAvgEctOutScr': 0, 'wrMaxEctOutScr': 0, 'wrAbtFailTimeoutOutScr': 0}, \n",
    "                {'timestamp': 1630661876845, 'rdAvgEctOutScr': 1.4600929990130465, 'rdMaxEctOutScr': 0, 'rdAbtFailTimeoutOutScr': 0, 'wrAvgEctOutScr': 3.184716406159366, 'wrMaxEctOutScr': 0, 'wrAbtFailTimeoutOutScr': 0}, \n",
    "                {'timestamp': 1630663076845, 'rdAvgEctOutScr': 2.1499423618715774, 'rdMaxEctOutScr': 0, 'rdAbtFailTimeoutOutScr': 2.0, 'wrAvgEctOutScr': 0, 'wrMaxEctOutScr': 0, 'wrAbtFailTimeoutOutScr': 0}, \n",
    "                {'timestamp': 1630662986845, 'rdAvgEctOutScr': 3.8745657690179045, 'rdMaxEctOutScr': 0, 'rdAbtFailTimeoutOutScr': 0.75, 'wrAvgEctOutScr': 0, 'wrMaxEctOutScr': 0, 'wrAbtFailTimeoutOutScr': 0}]\n",
    "\n",
    "\n",
    "    \n",
    "gte = '2021-09-03T09:31:20Z'\n",
    "lte = '2021-09-03T10:01:20Z'\n",
    "        \n",
    "df = pd.DataFrame(outlier_data)\n",
    "df['timestamp'] = pd.to_datetime(df['timestamp'], unit='ms').dt.strftime(\"%Y-%m-%dT%H:%M:%SZ\")\n",
    "\n",
    "# tmp_df1 = pd.DataFrame([gte], columns=['timestamp'])\n",
    "# tmp_df2 = pd.DataFrame([lte], columns=['timestamp'])\n",
    "# df = pd.concat([df, tmp_df1, tmp_df2])\n",
    "\n",
    "print(df.timestamp.min())\n",
    "r = pd.date_range(start=df.timestamp.min(), end=df.timestamp.max(), freq='30S')\n",
    "print(r)\n",
    "df = df.set_index('timestamp').reindex(r).rename_axis('timestamp').reset_index()\n",
    "\n",
    "\n",
    "df = df.sort_values('timestamp', axis = 0)\n",
    "df.head(100)\n"
   ]
  },
  {
   "cell_type": "code",
   "execution_count": null,
   "metadata": {},
   "outputs": [],
   "source": [
    "a = \"umang\"\n",
    "print(a[:-1])"
   ]
  },
  {
   "cell_type": "code",
   "execution_count": null,
   "metadata": {},
   "outputs": [],
   "source": [
    "umang_dict = dict()\n",
    "\n",
    "print(umang_dict)"
   ]
  },
  {
   "cell_type": "code",
   "execution_count": null,
   "metadata": {},
   "outputs": [],
   "source": [
    "import json\n",
    "import pprint\n",
    "\n",
    "with open('sample_tier_input.json') as f: \n",
    "    tier_data = json.load(f)\n",
    "    pprint.pprint(tier_data)"
   ]
  },
  {
   "cell_type": "code",
   "execution_count": null,
   "metadata": {},
   "outputs": [],
   "source": [
    "t = int(input())\n",
    "for i in range(t):\n",
    "    ans = False\n",
    "    x = input()\n",
    "    a,b,c,d,e = map(int, x.split())\n",
    "    res = [a,b,c]\n",
    "    res.sort(reverse = True)\n",
    "    i = 0\n",
    "    while i < len(res):\n",
    "        if res[i] <= e:\n",
    "            res.remove(res[i])\n",
    "            break\n",
    "        i+=1\n",
    "        \n",
    "    if len(res) == 3:\n",
    "        print(\"NO\")\n",
    "        continue\n",
    "        \n",
    "    if sum(res) <= d:\n",
    "        print(\"YES\")\n",
    "    else:\n",
    "        print(\"NO\")\n",
    "        \n",
    "        \n",
    "    "
   ]
  },
  {
   "cell_type": "markdown",
   "metadata": {},
   "source": []
  }
 ],
 "metadata": {
  "kernelspec": {
   "display_name": "Python 3",
   "language": "python",
   "name": "python3"
  },
  "language_info": {
   "codemirror_mode": {
    "name": "ipython",
    "version": 3
   },
   "file_extension": ".py",
   "mimetype": "text/x-python",
   "name": "python",
   "nbconvert_exporter": "python",
   "pygments_lexer": "ipython3",
   "version": "3.8.5"
  }
 },
 "nbformat": 4,
 "nbformat_minor": 4
}
