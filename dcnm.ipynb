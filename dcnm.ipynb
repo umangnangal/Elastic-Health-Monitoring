{
 "cells": [
  {
   "cell_type": "code",
   "execution_count": 13,
   "metadata": {},
   "outputs": [],
   "source": [
    "import time\n",
    "import pandas as pd\n",
    "from elasticsearch import Elasticsearch, helpers\n",
    "import warnings\n",
    "warnings.filterwarnings('ignore')"
   ]
  },
  {
   "cell_type": "code",
   "execution_count": 14,
   "metadata": {},
   "outputs": [
    {
     "data": {
      "text/plain": [
       "True"
      ]
     },
     "execution_count": 14,
     "metadata": {},
     "output_type": "execute_result"
    }
   ],
   "source": [
    "es = Elasticsearch(['127.0.0.1'], \n",
    "                   port = 33500,\n",
    "                   verify_certs = False,\n",
    "                   use_ssl = True)\n",
    "es.ping()"
   ]
  },
  {
   "cell_type": "code",
   "execution_count": 15,
   "metadata": {},
   "outputs": [
    {
     "name": "stdout",
     "output_type": "stream",
     "text": [
      "san_trained_baseline\n",
      "fc_flows_sw-mds-9706-86_2021_10_05\n",
      "san_ect_baseline_c17-ed-9132t_2021_10_06\n",
      "san_ect_baseline_c17-ed-9132t_2021_10_05\n",
      "fc_flows_c17-ed-9132t_2021_10_07\n",
      "san_ect_baseline_sw-mds-9706-86_2021_10_05\n",
      "fc_nvme_flows_sw-yushan-88_2021_10_06\n",
      "fc_flows_mdsng-9710-75_2021_10_06\n",
      "san_ect_baseline_c18-ed-9396t_2021_10_06\n",
      "san_nvme_rollup_2021_10_06\n",
      "fc_flows_c18-ed-9396t_2021_10_07\n",
      "san_nvme_trained_baseline\n",
      "san_fc_flows_rollup_2021_10_06\n",
      "dcmdb-switch\n",
      "san_nvme_ect_baseline_sw-yushan-88_2021_10_05\n",
      "fc_flows_c17-ed-9132t_2021_10_05\n",
      "san_ect_baseline_c18-ed-9396t_2021_10_05\n",
      "fc_flows_c17-ed-9132t_2021_10_06\n",
      "fc_flows_c18-ed-9396t_2021_10_06\n",
      "fc_nvme_flows_sw-yushan-88_2021_10_05\n",
      "san_nvme_ect_baseline_sw-yushan-88_2021_10_06\n",
      "fc_flows_sw-yushan-88_2021_10_07\n",
      "dcmdb-target\n",
      "fc_flows_c18-ed-9396t_2021_10_05\n",
      "san_ect_baseline_sw-yushan-88_2021_10_06\n",
      "fc_flows_sw-yushan-88_2021_10_06\n",
      "san_ect_baseline_sw-ishan-89_2021_10_05\n",
      "fc_nvme_flows_sw-yushan-88_2021_10_07\n",
      "fc_flows_sw-ishan-89_2021_10_05\n",
      "san_nvme_rollup_2021_10_05\n",
      "fc_flows_sw-ishan-89_2021_10_07\n",
      "fc_flows_sw-ishan-89_2021_10_06\n",
      "dcmdb-initiator\n",
      "san_ect_baseline_sw-ishan-89_2021_10_06\n",
      "san_ect_baseline_sw-mds-9706-86_2021_10_06\n",
      "san_ect_baseline_sw-yushan-88_2021_10_05\n",
      "fc_flows_sw-mds-9706-86_2021_10_07\n",
      "fc_flows_sw-yushan-88_2021_10_05\n",
      "san_fc_flows_rollup_2021_10_05\n",
      "fc_flows_sw-mds-9706-86_2021_10_06\n"
     ]
    }
   ],
   "source": [
    "for index in es.indices.get_alias(\"*\"):\n",
    "    print(index)"
   ]
  },
  {
   "cell_type": "code",
   "execution_count": 16,
   "metadata": {},
   "outputs": [],
   "source": [
    "match_all = {\n",
    "    \"track_total_hits\": \"true\",\n",
    "    \"query\": {\n",
    "        \"match_all\": {}\n",
    "    }\n",
    "}"
   ]
  },
  {
   "cell_type": "code",
   "execution_count": 17,
   "metadata": {},
   "outputs": [
    {
     "name": "stdout",
     "output_type": "stream",
     "text": [
      "{'fabricId': 30, 'fabricName': 'Fabric_C18-ed-9706', 'ipAddress': '10.127.190.33', 'sysName': 'C18-ed-9706', 'timestamp': '2021-10-05T17:48:05+05:30'}\n",
      "{'fabricId': 30, 'fabricName': 'Fabric_C18-ed-9706', 'ipAddress': '10.127.190.50', 'sysName': 'C16-ed-9710', 'timestamp': '2021-10-05T17:48:05+05:30'}\n",
      "{'fabricId': 30, 'fabricName': 'Fabric_C18-ed-9706', 'ipAddress': '10.127.190.58', 'sysName': 'Keesler', 'timestamp': '2021-10-05T17:48:05+05:30'}\n",
      "{'fabricId': 30, 'fabricName': 'Fabric_C18-ed-9706', 'ipAddress': '10.127.190.56', 'sysName': 'Alishan-FAB2', 'timestamp': '2021-10-05T17:48:05+05:30'}\n",
      "{'fabricId': 30, 'fabricName': 'Fabric_C18-ed-9706', 'ipAddress': '10.127.190.39', 'sysName': 'Alishan-FAB1', 'timestamp': '2021-10-05T17:48:05+05:30'}\n",
      "{'fabricId': 20, 'fabricName': 'Fabric_Ali-83', 'ipAddress': '10.197.120.86', 'sysName': 'sw-mds-9706-86', 'timestamp': '2021-10-05T18:08:19+05:30'}\n",
      "{'fabricId': 30, 'fabricName': 'Fabric_C18-ed-9706', 'ipAddress': '10.127.190.38', 'sysName': 'C17-ed-9132T', 'timestamp': '2021-10-05T17:48:05+05:30'}\n",
      "{'fabricId': 30, 'fabricName': 'Fabric_C18-ed-9706', 'ipAddress': '10.127.190.34', 'sysName': 'C18-cr-9710', 'timestamp': '2021-10-05T17:48:05+05:30'}\n",
      "{'fabricId': 30, 'fabricName': 'Fabric_C18-ed-9706', 'ipAddress': '10.127.190.36', 'sysName': 'C17-93180yc-fx-1', 'timestamp': '2021-10-05T17:48:05+05:30'}\n",
      "{'fabricId': 30, 'fabricName': 'Fabric_C18-ed-9706', 'ipAddress': '10.127.190.57', 'sysName': 'C18-ed-9148s', 'timestamp': '2021-10-05T17:48:05+05:30'}\n",
      "{'fabricId': 20, 'fabricName': 'Fabric_Ali-83', 'ipAddress': '10.197.120.80', 'sysName': 'Reliance-SuperCore-9710', 'timestamp': '2021-10-05T18:08:19+05:30'}\n",
      "{'fabricId': 30, 'fabricName': 'Fabric_C18-ed-9706', 'ipAddress': '10.127.190.31', 'sysName': 'C18-ed-9396T', 'timestamp': '2021-10-05T17:48:05+05:30'}\n",
      "{'fabricId': 20, 'fabricName': 'Fabric_Ali-83', 'ipAddress': '10.197.120.75', 'sysName': 'MDSNG-9710-75', 'timestamp': '2021-10-05T18:08:19+05:30'}\n",
      "{'fabricId': 20, 'fabricName': 'Fabric_Ali-83', 'ipAddress': '10.197.120.83', 'sysName': 'Ali-83', 'timestamp': '2021-10-05T18:08:19+05:30'}\n",
      "{'fabricId': 30, 'fabricName': 'Fabric_C18-ed-9706', 'ipAddress': '10.127.190.55', 'sysName': 'ST-Archer', 'timestamp': '2021-10-05T17:48:05+05:30'}\n",
      "{'fabricId': 20, 'fabricName': 'Fabric_Ali-83', 'ipAddress': '10.197.120.77', 'sysName': 'Reliance-DC2-9706-77', 'timestamp': '2021-10-05T18:08:19+05:30'}\n",
      "{'fabricId': 30, 'fabricName': 'Fabric_C18-ed-9706', 'ipAddress': '10.127.190.40', 'sysName': 'C17-ed-9396S', 'timestamp': '2021-10-05T17:48:05+05:30'}\n",
      "{'fabricId': 20, 'fabricName': 'Fabric_Ali-83', 'ipAddress': '10.197.120.60', 'sysName': 'Tian-60', 'timestamp': '2021-10-05T18:08:19+05:30'}\n",
      "{'fabricId': 20, 'fabricName': 'Fabric_Ali-83', 'ipAddress': '10.197.120.82', 'sysName': 'Ali-82', 'timestamp': '2021-10-05T18:08:19+05:30'}\n",
      "{'fabricId': 20, 'fabricName': 'Fabric_Ali-83', 'ipAddress': '10.197.120.25', 'sysName': 'Reliance-DC2-9710-25', 'timestamp': '2021-10-05T18:08:19+05:30'}\n",
      "{'fabricId': 20, 'fabricName': 'Fabric_Ali-83', 'ipAddress': '10.197.120.84', 'sysName': 'Ali-84', 'timestamp': '2021-10-05T18:08:19+05:30'}\n",
      "{'fabricId': 20, 'fabricName': 'Fabric_Ali-83', 'ipAddress': '10.197.120.62', 'sysName': 'Tian-62', 'timestamp': '2021-10-05T18:08:19+05:30'}\n",
      "{'fabricId': 20, 'fabricName': 'Fabric_Ali-83', 'ipAddress': '10.197.120.52', 'sysName': 'Tian-52', 'timestamp': '2021-10-05T18:08:19+05:30'}\n",
      "{'fabricId': 20, 'fabricName': 'Fabric_Ali-83', 'ipAddress': '10.197.120.79', 'sysName': 'Reliance-DC1-9710', 'timestamp': '2021-10-05T18:08:19+05:30'}\n",
      "{'fabricId': 20, 'fabricName': 'Fabric_Ali-83', 'ipAddress': '10.197.120.78', 'sysName': 'Reliance-DC2-9706-78', 'timestamp': '2021-10-05T18:08:19+05:30'}\n",
      "{'fabricId': 20, 'fabricName': 'Fabric_Ali-83', 'ipAddress': '10.197.120.87', 'sysName': 'sw-ishan-87', 'timestamp': '2021-10-05T18:08:19+05:30'}\n",
      "{'fabricId': 20, 'fabricName': 'Fabric_Ali-83', 'ipAddress': '10.197.120.72', 'sysName': 'sw-mini-72', 'timestamp': '2021-10-05T18:08:19+05:30'}\n",
      "{'fabricId': 20, 'fabricName': 'Fabric_Ali-83', 'ipAddress': '10.197.120.51', 'sysName': 'Tian-51', 'timestamp': '2021-10-05T18:08:19+05:30'}\n",
      "{'fabricId': 20, 'fabricName': 'Fabric_Ali-83', 'ipAddress': '10.197.120.85', 'sysName': 'Reliance-SuperCore-9718', 'timestamp': '2021-10-05T18:08:19+05:30'}\n",
      "{'fabricId': 20, 'fabricName': 'Fabric_Ali-83', 'ipAddress': '10.197.120.88', 'sysName': 'sw-Yushan-88', 'timestamp': '2021-10-05T18:08:19+05:30'}\n",
      "{'fabricId': 20, 'fabricName': 'Fabric_Ali-83', 'ipAddress': '10.197.120.76', 'sysName': 'Reliance-DC2-9710-76', 'timestamp': '2021-10-05T18:08:19+05:30'}\n",
      "{'fabricId': 20, 'fabricName': 'Fabric_Ali-83', 'ipAddress': '10.197.120.74', 'sysName': 'sw-mini-74', 'timestamp': '2021-10-05T18:08:19+05:30'}\n",
      "{'fabricId': 20, 'fabricName': 'Fabric_Ali-83', 'ipAddress': '10.197.120.55', 'sysName': 'Tian-55', 'timestamp': '2021-10-05T18:08:19+05:30'}\n",
      "{'fabricId': 20, 'fabricName': 'Fabric_Ali-83', 'ipAddress': '10.197.120.64', 'sysName': 'sw-mini-64', 'timestamp': '2021-10-05T18:08:19+05:30'}\n",
      "{'fabricId': 20, 'fabricName': 'Fabric_Ali-83', 'ipAddress': '10.197.120.53', 'sysName': 'Tian-53', 'timestamp': '2021-10-05T18:08:19+05:30'}\n",
      "{'fabricId': 20, 'fabricName': 'Fabric_Ali-83', 'ipAddress': '10.197.120.89', 'sysName': 'sw-ishan-89', 'timestamp': '2021-10-05T18:08:19+05:30'}\n",
      "{'fabricId': 20, 'fabricName': 'Fabric_Ali-83', 'ipAddress': '10.197.120.66', 'sysName': 'sw-mini-66', 'timestamp': '2021-10-05T18:08:19+05:30'}\n",
      "{'fabricId': 20, 'fabricName': 'Fabric_Ali-83', 'ipAddress': '10.197.120.54', 'sysName': 'Tian-54', 'timestamp': '2021-10-05T18:08:19+05:30'}\n",
      "{'fabricId': 20, 'fabricName': 'Fabric_Ali-83', 'ipAddress': '10.197.120.58', 'sysName': 'Tian-58', 'timestamp': '2021-10-05T18:08:19+05:30'}\n",
      "{'fabricId': 20, 'fabricName': 'Fabric_Ali-83', 'ipAddress': '10.197.120.67', 'sysName': 'sw-mini-67', 'timestamp': '2021-10-05T18:08:19+05:30'}\n",
      "{'fabricId': 20, 'fabricName': 'Fabric_Ali-83', 'ipAddress': '10.197.120.63', 'sysName': 'sw-mini-63', 'timestamp': '2021-10-05T18:08:19+05:30'}\n",
      "{'fabricId': 20, 'fabricName': 'Fabric_Ali-83', 'ipAddress': '10.197.120.61', 'sysName': 'Tian-61', 'timestamp': '2021-10-05T18:08:19+05:30'}\n",
      "{'fabricId': 20, 'fabricName': 'Fabric_Ali-83', 'ipAddress': '10.197.120.68', 'sysName': 'sw-mini-68', 'timestamp': '2021-10-05T18:08:19+05:30'}\n",
      "{'fabricId': 20, 'fabricName': 'Fabric_Ali-83', 'ipAddress': '10.197.120.71', 'sysName': 'sw-mini-71', 'timestamp': '2021-10-05T18:08:19+05:30'}\n",
      "{'fabricId': 20, 'fabricName': 'Fabric_Ali-83', 'ipAddress': '10.197.120.65', 'sysName': 'sw-mini-65', 'timestamp': '2021-10-05T18:08:19+05:30'}\n",
      "{'fabricId': 20, 'fabricName': 'Fabric_Ali-83', 'ipAddress': '10.197.120.69', 'sysName': 'sw-mini-69', 'timestamp': '2021-10-05T18:08:19+05:30'}\n",
      "{'fabricId': 20, 'fabricName': 'Fabric_Ali-83', 'ipAddress': '10.197.120.59', 'sysName': 'Tian-59', 'timestamp': '2021-10-05T18:08:19+05:30'}\n",
      "{'fabricId': 20, 'fabricName': 'Fabric_Ali-83', 'ipAddress': '10.197.120.73', 'sysName': 'sw-mini-73', 'timestamp': '2021-10-05T18:08:19+05:30'}\n",
      "{'fabricId': 20, 'fabricName': 'Fabric_Ali-83', 'ipAddress': '10.197.120.57', 'sysName': 'Tian-57', 'timestamp': '2021-10-05T18:08:19+05:30'}\n",
      "{'fabricId': 20, 'fabricName': 'Fabric_Ali-83', 'ipAddress': '10.197.120.70', 'sysName': 'sw-mini-70', 'timestamp': '2021-10-05T18:08:19+05:30'}\n"
     ]
    }
   ],
   "source": [
    "resp = helpers.scan(es, index = 'dcmdb-switch', query = match_all)\n",
    "data = [x['_source'] for x in resp]\n",
    "for item in data:\n",
    "    print(item)"
   ]
  },
  {
   "cell_type": "code",
   "execution_count": 30,
   "metadata": {},
   "outputs": [
    {
     "name": "stdout",
     "output_type": "stream",
     "text": [
      "33502\n",
      "['ssh', '-N', '-f', '-L', 'localhost:33502:localhost:9200', 'admin@10.127.122.175']\n",
      "CompletedProcess(args=['ssh', '-N', '-f', '-L', 'localhost:33502:localhost:9200', 'admin@10.127.122.175'], returncode=255)\n"
     ]
    }
   ],
   "source": [
    "import subprocess\n",
    "local_port = 33502\n",
    "remote_ip = '10.127.122.175'\n",
    "print(local_port)\n",
    "cmd = 'ssh -N -f -L localhost:{}:localhost:9200 {}@{}'.format(local_port, 'admin', remote_ip)\n",
    "print(cmd.split())\n",
    "# proc = subprocess.Popen(cmd.split(), stdout=subprocess.PIPE, stderr=subprocess.PIPE)\n",
    "proc = subprocess.run(cmd.split(), shell=True)\n",
    "print(proc)"
   ]
  },
  {
   "cell_type": "code",
   "execution_count": 38,
   "metadata": {},
   "outputs": [
    {
     "ename": "NameError",
     "evalue": "name 'PIPE' is not defined",
     "output_type": "error",
     "traceback": [
      "\u001b[0;31m---------------------------------------------------------------------------\u001b[0m",
      "\u001b[0;31mNameError\u001b[0m                                 Traceback (most recent call last)",
      "\u001b[0;32m<ipython-input-38-1a7022dc320a>\u001b[0m in \u001b[0;36m<module>\u001b[0;34m\u001b[0m\n\u001b[1;32m      5\u001b[0m \u001b[0;34m\u001b[0m\u001b[0m\n\u001b[1;32m      6\u001b[0m \u001b[0mcmd\u001b[0m \u001b[0;34m=\u001b[0m \u001b[0;34m'ssh -N -f -L localhost:{}:localhost:9200 {}@{}'\u001b[0m\u001b[0;34m.\u001b[0m\u001b[0mformat\u001b[0m\u001b[0;34m(\u001b[0m\u001b[0mlocal_port\u001b[0m\u001b[0;34m,\u001b[0m \u001b[0;34m'admin'\u001b[0m\u001b[0;34m,\u001b[0m \u001b[0mremote_ip\u001b[0m\u001b[0;34m)\u001b[0m\u001b[0;34m\u001b[0m\u001b[0;34m\u001b[0m\u001b[0m\n\u001b[0;32m----> 7\u001b[0;31m \u001b[0;32mwith\u001b[0m \u001b[0msubprocess\u001b[0m\u001b[0;34m.\u001b[0m\u001b[0mPopen\u001b[0m\u001b[0;34m(\u001b[0m\u001b[0mcmd\u001b[0m\u001b[0;34m.\u001b[0m\u001b[0msplit\u001b[0m\u001b[0;34m(\u001b[0m\u001b[0;34m)\u001b[0m\u001b[0;34m,\u001b[0m \u001b[0mstdout\u001b[0m\u001b[0;34m=\u001b[0m\u001b[0mPIPE\u001b[0m\u001b[0;34m)\u001b[0m \u001b[0;32mas\u001b[0m \u001b[0mproc\u001b[0m\u001b[0;34m:\u001b[0m\u001b[0;34m\u001b[0m\u001b[0;34m\u001b[0m\u001b[0m\n\u001b[0m\u001b[1;32m      8\u001b[0m     \u001b[0mprint\u001b[0m\u001b[0;34m(\u001b[0m\u001b[0mproc\u001b[0m\u001b[0;34m.\u001b[0m\u001b[0mstdout\u001b[0m\u001b[0;34m.\u001b[0m\u001b[0mread\u001b[0m\u001b[0;34m(\u001b[0m\u001b[0;34m)\u001b[0m\u001b[0;34m)\u001b[0m\u001b[0;34m\u001b[0m\u001b[0;34m\u001b[0m\u001b[0m\n",
      "\u001b[0;31mNameError\u001b[0m: name 'PIPE' is not defined"
     ]
    }
   ],
   "source": [
    "import subprocess\n",
    "\n",
    "local_port = 33510\n",
    "remote_ip = '10.127.122.175'\n",
    "\n",
    "cmd = 'ssh -N -f -L localhost:{}:localhost:9200 {}@{}'.format(local_port, 'admin', remote_ip)\n",
    "with subprocess.Popen(cmd.split(), stdout=PIPE) as proc:\n",
    "    print(proc.stdout.read())"
   ]
  },
  {
   "cell_type": "code",
   "execution_count": null,
   "metadata": {},
   "outputs": [],
   "source": []
  }
 ],
 "metadata": {
  "kernelspec": {
   "display_name": "Python 3",
   "language": "python",
   "name": "python3"
  },
  "language_info": {
   "codemirror_mode": {
    "name": "ipython",
    "version": 3
   },
   "file_extension": ".py",
   "mimetype": "text/x-python",
   "name": "python",
   "nbconvert_exporter": "python",
   "pygments_lexer": "ipython3",
   "version": "3.8.5"
  }
 },
 "nbformat": 4,
 "nbformat_minor": 4
}
